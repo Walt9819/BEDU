{
  "nbformat": 4,
  "nbformat_minor": 0,
  "metadata": {
    "kernelspec": {
      "display_name": "Python 3",
      "language": "python",
      "name": "python3"
    },
    "language_info": {
      "codemirror_mode": {
        "name": "ipython",
        "version": 3
      },
      "file_extension": ".py",
      "mimetype": "text/x-python",
      "name": "python",
      "nbconvert_exporter": "python",
      "pygments_lexer": "ipython3",
      "version": "3.8.3"
    },
    "colab": {
      "name": "estructuras_de_control_de_flujo.ipynb",
      "provenance": []
    }
  },
  "cells": [
    {
      "cell_type": "markdown",
      "metadata": {
        "id": "dF47HAbkBzPE"
      },
      "source": [
        "## Reto 5: Estructuras de control de flujo\n",
        "\n",
        "### 1. Objetivos:\n",
        "    - Entender el funcionamiento de las estructuras de control de flujo a través de un reto\n",
        " \n",
        "---\n",
        "    \n",
        "### 2. Desarrollo:"
      ]
    },
    {
      "cell_type": "markdown",
      "metadata": {
        "id": "oXSHpwDRBzPJ"
      },
      "source": [
        "#### 1. Comparaciones numéricas\n",
        "\n",
        "Vamos a imaginar que estamos analizando un conjunto de datos que contiene las ventas anuales en pesos de unos vendedores que trabajan en nuestra empresa. Obtenemos el total de ventas anuales en pesos y lo tenemos asignado a la variable `ventas_anuales_totales`. Escribe una estructura de control que nos diga de cuánto va a ser el bono de nuestro empleado.\n",
        "\n",
        "Si las ventas son mayores a `$`1,000,000 el bono será de 20% del sueldo; si son entre `$`700,000 y `$`1,000,000 el bono será de 15% del sueldo; entre `$`400,000 y `$`700,000 el bono será de 10% del sueldo; entre `$`100,00 y 400,000 el bono será de 5% del sueldo; y debajo de `$`100,000 el bono será del 1% del sueldo.\n",
        "\n",
        "Escribe tu estructura de control y, por ahora (más adelante tendremos más herramientas para hacer esto más interesante) imprime una string que diga de cuánto va a ser el bono.\n",
        "\n",
        "> Reto opcional: Agrega una variable `sueldo` que sea el sueldo de tu empleado y agrégale el porcentaje de bono a esa variable dependiendo de la condición que se cumpla. Después hasta el final imprime una string interpolada que diga algo como \"Felicidades, tu sueldo es x; tu bono es de x; y el total de sueldo con el bono incluido es de x\". ¡Para que esto funcione también debes de agregar una variable donde guardes la cantidad del bono!"
      ]
    },
    {
      "cell_type": "code",
      "metadata": {
        "id": "ZPB0av19BzPJ"
      },
      "source": [
        "ventas_anuales_totales = 100000\n",
        "\n",
        "# OPCIONAL\n",
        "sueldo = 10000"
      ],
      "execution_count": 2,
      "outputs": []
    },
    {
      "cell_type": "code",
      "metadata": {
        "id": "5vSPiIZkBzPK",
        "outputId": "4c53d977-c698-4081-db0a-3f936ce45f45",
        "colab": {
          "base_uri": "https://localhost:8080/"
        }
      },
      "source": [
        "if ventas_anuales_totales < 100000:\n",
        "  bono = 0.01\n",
        "elif ventas_anuales_totales < 400000:\n",
        "  bono = 0.05\n",
        "elif ventas_anuales_totales < 700000:\n",
        "  bono = 0.1\n",
        "elif ventas_anuales_totales < 1000000:\n",
        "  bono = 0.15\n",
        "else:\n",
        "  bono = 0.2\n",
        "\n",
        "nuevoSueldo = sueldo + bono * sueldo\n",
        "\n",
        "print(f\"El sueldo base del empleado es de ${sueldo}, y realizó ventas por ${ventas_anuales_totales}, lo que le dio un bono del {bono*100}% que corresponde a ${bono*sueldo} y por tanto el sueldo final fue de ${nuevoSueldo}\")"
      ],
      "execution_count": 5,
      "outputs": [
        {
          "output_type": "stream",
          "text": [
            "El sueldo base del empleado es de $10000, y realizó ventas por $100000, lo que le dio un bono del 5.0% que corresponde a $500.0 y por tanto el sueldo final fue de $10500.0\n"
          ],
          "name": "stdout"
        }
      ]
    },
    {
      "cell_type": "code",
      "metadata": {
        "id": "VYJ_CCddBzPK"
      },
      "source": [
        ""
      ],
      "execution_count": null,
      "outputs": []
    }
  ]
}