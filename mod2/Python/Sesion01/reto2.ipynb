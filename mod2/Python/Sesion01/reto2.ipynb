{
  "nbformat": 4,
  "nbformat_minor": 0,
  "metadata": {
    "kernelspec": {
      "display_name": "Python 3",
      "language": "python",
      "name": "python3"
    },
    "language_info": {
      "codemirror_mode": {
        "name": "ipython",
        "version": 3
      },
      "file_extension": ".py",
      "mimetype": "text/x-python",
      "name": "python",
      "nbconvert_exporter": "python",
      "pygments_lexer": "ipython3",
      "version": "3.8.3"
    },
    "colab": {
      "name": "operaciones_numericas.ipynb",
      "provenance": []
    }
  },
  "cells": [
    {
      "cell_type": "markdown",
      "metadata": {
        "id": "1-UWVTOzq5Lr"
      },
      "source": [
        "## Reto 2: Operaciones numéricas\n",
        "\n",
        "### 1. Objetivos:\n",
        "    - Practicar asignación de variables y operaciones aritméticas en Python\n",
        " \n",
        "---\n",
        "    \n",
        "### 2. Desarrollo:"
      ]
    },
    {
      "cell_type": "markdown",
      "metadata": {
        "id": "gBc9_VQWq5Lz"
      },
      "source": [
        "#### 1. Asignación de los números correctos\n",
        "\n",
        "A continuación, verás unas variables que tienen nombre pero que todavía no tienen ningún valor asignado:"
      ]
    },
    {
      "cell_type": "code",
      "metadata": {
        "id": "XhPoQ_VLq5Lz"
      },
      "source": [
        "var_1 = 4\n",
        "\n",
        "var_2 = 10\n",
        "\n",
        "var_3 = 6\n",
        "\n",
        "var_4 = 8\n",
        "\n",
        "var_5 = 2"
      ],
      "execution_count": 6,
      "outputs": []
    },
    {
      "cell_type": "markdown",
      "metadata": {
        "id": "k9gJkfteq5L0"
      },
      "source": [
        "Ahora, tenemos debajo operaciones aritméticas que se han realizado con estas variables, junto a los resultados numéricos que esperamos obtener de estas operaciones:"
      ]
    },
    {
      "cell_type": "code",
      "metadata": {
        "id": "ao9Rm_XTq5L0",
        "outputId": "6bc7a174-92fd-4122-bf3c-eb99ec4a40b2",
        "colab": {
          "base_uri": "https://localhost:8080/"
        }
      },
      "source": [
        "var_1 + var_2  # Resultado esperado: 14"
      ],
      "execution_count": 7,
      "outputs": [
        {
          "output_type": "execute_result",
          "data": {
            "text/plain": [
              "14"
            ]
          },
          "metadata": {
            "tags": []
          },
          "execution_count": 7
        }
      ]
    },
    {
      "cell_type": "code",
      "metadata": {
        "id": "M5f6DlwIq5L1",
        "outputId": "a9ee92d2-88a4-456a-b132-8a812441938b",
        "colab": {
          "base_uri": "https://localhost:8080/"
        }
      },
      "source": [
        "var_3 - var_2  # Resultado esperado: -4"
      ],
      "execution_count": 8,
      "outputs": [
        {
          "output_type": "execute_result",
          "data": {
            "text/plain": [
              "-4"
            ]
          },
          "metadata": {
            "tags": []
          },
          "execution_count": 8
        }
      ]
    },
    {
      "cell_type": "code",
      "metadata": {
        "id": "6UAoQUp_q5L1",
        "outputId": "2df855de-a6aa-4367-c717-9f5db21f5f3a",
        "colab": {
          "base_uri": "https://localhost:8080/"
        }
      },
      "source": [
        "var_3 * var_1  # Resultado esperado: 24"
      ],
      "execution_count": 9,
      "outputs": [
        {
          "output_type": "execute_result",
          "data": {
            "text/plain": [
              "24"
            ]
          },
          "metadata": {
            "tags": []
          },
          "execution_count": 9
        }
      ]
    },
    {
      "cell_type": "code",
      "metadata": {
        "id": "lZrT3ryYq5L1",
        "outputId": "c759a557-78c5-40a4-90bc-8ea57ce4aa2c",
        "colab": {
          "base_uri": "https://localhost:8080/"
        }
      },
      "source": [
        "var_5 + var_3  # Resultado esperado: 8"
      ],
      "execution_count": 10,
      "outputs": [
        {
          "output_type": "execute_result",
          "data": {
            "text/plain": [
              "8"
            ]
          },
          "metadata": {
            "tags": []
          },
          "execution_count": 10
        }
      ]
    },
    {
      "cell_type": "code",
      "metadata": {
        "id": "kia2JmEHq5L1",
        "outputId": "b245f3df-4ce3-4e9c-977b-43b53826e7c4",
        "colab": {
          "base_uri": "https://localhost:8080/"
        }
      },
      "source": [
        "var_4 / var_5  # Resultado esperado: 4"
      ],
      "execution_count": 11,
      "outputs": [
        {
          "output_type": "execute_result",
          "data": {
            "text/plain": [
              "4.0"
            ]
          },
          "metadata": {
            "tags": []
          },
          "execution_count": 11
        }
      ]
    },
    {
      "cell_type": "markdown",
      "metadata": {
        "id": "CATeF9Ueq5L2"
      },
      "source": [
        "El reto es asignar los números correctos a las variables de arriba de manera que al correr las celdas que contienen operaciones numéricas obtengamos los `Resultados esperados`.\n",
        "\n",
        ">*Tip*: Todos los números son pares"
      ]
    },
    {
      "cell_type": "code",
      "metadata": {
        "id": "09k--buhq5L2"
      },
      "source": [
        ""
      ],
      "execution_count": null,
      "outputs": []
    }
  ]
}