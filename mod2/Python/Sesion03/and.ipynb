{
  "nbformat": 4,
  "nbformat_minor": 0,
  "metadata": {
    "kernelspec": {
      "display_name": "Python 3",
      "language": "python",
      "name": "python3"
    },
    "language_info": {
      "codemirror_mode": {
        "name": "ipython",
        "version": 3
      },
      "file_extension": ".py",
      "mimetype": "text/x-python",
      "name": "python",
      "nbconvert_exporter": "python",
      "pygments_lexer": "ipython3",
      "version": "3.8.3"
    },
    "colab": {
      "name": "and.ipynb",
      "provenance": []
    }
  },
  "cells": [
    {
      "cell_type": "markdown",
      "metadata": {
        "id": "GivVUSHJ7RlL"
      },
      "source": [
        "## Reto 3: And\n",
        "\n",
        "### 1. Objetivos:\n",
        "    - Practicar el operador `and` y usarlo para realizar filtros más complejos\n",
        " \n",
        "---\n",
        "    \n",
        "### 2. Desarrollo:"
      ]
    },
    {
      "cell_type": "markdown",
      "metadata": {
        "id": "VKDTHbre7RlR"
      },
      "source": [
        "#### a) Filtrando valores atípicos en ambos extremos.\n",
        "\n",
        "Regresemos a nuestro ejemplo de EyePoker Inc. Esta vez tenemos un nuevo conjunto de datos con más empleados (la industria de picadores de ojos va en aumento vertiginoso). Además incluye los sueldos de algunos internos. Estos sueldos son muy bajos (simbólicos, podríamos llamarlos), como puedes ver:"
      ]
    },
    {
      "cell_type": "code",
      "metadata": {
        "id": "aZ70Ri537RlS"
      },
      "source": [
        "sueldos = [26, 32, 26, 1.5, 30, 30, 1, 2, 32, 28, 30, 28, 30, 28, 27, 30, 110, 1.5, 2, 34, 30, 28, 26, 28, 2, 30, 28, 85, 25, 1.5,\n",
        "           1.5, 30, 34, 34, 30, 30, 120, 28, 2, 2, 1.5, 28, 120, 1, 1.5, 125, 2, 1.5, 28, 29, 30, 34, 33, 28, 2, 1, 1.5, 26, 28,\n",
        "          26, 26, 30, 30, 28, 2, 2, 1.5, 2, 1.5, 28, 27, 130, 1.5, 2, 26, 26, 28, 30, 30, 30, 28, 28, 1, 1, 135, 1, 1, 1.5, 2,\n",
        "          2, 2, 1.5, 2]"
      ],
      "execution_count": 1,
      "outputs": []
    },
    {
      "cell_type": "markdown",
      "metadata": {
        "id": "zOUtA8HV7RlS"
      },
      "source": [
        "En realidad a nosotros sólo nos interesa analizar los sueldos de los empleados que tiene la empresa a largo plazo. Como tenemos bastantes internos, es muy probable que la inclusión de estos sueldos vaya a distorsionar nuestro cálculo del sueldo `típico` en la empresa:"
      ]
    },
    {
      "cell_type": "code",
      "metadata": {
        "id": "Id8q38mt7RlT",
        "outputId": "6925886d-15a4-4b5e-9b72-d9b579ab889e",
        "colab": {
          "base_uri": "https://localhost:8080/"
        }
      },
      "source": [
        "print(f'El sueldo \"típico\" en EyePoker Inc. es de {sum(sueldos) / len(sueldos)}')"
      ],
      "execution_count": 2,
      "outputs": [
        {
          "output_type": "stream",
          "text": [
            "El sueldo \"típico\" en EyePoker Inc. es de 25.36021505376344\n"
          ],
          "name": "stdout"
        }
      ]
    },
    {
      "cell_type": "markdown",
      "metadata": {
        "id": "40A58Kbf7RlT"
      },
      "source": [
        "Para evitar esta distorsión y calcular solamente el sueldo `típico` de los empleados que están contratados a largo plazo, vamos a filtrar nuestra lista.\n",
        "\n",
        "Lo que tienes que hacer es lo siguiente:\n",
        "\n",
        "1. Define una función que regrese `True` cuando el argumento sea mayor que 20.\n",
        "2. Define una función que regrese `True` cuando el argumento sea menor que 40.\n",
        "3. Define una tercera función que una las dos primeras funciones usando un operador `and`.\n",
        "4. Filtrar la lista y asignarla a `sueldos_filtrados`."
      ]
    },
    {
      "cell_type": "code",
      "metadata": {
        "id": "azzunlKo7RlT"
      },
      "source": [
        "def mayor_20(num):\n",
        "  return num > 20"
      ],
      "execution_count": 3,
      "outputs": []
    },
    {
      "cell_type": "code",
      "metadata": {
        "id": "TouWJQmV7RlU"
      },
      "source": [
        "def menor_40(num):\n",
        "  return num < 40"
      ],
      "execution_count": 4,
      "outputs": []
    },
    {
      "cell_type": "code",
      "metadata": {
        "id": "SKYOvEWs7RlU"
      },
      "source": [
        "def mayor_20_and_menor_40(num):\n",
        "  return (mayor_20(num) and menor_40(num))"
      ],
      "execution_count": 6,
      "outputs": []
    },
    {
      "cell_type": "code",
      "metadata": {
        "id": "w8tNiKBv7RlU"
      },
      "source": [
        "sueldos_filtrados = list(filter(mayor_20_and_menor_40, sueldos))"
      ],
      "execution_count": 7,
      "outputs": []
    },
    {
      "cell_type": "code",
      "metadata": {
        "id": "VWeZti3x7RlU",
        "outputId": "b40d223f-3a5e-4b66-8ccc-a68a8f3fcf46",
        "colab": {
          "base_uri": "https://localhost:8080/"
        }
      },
      "source": [
        "print(f'El sueldo \"típico\" en EyePoker Inc. es de {sum(sueldos_filtrados) / len(sueldos_filtrados)}')"
      ],
      "execution_count": 8,
      "outputs": [
        {
          "output_type": "stream",
          "text": [
            "El sueldo \"típico\" en EyePoker Inc. es de 28.96078431372549\n"
          ],
          "name": "stdout"
        }
      ]
    },
    {
      "cell_type": "code",
      "metadata": {
        "id": "NV5FfZMc7RlV"
      },
      "source": [
        ""
      ],
      "execution_count": null,
      "outputs": []
    }
  ]
}