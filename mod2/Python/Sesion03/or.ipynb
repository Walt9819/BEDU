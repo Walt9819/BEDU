{
  "nbformat": 4,
  "nbformat_minor": 0,
  "metadata": {
    "colab": {
      "name": "Untitled0.ipynb",
      "provenance": [],
      "collapsed_sections": []
    },
    "kernelspec": {
      "name": "python3",
      "display_name": "Python 3"
    }
  },
  "cells": [
    {
      "cell_type": "markdown",
      "metadata": {
        "id": "QcNnZ9TLDcf_"
      },
      "source": [
        "# Reto 3\r\n",
        "\r\n",
        "### Uso del operador lógico `or`"
      ]
    },
    {
      "cell_type": "markdown",
      "metadata": {
        "id": "xfIwRrVjDpEf"
      },
      "source": [
        "### Índice de obesidad Pókemon\r\n",
        "\r\n",
        "- Primeros 151 Pokémon\r\n",
        "- No incluir Snorlax (#143), Gyarados (#130) o Dragonite (#149)\r\n",
        "- No incluir Pokémon cuyo número termine en 0\r\n",
        "\r\n",
        "#### Modo leyenda: Filtrar por tipo roca"
      ]
    },
    {
      "cell_type": "code",
      "metadata": {
        "id": "vfKZjGmaDbuF"
      },
      "source": [
        "import requests\r\n",
        "def get_pokemon(num):\r\n",
        "    return requests.get(f\"https://pokeapi.co/api/v2/pokemon/{num}\").json()\r\n",
        "\r\n",
        "not_list = [\"snorlax\", \"gyarados\", \"dragonite\"]\r\n",
        "\r\n",
        "def pokemon_in_list(num):\r\n",
        "    if num % 10 != 0:\r\n",
        "      return not get_pokemon(num)[\"name\"] in not_list\r\n",
        "    return False\r\n",
        "\r\n",
        "def get_pokemon_weight(num):\r\n",
        "    return get_pokemon(num)[\"weight\"]"
      ],
      "execution_count": 17,
      "outputs": []
    },
    {
      "cell_type": "code",
      "metadata": {
        "colab": {
          "base_uri": "https://localhost:8080/"
        },
        "id": "3HoRCOTDEUON",
        "outputId": "495a2358-8a2b-4a21-8bad-3201ccadc364"
      },
      "source": [
        "weights = list(map(get_pokemon_weight, filter(pokemon_in_list, [i for i in range(1, 152)])))\r\n",
        "print(f\"Peso promedio: {sum(weights)/len(weights)}\") # sin considerar el tipo"
      ],
      "execution_count": 26,
      "outputs": [
        {
          "output_type": "stream",
          "text": [
            "Peso promedio: 424.64925373134326\n",
            "Peso promedio: 424.64925373134326\n"
          ],
          "name": "stdout"
        }
      ]
    },
    {
      "cell_type": "code",
      "metadata": {
        "colab": {
          "base_uri": "https://localhost:8080/"
        },
        "id": "cKTuHlBkKjNW",
        "outputId": "0cbb4316-195b-4a45-d3f2-23b45b9f80aa"
      },
      "source": [
        "filter_type = \"rock\" # only accepted type\r\n",
        "\r\n",
        "def pokemon_by_type(num):\r\n",
        "    pok = get_pokemon(num)\r\n",
        "    for i in range(len(pok[\"types\"])):\r\n",
        "      if pok[\"types\"][i][\"type\"][\"name\"] == filter_type:\r\n",
        "        return True\r\n",
        "    return False\r\n",
        "\r\n",
        "weights = list(map(get_pokemon_weight, filter(pokemon_by_type, [i for i in range(1, 152)])))\r\n",
        "print(f\"Peso promedio: {sum(weights)/len(weights)}\") # considerando solo tipo roca"
      ],
      "execution_count": 39,
      "outputs": [
        {
          "output_type": "stream",
          "text": [
            "Peso promedio: 930.4545454545455\n"
          ],
          "name": "stdout"
        }
      ]
    }
  ]
}