{
  "nbformat": 4,
  "nbformat_minor": 0,
  "metadata": {
    "kernelspec": {
      "display_name": "Python 3",
      "language": "python",
      "name": "python3"
    },
    "language_info": {
      "codemirror_mode": {
        "name": "ipython",
        "version": 3
      },
      "file_extension": ".py",
      "mimetype": "text/x-python",
      "name": "python",
      "nbconvert_exporter": "python",
      "pygments_lexer": "ipython3",
      "version": "3.8.3"
    },
    "colab": {
      "name": "for_loop.ipynb",
      "provenance": []
    }
  },
  "cells": [
    {
      "cell_type": "markdown",
      "metadata": {
        "id": "JHeDkXdtO9dc"
      },
      "source": [
        "## Reto 2: Automatizando con `for loops`\n",
        "\n",
        "### 1. Objetivos:\n",
        "    - Automatizar un proceso sencillo usando `for loops`\n",
        " \n",
        "---\n",
        "    \n",
        "### 2. Desarrollo:"
      ]
    },
    {
      "cell_type": "markdown",
      "metadata": {
        "id": "JpJ-W7B-O9dj"
      },
      "source": [
        "### a) Potencias de 2\n",
        "\n",
        "Las potencias de 2 son sumamente importantes en el mundo computacional. Dado que las computadoras trabajan con lenguaje binario, gran parte del funcionamiento interno de las computadoras funciona con potencias de 2. He aquí una pequeña muestra de las primeras potencias de 2:\n",
        "\n",
        "- 2<sup>0</sup> = 1\n",
        "- 2<sup>1</sup> = 2\n",
        "- 2<sup>2</sup> = 4\n",
        "- 2<sup>3</sup> = 8\n",
        "- 2<sup>4</sup> = 16\n",
        "- 2<sup>5</sup> = 32\n",
        "- 2<sup>6</sup> = 64\n",
        "- 2<sup>7</sup> = 128\n",
        "- 2<sup>8</sup> = 256"
      ]
    },
    {
      "cell_type": "markdown",
      "metadata": {
        "id": "qyyh4yejO9dl"
      },
      "source": [
        "Tu reto es completar la función `potencia_de_dos`. Esta función recibe el exponente (el número pequeño al lado del 2) y regresa el resultado de 2 elevado a esa potencia. El detalle es que no puedes usar ningún operador o función que compute exponentes (como `**` o `np.power`), sino que tienes que realizar el cálculo utilizando 1 `bloque if` y 1 `for loop`. Completa el código debajo.\n",
        "\n",
        "> **Nota**: Tu función sólo debe computar exponentes positivos"
      ]
    },
    {
      "cell_type": "code",
      "metadata": {
        "id": "ISGJ26lpO9dm"
      },
      "source": [
        "def potencia_de_dos(exponente):\n",
        "    neg = exponente < 0\n",
        "    exponente = -exponente if neg else exponente\n",
        "    resultado = 1\n",
        "    if exponente >= 1:\n",
        "        for i in range(0, exponente):\n",
        "            resultado = resultado * 2 if not neg else resultado / 2\n",
        "    elif exponente == 0:\n",
        "        resultado = 1\n",
        "    return resultado\n",
        "\n",
        "def rec_potencia_de_dos(exponente):\n",
        "    if exponente == 0:\n",
        "        return 1\n",
        "    neg = exponente < 0\n",
        "    n_exp = exponente + 1 if neg else exponente - 1\n",
        "    return rec_potencia_de_dos(n_exp) / 2 if neg else rec_potencia_de_dos(n_exp) * 2"
      ],
      "execution_count": 40,
      "outputs": []
    },
    {
      "cell_type": "markdown",
      "metadata": {
        "id": "eScsLAlxO9dm"
      },
      "source": [
        "Pídele a tu experta la función de verificación `revisar_potencia_de_dos` (encontrada en el archivo `helpers.py` de la carpeta donde se encuentra este Reto), pégala debajo y corre la celda para verificar tu resultado:"
      ]
    },
    {
      "cell_type": "code",
      "metadata": {
        "id": "ov5ncTdpO9dn",
        "outputId": "72e97300-25f3-432a-ef6a-a31cef161586",
        "colab": {
          "base_uri": "https://localhost:8080/"
        }
      },
      "source": [
        "def revisar_potencia_de_dos(potencia_de_dos):\n",
        "    \n",
        "    import numpy as np\n",
        "    \n",
        "    if potencia_de_dos(0) != np.power(2, 0):\n",
        "        print(f'Error!')\n",
        "        print(f'Computando 2^0 ... Resultado esperado: {np.power(2, 0)} - Resultado obtenido {potencia_de_dos(0)}')\n",
        "        return\n",
        "    \n",
        "    if potencia_de_dos(2) != np.power(2, 2):\n",
        "        print(f'Error!')\n",
        "        print(f'Computando 2^2 ... Resultado esperado: {np.power(2, 2)} - Resultado obtenido {potencia_de_dos(2)}')\n",
        "        return\n",
        "    \n",
        "    if potencia_de_dos(8) != np.power(2, 8):\n",
        "        print(f'Error!')\n",
        "        print(f'Computando 2^8 ... Resultado esperado: {np.power(2, 8)} - Resultado obtenido {potencia_de_dos(8)}')\n",
        "        return\n",
        "    \n",
        "    if potencia_de_dos(16) != np.power(2, 16):\n",
        "        print(f'Error!')\n",
        "        print(f'Computando 2^16 ... Resultado esperado: {np.power(2, 16)} - Resultado obtenido {potencia_de_dos(16)}')\n",
        "        return\n",
        "    \n",
        "    if potencia_de_dos(56) != np.power(2, 56):\n",
        "        print(f'Error!')\n",
        "        print(f'Computando 2^256 ... Resultado esperado: {np.power(2, 256)} - Resultado obtenido {potencia_de_dos(256)}')\n",
        "        return\n",
        "        \n",
        "    print(f'La funcion es correcta!')\n",
        "\n",
        "revisar_potencia_de_dos(potencia_de_dos)\n",
        "revisar_potencia_de_dos(rec_potencia_de_dos)"
      ],
      "execution_count": 51,
      "outputs": [
        {
          "output_type": "stream",
          "text": [
            "La funcion es correcta!\n",
            "La funcion es correcta!\n"
          ],
          "name": "stdout"
        }
      ]
    },
    {
      "cell_type": "code",
      "metadata": {
        "id": "FzcCQlRqO9dn",
        "outputId": "5d06d5b9-5f9f-484b-c2f5-719b8e51ca1d",
        "colab": {
          "base_uri": "https://localhost:8080/"
        }
      },
      "source": [
        "def test_neg(potencia_dos):\r\n",
        "  import numpy as np\r\n",
        "  for i in [1, 2, 8, 16, 56]:\r\n",
        "    if potencia_de_dos(-i) != np.power(2., -i):\r\n",
        "        print(f\"Error!\")\r\n",
        "        print(f'Computando 2^{-i} ... Resultado esperado: {np.power(2., -i)} - Resultado obtenido {potencia_de_dos(-i)}')\r\n",
        "        return\r\n",
        "  print(\"La función es correcta!\")\r\n",
        "\r\n",
        "test_neg(potencia_de_dos)\r\n",
        "test_neg(rec_potencia_de_dos)"
      ],
      "execution_count": 50,
      "outputs": [
        {
          "output_type": "stream",
          "text": [
            "La función es correcta!\n",
            "La función es correcta!\n"
          ],
          "name": "stdout"
        }
      ]
    }
  ]
}