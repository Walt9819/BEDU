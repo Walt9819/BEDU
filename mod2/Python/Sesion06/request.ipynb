{
  "nbformat": 4,
  "nbformat_minor": 0,
  "metadata": {
    "kernelspec": {
      "display_name": "Python 3",
      "language": "python",
      "name": "python3"
    },
    "language_info": {
      "codemirror_mode": {
        "name": "ipython",
        "version": 3
      },
      "file_extension": ".py",
      "mimetype": "text/x-python",
      "name": "python",
      "nbconvert_exporter": "python",
      "pygments_lexer": "ipython3",
      "version": "3.8.3"
    },
    "colab": {
      "name": "request.ipynb",
      "provenance": []
    }
  },
  "cells": [
    {
      "cell_type": "markdown",
      "metadata": {
        "id": "EmI6UqpqLNl9"
      },
      "source": [
        "## Reto 1: Peticiones a una API usando requests\n",
        "\n",
        "### 1. Objetivos:\n",
        "    - Usar la librería Requests para hacer una petición HTTP a una API\n",
        " \n",
        "---\n",
        "    \n",
        "### 2. Desarrollo:"
      ]
    },
    {
      "cell_type": "markdown",
      "metadata": {
        "id": "ZltgYiB9LNmE"
      },
      "source": [
        "### a) Petición HTTP a API de NASA\n",
        "\n",
        "Vamos a implementar un programa que realice una llamada HTTP a la API de NASA.\n",
        "\n",
        "Puedes leer la documentación de la API [aquí](https://api.nasa.gov/), bajo el título de \"Asteroids NeoWs\"."
      ]
    },
    {
      "cell_type": "code",
      "metadata": {
        "id": "0zjTHbI0LNmE"
      },
      "source": [
        "import requests\r\n",
        "import pandas as pd"
      ],
      "execution_count": 7,
      "outputs": []
    },
    {
      "cell_type": "markdown",
      "metadata": {
        "id": "XkoAo7uQLNmF"
      },
      "source": [
        "Tu reto consiste en los siguientes pasos:\n",
        "\n",
        "1. Crea una cuenta en el API de NASA para obtener tu propia API Key. Copia la API Key en la celda debajo para que no la pierdas:"
      ]
    },
    {
      "cell_type": "code",
      "metadata": {
        "id": "8SXz5T6BLNmG"
      },
      "source": [
        "api_key = \"TOKnbLw65T7JeLKlWapWyhHrLb5q33uRkckHpYkG\""
      ],
      "execution_count": 3,
      "outputs": []
    },
    {
      "cell_type": "markdown",
      "metadata": {
        "id": "K87-cvuKLNmH"
      },
      "source": [
        "2. Asigna la variable `endpoint` -donde tendrás el URL base de la API de NASA- y la variable `payload` -donde tendrás el diccionario que usarás para pasar parámetros a tu petición.\n",
        "\n",
        "3. Usa tu diccionario `payload` para agregar los parámetros necesarios para pedir la hoja número 100 de la API. Durante el ejemplo, pedimos simplemente la primera hoja. En esta ocasión, debes de descubrir que parámetros requieres pasarle para obtener la hoja #100. Además queremos que el número de resultados que nos regresen sea menor al default. El default es 20, pero tú tienes que mandar los parámetros adecuados para que te regresen solamente 5 resultados"
      ]
    },
    {
      "cell_type": "code",
      "metadata": {
        "id": "PB2Oa98ELNmH"
      },
      "source": [
        "endpoint = \"https://api.nasa.gov/neo/rest/v1/neo/browse/\"\n",
        "payload = {\"api_key\": api_key, \"page\": 100, \"size\": 5}"
      ],
      "execution_count": 4,
      "outputs": []
    },
    {
      "cell_type": "markdown",
      "metadata": {
        "id": "ynjg9A47LNmI"
      },
      "source": [
        "4. Realiza tu petición HTTP aquí debajo y checa tu código de respuesta para asegurarte de que la petición se haya hecho exitosamente:"
      ]
    },
    {
      "cell_type": "code",
      "metadata": {
        "id": "lHqKNLuoLNmI",
        "outputId": "ca76fc32-c232-4746-cf63-99f8b2b93808",
        "colab": {
          "base_uri": "https://localhost:8080/"
        }
      },
      "source": [
        "r = requests.get(endpoint, payload)\r\n",
        "r.status_code # get the status code from request"
      ],
      "execution_count": 6,
      "outputs": [
        {
          "output_type": "execute_result",
          "data": {
            "text/plain": [
              "200"
            ]
          },
          "metadata": {
            "tags": []
          },
          "execution_count": 6
        }
      ]
    },
    {
      "cell_type": "markdown",
      "metadata": {
        "id": "YDj87kWeLNmI"
      },
      "source": [
        "5. Si todo ha salido bien, extrae tus datos, normalízalos, crea un `DataFrame` con ellos y asígnalo a `objetos`. Revisa que solamente tengas 5 filas, para saber que tu petición se realizó exitosamente:"
      ]
    },
    {
      "cell_type": "code",
      "metadata": {
        "id": "9T_kPumRLNmI",
        "outputId": "1cf5e0b3-663f-48f5-8f05-a8ff20c34d2f",
        "colab": {
          "base_uri": "https://localhost:8080/"
        }
      },
      "source": [
        "data = r.json()[\"near_earth_objects\"] # Get information from json file\r\n",
        "objetos = pd.DataFrame.from_dict(pd.json_normalize(data)) # Convert data to df \r\n",
        "objetos.head() # Display df\r\n",
        "objetos.shape # Check if only 5 results was given"
      ],
      "execution_count": 12,
      "outputs": [
        {
          "output_type": "execute_result",
          "data": {
            "text/plain": [
              "(5, 43)"
            ]
          },
          "metadata": {
            "tags": []
          },
          "execution_count": 12
        }
      ]
    },
    {
      "cell_type": "markdown",
      "metadata": {
        "id": "QWWkbZ-OLNmJ"
      },
      "source": [
        "6. Pídele a tu experta la función de verificación `visualizar_diametros` (encontrada en el archivo `helpers.py` de la carpeta donde se encuentra este Reto), pégala debajo y corre la celda para verificar tu resultado:"
      ]
    },
    {
      "cell_type": "code",
      "metadata": {
        "id": "5EWskuFzLNmJ",
        "outputId": "e4fbc857-575f-44e5-a66e-d5e51fbd0c5b",
        "colab": {
          "base_uri": "https://localhost:8080/",
          "height": 371
        }
      },
      "source": [
        "def visualizar_diametros(objetos):\n",
        "    \n",
        "    import seaborn as sns\n",
        "    \n",
        "    sizes = objetos[['name', 'estimated_diameter.kilometers.estimated_diameter_max']].copy()\n",
        "    sizes.sort_values('estimated_diameter.kilometers.estimated_diameter_max', ascending=True, inplace=True)\n",
        "    sns.barplot(sizes['name'], sizes['estimated_diameter.kilometers.estimated_diameter_max'])\n",
        "\n",
        "visualizar_diametros(objetos)"
      ],
      "execution_count": 13,
      "outputs": [
        {
          "output_type": "stream",
          "text": [
            "/usr/local/lib/python3.7/dist-packages/seaborn/_decorators.py:43: FutureWarning: Pass the following variables as keyword args: x, y. From version 0.12, the only valid positional argument will be `data`, and passing other arguments without an explicit keyword will result in an error or misinterpretation.\n",
            "  FutureWarning\n"
          ],
          "name": "stderr"
        },
        {
          "output_type": "display_data",
          "data": {
            "image/png": "[encoded data removed]",
            "text/plain": [
              "<Figure size 432x288 with 1 Axes>"
            ]
          },
          "metadata": {
            "tags": [],
            "needs_background": "light"
          }
        }
      ]
    },
    {
      "cell_type": "code",
      "metadata": {
        "id": "V0mqrr02LNmJ"
      },
      "source": [
        ""
      ],
      "execution_count": null,
      "outputs": []
    }
  ]
}