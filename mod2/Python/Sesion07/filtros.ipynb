{
  "nbformat": 4,
  "nbformat_minor": 0,
  "metadata": {
    "kernelspec": {
      "display_name": "Python 3",
      "language": "python",
      "name": "python3"
    },
    "language_info": {
      "codemirror_mode": {
        "name": "ipython",
        "version": 3
      },
      "file_extension": ".py",
      "mimetype": "text/x-python",
      "name": "python",
      "nbconvert_exporter": "python",
      "pygments_lexer": "ipython3",
      "version": "3.8.3"
    },
    "colab": {
      "name": "filtros.ipynb",
      "provenance": []
    }
  },
  "cells": [
    {
      "cell_type": "markdown",
      "metadata": {
        "id": "2SidPa2aQQCx"
      },
      "source": [
        "## Reto 5: Filtros\n",
        "\n",
        "### 1. Objetivos:\n",
        "    - Practicar el uso de filtros para la obtención de subconjuntos de datos\n",
        "    \n",
        "---\n",
        "    \n",
        "### 2. Desarrollo:"
      ]
    },
    {
      "cell_type": "markdown",
      "metadata": {
        "id": "KK5SSA9rQQC3"
      },
      "source": [
        "#### a) Filtrando por fechas, booleanos y valores numéricos\n",
        "\n",
        "Vamos a trabajar con el mismo dataset que guardaste del Reto anterior. Este Reto consiste en los siguiente:\n",
        "\n",
        "Usando filtros, crea 3 subconjuntos de datos:\n",
        "\n",
        "1. Un subconjunto llamado `df_hazardous` que contenga sólo los records que correspondan a los objetos donde `is_potentially_hazardous_asteroid` sea `True` (o `1`).\n",
        "2. Un subconjunto llamado `df_greater_than_1000` que contenga sólo los records donde el `estimated_diameter.meters.estimated_diameter_max` sea mayor a 1000 metros.\n",
        "3. Un subconjunto llamado `df_february` que contenga sólo los records que pertenezcan exactamente al mes de Febrero de 1995. Recuerda que los datos en la columna `epoch_date_close_approach` están en milisegundos.\n"
      ]
    },
    {
      "cell_type": "code",
      "metadata": {
        "id": "sH_5CO1FQTvK"
      },
      "source": [
        "import pandas as pd\r\n",
        "df = pd.read_csv(\"https://raw.githubusercontent.com/Walt9819/BEDU/main/mod2/Python/Sesion07/results_4.csv\")"
      ],
      "execution_count": 20,
      "outputs": []
    },
    {
      "cell_type": "code",
      "metadata": {
        "id": "l9ISmRV8QQC4"
      },
      "source": [
        "df_hazardous = df[df[\"is_potentially_hazardous_asteroid\"] == 1]"
      ],
      "execution_count": 21,
      "outputs": []
    },
    {
      "cell_type": "code",
      "metadata": {
        "id": "Syd1f5AhQQC4"
      },
      "source": [
        "df_bigger_than_1000 = df[df[\"estimated_diameter.meters.estimated_diameter_max\"] > 1000]"
      ],
      "execution_count": 22,
      "outputs": []
    },
    {
      "cell_type": "code",
      "metadata": {
        "id": "cxk-Qu3PQQC5",
        "outputId": "1c16bf9f-578f-4d93-94c0-b320d5b930db",
        "colab": {
          "base_uri": "https://localhost:8080/"
        }
      },
      "source": [
        "def has_date_february_1995(date):\r\n",
        "  return date.year == 1995 and date.month == 2\r\n",
        "\r\n",
        "def to_ms(date):\r\n",
        "  return date.timestamp() * 1000\r\n",
        "\r\n",
        "df[\"epoch_date_close_approach\"] = pd.to_datetime(df[\"epoch_date_close_approach\"])\r\n",
        "\r\n",
        "df_february = df[df[\"epoch_date_close_approach\"].apply(has_date_february_1995)]\r\n",
        "df_february['epoch_date_close_approach'] = df_february['epoch_date_close_approach'].apply(to_ms)"
      ],
      "execution_count": 38,
      "outputs": [
        {
          "output_type": "stream",
          "text": [
            "/usr/local/lib/python3.7/dist-packages/ipykernel_launcher.py:10: SettingWithCopyWarning: \n",
            "A value is trying to be set on a copy of a slice from a DataFrame.\n",
            "Try using .loc[row_indexer,col_indexer] = value instead\n",
            "\n",
            "See the caveats in the documentation: https://pandas.pydata.org/pandas-docs/stable/user_guide/indexing.html#returning-a-view-versus-a-copy\n",
            "  # Remove the CWD from sys.path while we load stuff.\n"
          ],
          "name": "stderr"
        }
      ]
    },
    {
      "cell_type": "markdown",
      "metadata": {
        "id": "F4ohdMm5QQC5"
      },
      "source": [
        "Pídele a tu experta la función de verificación `checar_subconjuntos` (encontrada en el archivo `helpers.py` de la carpeta donde se encuentra este Reto), pégala debajo y corre la celda para verificar tu resultado:"
      ]
    },
    {
      "cell_type": "code",
      "metadata": {
        "id": "0UFTvzrUQQC5",
        "outputId": "f3fe8919-6945-46a2-e247-99d41467e825",
        "colab": {
          "base_uri": "https://localhost:8080/"
        }
      },
      "source": [
        "def checar_subconjuntos(df_february, df_hazardous, df_bigger_than_1000):\n",
        "    \n",
        "    import pandas as pd\n",
        "\n",
        "    assert (df_hazardous['is_potentially_hazardous_asteroid'] == 0).sum() == 0, 'Algunos records en `df_hazardous` pertenecen a objetos donde is_potentially_hazardous_asteroid es `False`'\n",
        "    assert (df_hazardous['is_potentially_hazardous_asteroid'] == 1).sum() > 0, 'No hay ningun record en `df_hazardous` donde is_potentially_hazardous_asteroid sea `True`'\n",
        "    \n",
        "    assert (df_bigger_than_1000['estimated_diameter.meters.estimated_diameter_max'] <= 1000).sum() == 0, 'Algunos records en `df_bigger_than_1000` pertenecen a objetos con diámetro menor a 1000 metros'\n",
        "    assert (df_bigger_than_1000['estimated_diameter.meters.estimated_diameter_max'] > 1000).sum() > 0, 'No hay ningún record en `df_bigger_than_1000` que pertenezca a objetos con diámetro mayor a 1000 metros'\n",
        "    \n",
        "    february = pd.to_datetime('1995-02-01', format='%Y-%m-%d').timestamp() * 1000\n",
        "    march = pd.to_datetime('1995-03-01', format='%Y-%m-%d').timestamp() * 1000 \n",
        "    \n",
        "    assert (df_february['epoch_date_close_approach'] < february).sum() == 0, 'Algunos records de `df_february` pertenecen a meses anteriores a Febrero de 1995'\n",
        "    assert (df_february['epoch_date_close_approach'] >= march).sum() == 0, 'Algunos records de `df_february` pertenecen a meses posteriores a Febrero de 1995'\n",
        "    \n",
        "    print('Todos tus subconjuntos son correctos. ¡Gran trabajo!')\n",
        "\n",
        "checar_subconjuntos(df_february, df_hazardous, df_bigger_than_1000)"
      ],
      "execution_count": 39,
      "outputs": [
        {
          "output_type": "stream",
          "text": [
            "Todos tus subconjuntos son correctos. ¡Gran trabajo!\n"
          ],
          "name": "stdout"
        }
      ]
    }
  ]
}