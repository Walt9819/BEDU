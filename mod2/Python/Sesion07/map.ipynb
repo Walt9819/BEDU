{
 "cells": [
  {
   "cell_type": "markdown",
   "metadata": {
    "id": "6Cx1ZvrzD0rE"
   },
   "source": [
    "## Reto 3: Map\n",
    "\n",
    "### 1. Objetivos:\n",
    "    - Practicar el uso del método `map` para mapear un dato a otro dato que le corresponde.\n",
    "    \n",
    "---\n",
    "    \n",
    "### 2. Desarrollo:"
   ]
  },
  {
   "cell_type": "markdown",
   "metadata": {
    "id": "a8_PG2XJD0rJ"
   },
   "source": [
    "#### a) Booleanos a numéricos\n",
    "\n",
    "Vamos a trabajar sobre el dataset que guardaste en el Reto anterior. Esta vez tu Reto es muy sencillo:\n",
    "\n",
    "1. La columna `is_potentially_hazardous_asteroid` tiene valores `booleanos`. Crea un diccionario de mapeo donde hagas un correspondencia de cada valor `booleano` con su equivalente numérico y transforma esa columna.\n",
    "2. Usa una función para mapear la columna `relative_velocity.kilometers_per_hour` a una nueva columna llamada `relative_velocity.kilometers_per_minute`, que contenga la velocidad del objeto en kilómetros por minuto.\n",
    "3. Guarda tu `DataFrame` resultante en la variable `df_reto_3`.\n",
    "4. Guarda tu resultado en un archivo .csv."
   ]
  },
  {
   "cell_type": "code",
   "execution_count": 1,
   "metadata": {
    "id": "QY7zxMlFD8Oc"
   },
   "outputs": [],
   "source": [
    "import pandas as pd\n",
    "df_reto_2 = pd.read_csv(\"https://raw.githubusercontent.com/Walt9819/BEDU/main/mod2/Python/Sesion07/results_2.csv\")"
   ]
  },
  {
   "cell_type": "code",
   "execution_count": 2,
   "metadata": {
    "id": "OoCHRlfOEI17"
   },
   "outputs": [],
   "source": [
    "def bool_to_num(val):\n",
    "  return 1 if val else 0\n",
    "\n",
    "def km_per_hour_to_per_min(km_hr):\n",
    "  return km_hr / 60"
   ]
  },
  {
   "cell_type": "code",
   "execution_count": 3,
   "metadata": {
    "id": "PPGqSRpRD0rK"
   },
   "outputs": [],
   "source": [
    "df_reto_2[\"is_potentially_hazardous_asteroid\"] = df_reto_2[\"is_potentially_hazardous_asteroid\"].map(bool_to_num)\n",
    "df_reto_2[\"relative_velocity.kilometers_per_minute\"] = df_reto_2[\"relative_velocity.kilometers_per_hour\"].map(km_per_hour_to_per_min)\n",
    "df_reto_3 = df_reto_2"
   ]
  },
  {
   "cell_type": "code",
   "execution_count": 4,
   "metadata": {
    "id": "yoUj2SADFHdU"
   },
   "outputs": [],
   "source": [
    "df_reto_3.to_csv(\"results_3.csv\", encoding=\"utf-8\", index=False)"
   ]
  },
  {
   "cell_type": "markdown",
   "metadata": {
    "id": "yrS2OXHDD0rL"
   },
   "source": [
    "Pídele a tu experta la función de verificación `revisar_resultados` (encontrada en el archivo `helpers.py` de la carpeta donde se encuentra este Reto), pégala debajo y corre la celda para verificar tu resultado:"
   ]
  },
  {
   "cell_type": "code",
   "execution_count": 5,
   "metadata": {
    "colab": {
     "base_uri": "https://localhost:8080/"
    },
    "id": "HOkE4L2hD0rL",
    "outputId": "2be76792-b2e1-481d-9ba5-0af8c5f6bb20"
   },
   "outputs": [
    {
     "name": "stdout",
     "output_type": "stream",
     "text": [
      "Todos los procesos fueron realizados exitosamente!\n"
     ]
    }
   ],
   "source": [
    "def revisar_resultados(df_reto_3):\n",
    "    \n",
    "    import pandas as np\n",
    "    import pandas.api.types as pdtypes\n",
    "    \n",
    "    assert pdtypes.is_int64_dtype(df_reto_3['is_potentially_hazardous_asteroid']), 'La columna \"is_potentially_hazardous_asteroid\" no ha sido transformada a tipo numerico'\n",
    "    assert len(df_reto_3['is_potentially_hazardous_asteroid'].unique()) == 2, 'Hubo un error con la correspondencia de valores booleanos a numéricos. Hay más de dos valores posibles en la columna resultante'\n",
    "    assert df_reto_3['relative_velocity.kilometers_per_minute'].equals(df_reto_3['relative_velocity.kilometers_per_hour'] / 60), 'La conversión de kilometros por hora a kilómetros por minuto no fue realizada correctamente'\n",
    "    \n",
    "    print(f'Todos los procesos fueron realizados exitosamente!')\n",
    "\n",
    "revisar_resultados(df_reto_3)"
   ]
  }
 ],
 "metadata": {
  "colab": {
   "name": "map.ipynb",
   "provenance": []
  },
  "kernelspec": {
   "display_name": "Python 3",
   "language": "python",
   "name": "python3"
  },
  "language_info": {
   "codemirror_mode": {
    "name": "ipython",
    "version": 3
   },
   "file_extension": ".py",
   "mimetype": "text/x-python",
   "name": "python",
   "nbconvert_exporter": "python",
   "pygments_lexer": "ipython3",
   "version": "3.8.5"
  }
 },
 "nbformat": 4,
 "nbformat_minor": 1
}
