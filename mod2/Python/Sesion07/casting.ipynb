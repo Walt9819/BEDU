{
 "cells": [
  {
   "cell_type": "markdown",
   "metadata": {
    "id": "KE6pnZsFvecV"
   },
   "source": [
    "## Reto 1: Casting\n",
    "\n",
    "### 1. Objetivos:\n",
    "    - Aplicar diversas técnicas de casting a un dataset nuevo\n",
    " \n",
    "---\n",
    "    \n",
    "### 2. Desarrollo:"
   ]
  },
  {
   "cell_type": "markdown",
   "metadata": {
    "id": "0db9TG0_veck"
   },
   "source": [
    "#### a) Transformando tipos de datos\n",
    "\n",
    "Vamos a trabajar con una versión un poco modificada del dataset que creaste en la sesión pasada. Si bien recuerdas, al final de la sesión pasada automatizamos un programa de Python para obtener un `DataFrame` con todos los objetos que orbitaron cerca de la Tierra en Enero y Febrero de 1995. Para construir este dataset, usamos el API gratuito que ofrece la [NASA](https://api.nasa.gov/).\n",
    "\n",
    "Me tomé la libertad de modificar un poco dicho dataset para que pudiera ser utilizado más efectivamente para los fines de esta sesión. Encontrarás la versión modificada en la ruta '../../Datasets/near_earth_objects-jan_feb_1995-dirty.csv'. Todos los Retos de esta sesión los harás con ese conjunto de datos.\n",
    "\n",
    "Te recomiendo que al finalizar cada reto guardes la nueva versión modificada de tu dataset bajo un nombre que indique el reto realizado (por ejemplo, 'near_earth_objects-jan_feb_1995-reto_1.csv'), para que puedas ir trabajando incrementalmente a través de los retos y no tengas que repetir procesos. Puedes guardar conjuntos de datos en formato `csv` usando el método `DataFrame.to_csv('ruta')`."
   ]
  },
  {
   "cell_type": "markdown",
   "metadata": {
    "id": "_OLotQqkveck"
   },
   "source": [
    "Tu primer Reto consistirá en seguir los siguientes pasos:\n",
    "\n",
    "1. Lee el dataset y crea un `DataFrame` con él.\n",
    "2. Realiza una pequeña exploración para familiarizarte con él.\n",
    "3. Convierte la columna `relative_velocity.kilometers_per_hour` de `object` a `float64`.\n",
    "4. Convierte la columna `close_approach_date` a tipo de dato `datetime64[ms]` usando el método `astype` y un diccionario de conversión.\n",
    "5. Convierte la columna `epoch_date_close_approach` a tipo de dato `datetime64[ms]` usando el método `to_datetime`.\n",
    "6. Asigna el `DataFrame` resultante a la variable `df_reto_1`.\n",
    "7. Guarda tu resultado en un archivo .csv."
   ]
  },
  {
   "cell_type": "code",
   "execution_count": 1,
   "metadata": {
    "id": "qTDK2tNyvecl"
   },
   "outputs": [],
   "source": [
    "import pandas as pd\n",
    "\n",
    "df_reto_1 = pd.read_csv(\"https://raw.githubusercontent.com/beduExpert/Procesamiento-de-Datos-con-Python-Santander/master/Datasets/near_earth_objects-jan_feb_1995-dirty.csv\")"
   ]
  },
  {
   "cell_type": "code",
   "execution_count": 2,
   "metadata": {
    "colab": {
     "base_uri": "https://localhost:8080/"
    },
    "id": "65R3KB2fwA3Q",
    "outputId": "b3c9c187-1839-4abb-f6be-72e1c1c23f23"
   },
   "outputs": [],
   "source": [
    "#df_reto_1[\"relative_velocity.kilometers_per_hour\"].unique() # check possible values\n",
    "df_reto_1 = df_reto_1[(df_reto_1[\"relative_velocity.kilometers_per_hour\"] != \"Unknown\")] # delete not desired values\n",
    "df_reto_1[\"relative_velocity.kilometers_per_hour\"] = df_reto_1[\"relative_velocity.kilometers_per_hour\"].astype(\"float64\") # convert to float\n",
    "types = df_reto_1.dtypes # get dict with types\n",
    "types[\"close_approach_date\"] = \"datetime64[ms]\" # modify desired column to dt format\n",
    "df_reto_1 = df_reto_1.astype(types) # apply types\n",
    "df_reto_1[\"epoch_date_close_approach\"] = pd.to_datetime(df_reto_1[\"epoch_date_close_approach\"], unit=\"ms\") # convert to dt with unit ms"
   ]
  },
  {
   "cell_type": "code",
   "execution_count": 3,
   "metadata": {},
   "outputs": [],
   "source": [
    "df_reto_1.to_csv(\"results_1.csv\", encoding=\"utf-8\")"
   ]
  },
  {
   "cell_type": "markdown",
   "metadata": {
    "id": "1v1zV7ufvecm"
   },
   "source": [
    "Pídele a tu experta la función de verificación `checar_conversiones` (encontrada en el archivo `helpers.py` de la carpeta donde se encuentra este Reto), pégala debajo y corre la celda para verificar tu resultado:"
   ]
  },
  {
   "cell_type": "code",
   "execution_count": 4,
   "metadata": {
    "colab": {
     "base_uri": "https://localhost:8080/"
    },
    "id": "Oek_CBpPvecn",
    "outputId": "3b3c18e1-4c22-4ab7-d127-3c9270dd81da"
   },
   "outputs": [
    {
     "name": "stdout",
     "output_type": "stream",
     "text": [
      "¡Éxito! ¡Todas tus conversiones fueron realizadas adecuadamente!\n"
     ]
    }
   ],
   "source": [
    "def checar_conversiones(df_reto_1):\n",
    "    \n",
    "    import pandas as pd\n",
    "    import pandas.api.types as ptypes\n",
    "    \n",
    "    assert ptypes.is_float_dtype(df_reto_1['relative_velocity.kilometers_per_hour']), 'Cuidado... La columna `relative_velocity.kilometers_per_hour` no es de tipo `float64`'\n",
    "    assert ptypes.is_datetime64_any_dtype(df_reto_1['close_approach_date']), 'Cuidado... La columna `close_approach_date` no es de tipo `datetime64[ns]`'\n",
    "    assert ptypes.is_datetime64_any_dtype(df_reto_1['epoch_date_close_approach']), 'Cuidado... La columna `epoch_date_close_approach` no es de tipo `datetime64[ns]'\n",
    "    \n",
    "    print(f'¡Éxito! ¡Todas tus conversiones fueron realizadas adecuadamente!')\n",
    "\n",
    "checar_conversiones(df_reto_1)"
   ]
  },
  {
   "cell_type": "code",
   "execution_count": null,
   "metadata": {
    "id": "OWY0PDKrveco"
   },
   "outputs": [],
   "source": []
  }
 ],
 "metadata": {
  "colab": {
   "name": "casting.ipynb",
   "provenance": []
  },
  "kernelspec": {
   "display_name": "Python 3",
   "language": "python",
   "name": "python3"
  },
  "language_info": {
   "codemirror_mode": {
    "name": "ipython",
    "version": 3
   },
   "file_extension": ".py",
   "mimetype": "text/x-python",
   "name": "python",
   "nbconvert_exporter": "python",
   "pygments_lexer": "ipython3",
   "version": "3.8.5"
  }
 },
 "nbformat": 4,
 "nbformat_minor": 1
}
