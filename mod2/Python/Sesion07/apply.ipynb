{
 "cells": [
  {
   "cell_type": "markdown",
   "metadata": {
    "id": "71B3oRa3J95b"
   },
   "source": [
    "## Reto 4: Apply\n",
    "\n",
    "### 1. Objetivos:\n",
    "    - Practicar el uso del método `apply` para obtener columnas nuevas a partir de columnas existentes\n",
    "    \n",
    "---\n",
    "    \n",
    "### 2. Desarrollo:"
   ]
  },
  {
   "cell_type": "markdown",
   "metadata": {
    "id": "RKEs_JzpJ95f"
   },
   "source": [
    "#### a) Obteniendo columnas nuevas a partir de existentes\n",
    "\n",
    "Vamos a trabajar con el dataset que guardaste de tu Reto anterior. Esta vez tu Reto es el siguiente:\n",
    "\n",
    "1. Crea una función que reciba un valor (en este caso el diámetro en metros de un objeto espacial) y regrese la proporción de ese valor en comparación con el diámetro de la Tierra. El diámetro de la Tierra es de 12,742 km. Así que el diámetro de un objeto que mida 10000 metros corresponde a un valor de 0.00078 en proporción al diámetro de la Tierra.\n",
    "2. Usa la columna `estimated_diameter.meters.estimated_diameter_max`, aplícale la función usando `apply` y crea una nueva columna llamada `proportion_of_max_diameter_to_earth`.\n",
    "3. Asigna el resultado a la variable `df_reto_4`.\n",
    "4. Guarda tu conjunto de datos en un archivo .csv."
   ]
  },
  {
   "cell_type": "code",
   "execution_count": 1,
   "metadata": {
    "id": "Fslemi4xKvVZ"
   },
   "outputs": [],
   "source": [
    "import pandas as pd\n",
    "df_reto_3 = pd.read_csv(\"https://raw.githubusercontent.com/Walt9819/BEDU/main/mod2/Python/Sesion07/results_3.csv\")"
   ]
  },
  {
   "cell_type": "code",
   "execution_count": 2,
   "metadata": {
    "id": "ihRJCs2ILIlP"
   },
   "outputs": [],
   "source": [
    "def prop_with_earth_diam(diam):\n",
    "  return diam / (12742 * 1000)"
   ]
  },
  {
   "cell_type": "code",
   "execution_count": 3,
   "metadata": {
    "id": "pTll826hJ95g"
   },
   "outputs": [],
   "source": [
    "df_reto_3[\"proportion_of_max_diameter_to_earth\"] = df_reto_3[\"estimated_diameter.meters.estimated_diameter_max\"].apply(prop_with_earth_diam)\n",
    "df_reto_4 = df_reto_3"
   ]
  },
  {
   "cell_type": "code",
   "execution_count": 4,
   "metadata": {
    "id": "14xn4DXQL6j2"
   },
   "outputs": [],
   "source": [
    "df_reto_4.to_csv(\"results_4.csv\", encoding=\"utf-8\", index=False)"
   ]
  },
  {
   "cell_type": "markdown",
   "metadata": {
    "id": "MyuCC8zDJ95h"
   },
   "source": [
    "Pídele a tu experta la función de verificación `revisar_aplicacion` (encontrada en el archivo `helpers.py` de la carpeta donde se encuentra este Reto), pégala debajo y corre la celda para verificar tu resultado:"
   ]
  },
  {
   "cell_type": "code",
   "execution_count": 5,
   "metadata": {
    "colab": {
     "base_uri": "https://localhost:8080/"
    },
    "id": "jo_1v4dnJ95h",
    "outputId": "9ecb168d-55f8-417f-f0ad-a877c914b2cc"
   },
   "outputs": [
    {
     "name": "stdout",
     "output_type": "stream",
     "text": [
      "La transformación y creación de una nueva columna fue realizada exitosamente!\n"
     ]
    }
   ],
   "source": [
    "def revisar_aplicacion(df_reto_4):\n",
    "    \n",
    "    assert 'proportion_of_max_diameter_to_earth' in df_reto_4, 'No existe una columna llamada \"proportion_of_max_diameter_to_earth\" en el DataFrame'\n",
    "    assert df_reto_4['proportion_of_max_diameter_to_earth'].equals(df_reto_4['estimated_diameter.meters.estimated_diameter_max'] / 12742000), 'La transformacion no fue realizada adecuadamente'\n",
    "    \n",
    "    print(f'La transformación y creación de una nueva columna fue realizada exitosamente!')\n",
    "\n",
    "revisar_aplicacion(df_reto_4)"
   ]
  }
 ],
 "metadata": {
  "colab": {
   "name": "apply.ipynb",
   "provenance": []
  },
  "kernelspec": {
   "display_name": "Python 3",
   "language": "python",
   "name": "python3"
  },
  "language_info": {
   "codemirror_mode": {
    "name": "ipython",
    "version": 3
   },
   "file_extension": ".py",
   "mimetype": "text/x-python",
   "name": "python",
   "nbconvert_exporter": "python",
   "pygments_lexer": "ipython3",
   "version": "3.8.5"
  }
 },
 "nbformat": 4,
 "nbformat_minor": 1
}
