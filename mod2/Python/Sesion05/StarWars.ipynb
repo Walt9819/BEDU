{
  "nbformat": 4,
  "nbformat_minor": 0,
  "metadata": {
    "colab": {
      "name": "Untitled0.ipynb",
      "provenance": [],
      "collapsed_sections": []
    },
    "kernelspec": {
      "name": "python3",
      "display_name": "Python 3"
    }
  },
  "cells": [
    {
      "cell_type": "markdown",
      "metadata": {
        "id": "_r8sNxNRGLQS"
      },
      "source": [
        "# Reto Star Wars\r\n",
        "\r\n",
        "Preguntas:\r\n",
        "  - ¿Qué película es la favorita de los fans?\r\n",
        "  - ¿Qué personaje es el menos querido por todos?\r\n",
        "  - ¿Quién disparó primero? ¿Cuántas personas acertaron y cuántas fallaron con esta pregunta?\r\n",
        "  - ¿Afecta la edad en elegir al personaje favorito?"
      ]
    },
    {
      "cell_type": "markdown",
      "metadata": {
        "id": "GxPoQEiMGnnn"
      },
      "source": [
        "Importar módulos necesarios"
      ]
    },
    {
      "cell_type": "code",
      "metadata": {
        "id": "tY5wrNJHGKmv"
      },
      "source": [
        "import pandas as pd\r\n",
        "import numpy as np"
      ],
      "execution_count": 1,
      "outputs": []
    },
    {
      "cell_type": "markdown",
      "metadata": {
        "id": "_UxqeUtQGrac"
      },
      "source": [
        "Lectura de datos"
      ]
    },
    {
      "cell_type": "code",
      "metadata": {
        "colab": {
          "base_uri": "https://localhost:8080/",
          "height": 672
        },
        "id": "nEL9EElbGjbM",
        "outputId": "85e61c3c-3c90-4404-fa9a-7f16179347cc"
      },
      "source": [
        "star_wars = pd.read_csv(\"https://raw.githubusercontent.com/fivethirtyeight/data/master/star-wars-survey/StarWars.csv\", encoding=\"ISO-8859-1\")\r\n",
        "star_wars.head(3)"
      ],
      "execution_count": 2,
      "outputs": [
        {
          "output_type": "execute_result",
          "data": {
            "text/html": [
              "<div>\n",
              "<style scoped>\n",
              "    .dataframe tbody tr th:only-of-type {\n",
              "        vertical-align: middle;\n",
              "    }\n",
              "\n",
              "    .dataframe tbody tr th {\n",
              "        vertical-align: top;\n",
              "    }\n",
              "\n",
              "    .dataframe thead th {\n",
              "        text-align: right;\n",
              "    }\n",
              "</style>\n",
              "<table border=\"1\" class=\"dataframe\">\n",
              "  <thead>\n",
              "    <tr style=\"text-align: right;\">\n",
              "      <th></th>\n",
              "      <th>RespondentID</th>\n",
              "      <th>Have you seen any of the 6 films in the Star Wars franchise?</th>\n",
              "      <th>Do you consider yourself to be a fan of the Star Wars film franchise?</th>\n",
              "      <th>Which of the following Star Wars films have you seen? Please select all that apply.</th>\n",
              "      <th>Unnamed: 4</th>\n",
              "      <th>Unnamed: 5</th>\n",
              "      <th>Unnamed: 6</th>\n",
              "      <th>Unnamed: 7</th>\n",
              "      <th>Unnamed: 8</th>\n",
              "      <th>Please rank the Star Wars films in order of preference with 1 being your favorite film in the franchise and 6 being your least favorite film.</th>\n",
              "      <th>Unnamed: 10</th>\n",
              "      <th>Unnamed: 11</th>\n",
              "      <th>Unnamed: 12</th>\n",
              "      <th>Unnamed: 13</th>\n",
              "      <th>Unnamed: 14</th>\n",
              "      <th>Please state whether you view the following characters favorably, unfavorably, or are unfamiliar with him/her.</th>\n",
              "      <th>Unnamed: 16</th>\n",
              "      <th>Unnamed: 17</th>\n",
              "      <th>Unnamed: 18</th>\n",
              "      <th>Unnamed: 19</th>\n",
              "      <th>Unnamed: 20</th>\n",
              "      <th>Unnamed: 21</th>\n",
              "      <th>Unnamed: 22</th>\n",
              "      <th>Unnamed: 23</th>\n",
              "      <th>Unnamed: 24</th>\n",
              "      <th>Unnamed: 25</th>\n",
              "      <th>Unnamed: 26</th>\n",
              "      <th>Unnamed: 27</th>\n",
              "      <th>Unnamed: 28</th>\n",
              "      <th>Which character shot first?</th>\n",
              "      <th>Are you familiar with the Expanded Universe?</th>\n",
              "      <th>Do you consider yourself to be a fan of the Expanded Universe?æ</th>\n",
              "      <th>Do you consider yourself to be a fan of the Star Trek franchise?</th>\n",
              "      <th>Gender</th>\n",
              "      <th>Age</th>\n",
              "      <th>Household Income</th>\n",
              "      <th>Education</th>\n",
              "      <th>Location (Census Region)</th>\n",
              "    </tr>\n",
              "  </thead>\n",
              "  <tbody>\n",
              "    <tr>\n",
              "      <th>0</th>\n",
              "      <td>NaN</td>\n",
              "      <td>Response</td>\n",
              "      <td>Response</td>\n",
              "      <td>Star Wars: Episode I  The Phantom Menace</td>\n",
              "      <td>Star Wars: Episode II  Attack of the Clones</td>\n",
              "      <td>Star Wars: Episode III  Revenge of the Sith</td>\n",
              "      <td>Star Wars: Episode IV  A New Hope</td>\n",
              "      <td>Star Wars: Episode V The Empire Strikes Back</td>\n",
              "      <td>Star Wars: Episode VI Return of the Jedi</td>\n",
              "      <td>Star Wars: Episode I  The Phantom Menace</td>\n",
              "      <td>Star Wars: Episode II  Attack of the Clones</td>\n",
              "      <td>Star Wars: Episode III  Revenge of the Sith</td>\n",
              "      <td>Star Wars: Episode IV  A New Hope</td>\n",
              "      <td>Star Wars: Episode V The Empire Strikes Back</td>\n",
              "      <td>Star Wars: Episode VI Return of the Jedi</td>\n",
              "      <td>Han Solo</td>\n",
              "      <td>Luke Skywalker</td>\n",
              "      <td>Princess Leia Organa</td>\n",
              "      <td>Anakin Skywalker</td>\n",
              "      <td>Obi Wan Kenobi</td>\n",
              "      <td>Emperor Palpatine</td>\n",
              "      <td>Darth Vader</td>\n",
              "      <td>Lando Calrissian</td>\n",
              "      <td>Boba Fett</td>\n",
              "      <td>C-3P0</td>\n",
              "      <td>R2 D2</td>\n",
              "      <td>Jar Jar Binks</td>\n",
              "      <td>Padme Amidala</td>\n",
              "      <td>Yoda</td>\n",
              "      <td>Response</td>\n",
              "      <td>Response</td>\n",
              "      <td>Response</td>\n",
              "      <td>Response</td>\n",
              "      <td>Response</td>\n",
              "      <td>Response</td>\n",
              "      <td>Response</td>\n",
              "      <td>Response</td>\n",
              "      <td>Response</td>\n",
              "    </tr>\n",
              "    <tr>\n",
              "      <th>1</th>\n",
              "      <td>3.292880e+09</td>\n",
              "      <td>Yes</td>\n",
              "      <td>Yes</td>\n",
              "      <td>Star Wars: Episode I  The Phantom Menace</td>\n",
              "      <td>Star Wars: Episode II  Attack of the Clones</td>\n",
              "      <td>Star Wars: Episode III  Revenge of the Sith</td>\n",
              "      <td>Star Wars: Episode IV  A New Hope</td>\n",
              "      <td>Star Wars: Episode V The Empire Strikes Back</td>\n",
              "      <td>Star Wars: Episode VI Return of the Jedi</td>\n",
              "      <td>3</td>\n",
              "      <td>2</td>\n",
              "      <td>1</td>\n",
              "      <td>4</td>\n",
              "      <td>5</td>\n",
              "      <td>6</td>\n",
              "      <td>Very favorably</td>\n",
              "      <td>Very favorably</td>\n",
              "      <td>Very favorably</td>\n",
              "      <td>Very favorably</td>\n",
              "      <td>Very favorably</td>\n",
              "      <td>Very favorably</td>\n",
              "      <td>Very favorably</td>\n",
              "      <td>Unfamiliar (N/A)</td>\n",
              "      <td>Unfamiliar (N/A)</td>\n",
              "      <td>Very favorably</td>\n",
              "      <td>Very favorably</td>\n",
              "      <td>Very favorably</td>\n",
              "      <td>Very favorably</td>\n",
              "      <td>Very favorably</td>\n",
              "      <td>I don't understand this question</td>\n",
              "      <td>Yes</td>\n",
              "      <td>No</td>\n",
              "      <td>No</td>\n",
              "      <td>Male</td>\n",
              "      <td>18-29</td>\n",
              "      <td>NaN</td>\n",
              "      <td>High school degree</td>\n",
              "      <td>South Atlantic</td>\n",
              "    </tr>\n",
              "    <tr>\n",
              "      <th>2</th>\n",
              "      <td>3.292880e+09</td>\n",
              "      <td>No</td>\n",
              "      <td>NaN</td>\n",
              "      <td>NaN</td>\n",
              "      <td>NaN</td>\n",
              "      <td>NaN</td>\n",
              "      <td>NaN</td>\n",
              "      <td>NaN</td>\n",
              "      <td>NaN</td>\n",
              "      <td>NaN</td>\n",
              "      <td>NaN</td>\n",
              "      <td>NaN</td>\n",
              "      <td>NaN</td>\n",
              "      <td>NaN</td>\n",
              "      <td>NaN</td>\n",
              "      <td>NaN</td>\n",
              "      <td>NaN</td>\n",
              "      <td>NaN</td>\n",
              "      <td>NaN</td>\n",
              "      <td>NaN</td>\n",
              "      <td>NaN</td>\n",
              "      <td>NaN</td>\n",
              "      <td>NaN</td>\n",
              "      <td>NaN</td>\n",
              "      <td>NaN</td>\n",
              "      <td>NaN</td>\n",
              "      <td>NaN</td>\n",
              "      <td>NaN</td>\n",
              "      <td>NaN</td>\n",
              "      <td>NaN</td>\n",
              "      <td>NaN</td>\n",
              "      <td>NaN</td>\n",
              "      <td>Yes</td>\n",
              "      <td>Male</td>\n",
              "      <td>18-29</td>\n",
              "      <td>$0 - $24,999</td>\n",
              "      <td>Bachelor degree</td>\n",
              "      <td>West South Central</td>\n",
              "    </tr>\n",
              "  </tbody>\n",
              "</table>\n",
              "</div>"
            ],
            "text/plain": [
              "   RespondentID  ... Location (Census Region)\n",
              "0           NaN  ...                 Response\n",
              "1  3.292880e+09  ...           South Atlantic\n",
              "2  3.292880e+09  ...       West South Central\n",
              "\n",
              "[3 rows x 38 columns]"
            ]
          },
          "metadata": {
            "tags": []
          },
          "execution_count": 2
        }
      ]
    },
    {
      "cell_type": "code",
      "metadata": {
        "colab": {
          "base_uri": "https://localhost:8080/",
          "height": 632
        },
        "id": "oev9etEDMrSA",
        "outputId": "6c8c6fb7-cc70-4279-8b8f-3bb8a247971f"
      },
      "source": [
        "star_wars.columns = [\"ID\", \"SeenMovies\", \"IsFan\", \"Ep1Seen\", \"EpIISeen\", \"EpIIISeen\", \"EpSeenIV\", \"EpSeenV\", \"EpSeenVI\", \"RankI\", \"RankII\", \"RankIII\", \"RankIV\", \"RankV\", \"RankVI\", \"HanFav\", \"LukeFav\", \"LeilaFav\", \"AnakinFav\", \"ObiFav\", \"EmperorFav\", \"DarthFav\", \"LandoFav\", \"BobaFav\", \"C_3P0Fav\", \"R2D2Fav\", \"JarFav\", \"PadmeFav\", \"YodaFav\", \"ShotFirst\", \"FamiliarExpandedUniverse\", \"FanExpandedUniverse\", \"fanStarTrek\", \"Gender\", \"Age\", \"HouseIncome\", \"Education\", \"LocationCensusRegion\"]\r\n",
        "star_wars = star_wars.drop(columns=\"ID\")\r\n",
        "star_wars.head(5)"
      ],
      "execution_count": 3,
      "outputs": [
        {
          "output_type": "execute_result",
          "data": {
            "text/html": [
              "<div>\n",
              "<style scoped>\n",
              "    .dataframe tbody tr th:only-of-type {\n",
              "        vertical-align: middle;\n",
              "    }\n",
              "\n",
              "    .dataframe tbody tr th {\n",
              "        vertical-align: top;\n",
              "    }\n",
              "\n",
              "    .dataframe thead th {\n",
              "        text-align: right;\n",
              "    }\n",
              "</style>\n",
              "<table border=\"1\" class=\"dataframe\">\n",
              "  <thead>\n",
              "    <tr style=\"text-align: right;\">\n",
              "      <th></th>\n",
              "      <th>SeenMovies</th>\n",
              "      <th>IsFan</th>\n",
              "      <th>Ep1Seen</th>\n",
              "      <th>EpIISeen</th>\n",
              "      <th>EpIIISeen</th>\n",
              "      <th>EpSeenIV</th>\n",
              "      <th>EpSeenV</th>\n",
              "      <th>EpSeenVI</th>\n",
              "      <th>RankI</th>\n",
              "      <th>RankII</th>\n",
              "      <th>RankIII</th>\n",
              "      <th>RankIV</th>\n",
              "      <th>RankV</th>\n",
              "      <th>RankVI</th>\n",
              "      <th>HanFav</th>\n",
              "      <th>LukeFav</th>\n",
              "      <th>LeilaFav</th>\n",
              "      <th>AnakinFav</th>\n",
              "      <th>ObiFav</th>\n",
              "      <th>EmperorFav</th>\n",
              "      <th>DarthFav</th>\n",
              "      <th>LandoFav</th>\n",
              "      <th>BobaFav</th>\n",
              "      <th>C_3P0Fav</th>\n",
              "      <th>R2D2Fav</th>\n",
              "      <th>JarFav</th>\n",
              "      <th>PadmeFav</th>\n",
              "      <th>YodaFav</th>\n",
              "      <th>ShotFirst</th>\n",
              "      <th>FamiliarExpandedUniverse</th>\n",
              "      <th>FanExpandedUniverse</th>\n",
              "      <th>fanStarTrek</th>\n",
              "      <th>Gender</th>\n",
              "      <th>Age</th>\n",
              "      <th>HouseIncome</th>\n",
              "      <th>Education</th>\n",
              "      <th>LocationCensusRegion</th>\n",
              "    </tr>\n",
              "  </thead>\n",
              "  <tbody>\n",
              "    <tr>\n",
              "      <th>0</th>\n",
              "      <td>Response</td>\n",
              "      <td>Response</td>\n",
              "      <td>Star Wars: Episode I  The Phantom Menace</td>\n",
              "      <td>Star Wars: Episode II  Attack of the Clones</td>\n",
              "      <td>Star Wars: Episode III  Revenge of the Sith</td>\n",
              "      <td>Star Wars: Episode IV  A New Hope</td>\n",
              "      <td>Star Wars: Episode V The Empire Strikes Back</td>\n",
              "      <td>Star Wars: Episode VI Return of the Jedi</td>\n",
              "      <td>Star Wars: Episode I  The Phantom Menace</td>\n",
              "      <td>Star Wars: Episode II  Attack of the Clones</td>\n",
              "      <td>Star Wars: Episode III  Revenge of the Sith</td>\n",
              "      <td>Star Wars: Episode IV  A New Hope</td>\n",
              "      <td>Star Wars: Episode V The Empire Strikes Back</td>\n",
              "      <td>Star Wars: Episode VI Return of the Jedi</td>\n",
              "      <td>Han Solo</td>\n",
              "      <td>Luke Skywalker</td>\n",
              "      <td>Princess Leia Organa</td>\n",
              "      <td>Anakin Skywalker</td>\n",
              "      <td>Obi Wan Kenobi</td>\n",
              "      <td>Emperor Palpatine</td>\n",
              "      <td>Darth Vader</td>\n",
              "      <td>Lando Calrissian</td>\n",
              "      <td>Boba Fett</td>\n",
              "      <td>C-3P0</td>\n",
              "      <td>R2 D2</td>\n",
              "      <td>Jar Jar Binks</td>\n",
              "      <td>Padme Amidala</td>\n",
              "      <td>Yoda</td>\n",
              "      <td>Response</td>\n",
              "      <td>Response</td>\n",
              "      <td>Response</td>\n",
              "      <td>Response</td>\n",
              "      <td>Response</td>\n",
              "      <td>Response</td>\n",
              "      <td>Response</td>\n",
              "      <td>Response</td>\n",
              "      <td>Response</td>\n",
              "    </tr>\n",
              "    <tr>\n",
              "      <th>1</th>\n",
              "      <td>Yes</td>\n",
              "      <td>Yes</td>\n",
              "      <td>Star Wars: Episode I  The Phantom Menace</td>\n",
              "      <td>Star Wars: Episode II  Attack of the Clones</td>\n",
              "      <td>Star Wars: Episode III  Revenge of the Sith</td>\n",
              "      <td>Star Wars: Episode IV  A New Hope</td>\n",
              "      <td>Star Wars: Episode V The Empire Strikes Back</td>\n",
              "      <td>Star Wars: Episode VI Return of the Jedi</td>\n",
              "      <td>3</td>\n",
              "      <td>2</td>\n",
              "      <td>1</td>\n",
              "      <td>4</td>\n",
              "      <td>5</td>\n",
              "      <td>6</td>\n",
              "      <td>Very favorably</td>\n",
              "      <td>Very favorably</td>\n",
              "      <td>Very favorably</td>\n",
              "      <td>Very favorably</td>\n",
              "      <td>Very favorably</td>\n",
              "      <td>Very favorably</td>\n",
              "      <td>Very favorably</td>\n",
              "      <td>Unfamiliar (N/A)</td>\n",
              "      <td>Unfamiliar (N/A)</td>\n",
              "      <td>Very favorably</td>\n",
              "      <td>Very favorably</td>\n",
              "      <td>Very favorably</td>\n",
              "      <td>Very favorably</td>\n",
              "      <td>Very favorably</td>\n",
              "      <td>I don't understand this question</td>\n",
              "      <td>Yes</td>\n",
              "      <td>No</td>\n",
              "      <td>No</td>\n",
              "      <td>Male</td>\n",
              "      <td>18-29</td>\n",
              "      <td>NaN</td>\n",
              "      <td>High school degree</td>\n",
              "      <td>South Atlantic</td>\n",
              "    </tr>\n",
              "    <tr>\n",
              "      <th>2</th>\n",
              "      <td>No</td>\n",
              "      <td>NaN</td>\n",
              "      <td>NaN</td>\n",
              "      <td>NaN</td>\n",
              "      <td>NaN</td>\n",
              "      <td>NaN</td>\n",
              "      <td>NaN</td>\n",
              "      <td>NaN</td>\n",
              "      <td>NaN</td>\n",
              "      <td>NaN</td>\n",
              "      <td>NaN</td>\n",
              "      <td>NaN</td>\n",
              "      <td>NaN</td>\n",
              "      <td>NaN</td>\n",
              "      <td>NaN</td>\n",
              "      <td>NaN</td>\n",
              "      <td>NaN</td>\n",
              "      <td>NaN</td>\n",
              "      <td>NaN</td>\n",
              "      <td>NaN</td>\n",
              "      <td>NaN</td>\n",
              "      <td>NaN</td>\n",
              "      <td>NaN</td>\n",
              "      <td>NaN</td>\n",
              "      <td>NaN</td>\n",
              "      <td>NaN</td>\n",
              "      <td>NaN</td>\n",
              "      <td>NaN</td>\n",
              "      <td>NaN</td>\n",
              "      <td>NaN</td>\n",
              "      <td>NaN</td>\n",
              "      <td>Yes</td>\n",
              "      <td>Male</td>\n",
              "      <td>18-29</td>\n",
              "      <td>$0 - $24,999</td>\n",
              "      <td>Bachelor degree</td>\n",
              "      <td>West South Central</td>\n",
              "    </tr>\n",
              "    <tr>\n",
              "      <th>3</th>\n",
              "      <td>Yes</td>\n",
              "      <td>No</td>\n",
              "      <td>Star Wars: Episode I  The Phantom Menace</td>\n",
              "      <td>Star Wars: Episode II  Attack of the Clones</td>\n",
              "      <td>Star Wars: Episode III  Revenge of the Sith</td>\n",
              "      <td>NaN</td>\n",
              "      <td>NaN</td>\n",
              "      <td>NaN</td>\n",
              "      <td>1</td>\n",
              "      <td>2</td>\n",
              "      <td>3</td>\n",
              "      <td>4</td>\n",
              "      <td>5</td>\n",
              "      <td>6</td>\n",
              "      <td>Somewhat favorably</td>\n",
              "      <td>Somewhat favorably</td>\n",
              "      <td>Somewhat favorably</td>\n",
              "      <td>Somewhat favorably</td>\n",
              "      <td>Somewhat favorably</td>\n",
              "      <td>Unfamiliar (N/A)</td>\n",
              "      <td>Unfamiliar (N/A)</td>\n",
              "      <td>Unfamiliar (N/A)</td>\n",
              "      <td>Unfamiliar (N/A)</td>\n",
              "      <td>Unfamiliar (N/A)</td>\n",
              "      <td>Unfamiliar (N/A)</td>\n",
              "      <td>Unfamiliar (N/A)</td>\n",
              "      <td>Unfamiliar (N/A)</td>\n",
              "      <td>Unfamiliar (N/A)</td>\n",
              "      <td>I don't understand this question</td>\n",
              "      <td>No</td>\n",
              "      <td>NaN</td>\n",
              "      <td>No</td>\n",
              "      <td>Male</td>\n",
              "      <td>18-29</td>\n",
              "      <td>$0 - $24,999</td>\n",
              "      <td>High school degree</td>\n",
              "      <td>West North Central</td>\n",
              "    </tr>\n",
              "    <tr>\n",
              "      <th>4</th>\n",
              "      <td>Yes</td>\n",
              "      <td>Yes</td>\n",
              "      <td>Star Wars: Episode I  The Phantom Menace</td>\n",
              "      <td>Star Wars: Episode II  Attack of the Clones</td>\n",
              "      <td>Star Wars: Episode III  Revenge of the Sith</td>\n",
              "      <td>Star Wars: Episode IV  A New Hope</td>\n",
              "      <td>Star Wars: Episode V The Empire Strikes Back</td>\n",
              "      <td>Star Wars: Episode VI Return of the Jedi</td>\n",
              "      <td>5</td>\n",
              "      <td>6</td>\n",
              "      <td>1</td>\n",
              "      <td>2</td>\n",
              "      <td>4</td>\n",
              "      <td>3</td>\n",
              "      <td>Very favorably</td>\n",
              "      <td>Very favorably</td>\n",
              "      <td>Very favorably</td>\n",
              "      <td>Very favorably</td>\n",
              "      <td>Very favorably</td>\n",
              "      <td>Somewhat favorably</td>\n",
              "      <td>Very favorably</td>\n",
              "      <td>Somewhat favorably</td>\n",
              "      <td>Somewhat unfavorably</td>\n",
              "      <td>Very favorably</td>\n",
              "      <td>Very favorably</td>\n",
              "      <td>Very favorably</td>\n",
              "      <td>Very favorably</td>\n",
              "      <td>Very favorably</td>\n",
              "      <td>I don't understand this question</td>\n",
              "      <td>No</td>\n",
              "      <td>NaN</td>\n",
              "      <td>Yes</td>\n",
              "      <td>Male</td>\n",
              "      <td>18-29</td>\n",
              "      <td>$100,000 - $149,999</td>\n",
              "      <td>Some college or Associate degree</td>\n",
              "      <td>West North Central</td>\n",
              "    </tr>\n",
              "  </tbody>\n",
              "</table>\n",
              "</div>"
            ],
            "text/plain": [
              "  SeenMovies     IsFan  ...                         Education LocationCensusRegion\n",
              "0   Response  Response  ...                          Response             Response\n",
              "1        Yes       Yes  ...                High school degree       South Atlantic\n",
              "2         No       NaN  ...                   Bachelor degree   West South Central\n",
              "3        Yes        No  ...                High school degree   West North Central\n",
              "4        Yes       Yes  ...  Some college or Associate degree   West North Central\n",
              "\n",
              "[5 rows x 37 columns]"
            ]
          },
          "metadata": {
            "tags": []
          },
          "execution_count": 3
        }
      ]
    },
    {
      "cell_type": "markdown",
      "metadata": {
        "id": "le0Z9D4sKQdh"
      },
      "source": [
        "Checar Na's"
      ]
    },
    {
      "cell_type": "code",
      "metadata": {
        "id": "aQ0tyGjWKTH4",
        "colab": {
          "base_uri": "https://localhost:8080/"
        },
        "outputId": "82bac8a0-6377-46ea-d78f-4d7f85577012"
      },
      "source": [
        "star_wars.isna().sum(axis=0)"
      ],
      "execution_count": 4,
      "outputs": [
        {
          "output_type": "execute_result",
          "data": {
            "text/plain": [
              "SeenMovies                    0\n",
              "IsFan                       350\n",
              "Ep1Seen                     513\n",
              "EpIISeen                    615\n",
              "EpIIISeen                   636\n",
              "EpSeenIV                    579\n",
              "EpSeenV                     428\n",
              "EpSeenVI                    448\n",
              "RankI                       351\n",
              "RankII                      350\n",
              "RankIII                     351\n",
              "RankIV                      350\n",
              "RankV                       350\n",
              "RankVI                      350\n",
              "HanFav                      357\n",
              "LukeFav                     355\n",
              "LeilaFav                    355\n",
              "AnakinFav                   363\n",
              "ObiFav                      361\n",
              "EmperorFav                  372\n",
              "DarthFav                    360\n",
              "LandoFav                    366\n",
              "BobaFav                     374\n",
              "C_3P0Fav                    359\n",
              "R2D2Fav                     356\n",
              "JarFav                      365\n",
              "PadmeFav                    372\n",
              "YodaFav                     360\n",
              "ShotFirst                   358\n",
              "FamiliarExpandedUniverse    358\n",
              "FanExpandedUniverse         973\n",
              "fanStarTrek                 118\n",
              "Gender                      140\n",
              "Age                         140\n",
              "HouseIncome                 328\n",
              "Education                   150\n",
              "LocationCensusRegion        143\n",
              "dtype: int64"
            ]
          },
          "metadata": {
            "tags": []
          },
          "execution_count": 4
        }
      ]
    },
    {
      "cell_type": "markdown",
      "metadata": {
        "id": "Zit64liH_B57"
      },
      "source": [
        "Seleccionar solo aquellos que vieron las películas de Star Wars"
      ]
    },
    {
      "cell_type": "code",
      "metadata": {
        "id": "0e-9M294_HzD"
      },
      "source": [
        "star_wars_seen = star_wars[star_wars['SeenMovies'] == \"Yes\"]"
      ],
      "execution_count": 5,
      "outputs": []
    },
    {
      "cell_type": "markdown",
      "metadata": {
        "id": "P9i3FEEuGtZG"
      },
      "source": [
        "#### ¿Qué película es la favorita de los fans?\r\n",
        "Seleccionar los datos (si son fans o no)"
      ]
    },
    {
      "cell_type": "code",
      "metadata": {
        "colab": {
          "base_uri": "https://localhost:8080/",
          "height": 35
        },
        "id": "v5AxTQNnGyNz",
        "outputId": "b6520bff-a820-4d81-9cf4-5e0632445bd7"
      },
      "source": [
        "star_wars_no_fan_nas = star_wars_seen[star_wars_seen['IsFan'].notna()]\r\n",
        "star_fans = star_wars_no_fan_nas[(star_wars_no_fan_nas[\"IsFan\"] == \"Yes\")]\r\n",
        "star_fans_rank = star_fans[[\"RankI\", \"RankII\", \"RankIII\", \"RankIV\", \"RankV\", \"RankVI\"]]\r\n",
        "star_fans_rank = star_fans_rank.dropna(axis=0)\r\n",
        "star_fans_rank = star_fans_rank.astype(\"int\")\r\n",
        "star_fans_rank.sum(axis=0).idxmax() # El que tenga la menor suma es la película favorita"
      ],
      "execution_count": 6,
      "outputs": [
        {
          "output_type": "execute_result",
          "data": {
            "application/vnd.google.colaboratory.intrinsic+json": {
              "type": "string"
            },
            "text/plain": [
              "'RankIII'"
            ]
          },
          "metadata": {
            "tags": []
          },
          "execution_count": 6
        }
      ]
    },
    {
      "cell_type": "markdown",
      "metadata": {
        "id": "eBH7f0SJ_VDZ"
      },
      "source": [
        "#### ¿Qué personaje es el menos querido por todos?\r\n",
        "Seleccionar los datos (si tienen datos para los favoritos)"
      ]
    },
    {
      "cell_type": "code",
      "metadata": {
        "colab": {
          "base_uri": "https://localhost:8080/",
          "height": 35
        },
        "id": "xPYQklX9_eD6",
        "outputId": "b840c872-b3c7-488c-8b2d-b928c46d9e5c"
      },
      "source": [
        "star_favs = star_wars_seen[[\"HanFav\", \"LukeFav\", \"LeilaFav\", \"AnakinFav\", \"ObiFav\", \"EmperorFav\", \"DarthFav\", \"LandoFav\", \"BobaFav\", \"C_3P0Fav\", \"R2D2Fav\", \"JarFav\", \"PadmeFav\", \"YodaFav\"]]\r\n",
        "star_favs.isna().sum(axis=0)\r\n",
        "star_favs = star_favs.dropna(axis=1, how=\"all\")\r\n",
        "(star_favs == \"Very favorably\").sum(axis=0) # más 'Very favorably' es el favorito\r\n",
        "(star_favs == \"Very unfavorably\").sum(axis=0).idxmax() # más 'Very unfavorably' es el menos favorito"
      ],
      "execution_count": 7,
      "outputs": [
        {
          "output_type": "execute_result",
          "data": {
            "application/vnd.google.colaboratory.intrinsic+json": {
              "type": "string"
            },
            "text/plain": [
              "'JarFav'"
            ]
          },
          "metadata": {
            "tags": []
          },
          "execution_count": 7
        }
      ]
    },
    {
      "cell_type": "markdown",
      "metadata": {
        "id": "VTu0FIFuCaiD"
      },
      "source": [
        "#### ¿Quién disparó primero? ¿Cuántas personas acertaron y cuántas fallaron con esta pregunta?\r\n",
        "Yo no entiendo la pregunta, entonces también eliminamos a los que no entendieron la pregunta"
      ]
    },
    {
      "cell_type": "code",
      "metadata": {
        "colab": {
          "base_uri": "https://localhost:8080/"
        },
        "id": "IhdLmeKNClou",
        "outputId": "560e8410-30b4-4001-8bcc-54de895c6737"
      },
      "source": [
        "star_shot_first = star_wars_seen[\"ShotFirst\"]\r\n",
        "star_shot_first.unique() # observamos las posibles respuestas\r\n",
        "star_shot_first = star_shot_first.dropna()\r\n",
        "star_shot_first = star_shot_first[star_shot_first != \"I don't understand this question\"]\r\n",
        "star_shot_first.value_counts() # La suma es el número de votos para cada una de las posibles respuestas"
      ],
      "execution_count": 8,
      "outputs": [
        {
          "output_type": "execute_result",
          "data": {
            "text/plain": [
              "Han       325\n",
              "Greedo    197\n",
              "Name: ShotFirst, dtype: int64"
            ]
          },
          "metadata": {
            "tags": []
          },
          "execution_count": 8
        }
      ]
    },
    {
      "cell_type": "markdown",
      "metadata": {
        "id": "8bDhnshEEXlg"
      },
      "source": [
        "#### ¿Afecta la edad en elegir al personaje favorito?\r\n",
        "Podemos intentar responder la pregunta que ya se hizo antes, pero agruándo por edades"
      ]
    },
    {
      "cell_type": "code",
      "metadata": {
        "colab": {
          "base_uri": "https://localhost:8080/"
        },
        "id": "QNoez2vIEh8o",
        "outputId": "fd0a73fa-09a9-4b65-f7e8-4dceb362035e"
      },
      "source": [
        "star_favs = star_wars_seen[[\"Age\", \"HanFav\", \"LukeFav\", \"LeilaFav\", \"AnakinFav\", \"ObiFav\", \"EmperorFav\", \"DarthFav\", \"LandoFav\", \"BobaFav\", \"C_3P0Fav\", \"R2D2Fav\", \"JarFav\", \"PadmeFav\", \"YodaFav\"]]\r\n",
        "star_favs.isna().sum(axis=0)\r\n",
        "star_favs = star_favs.dropna()\r\n",
        "star_favs.astype('category')\r\n",
        "pd.concat([star_favs[\"Age\"], (star_favs.iloc[:, 1:] == \"Very favorably\")], axis=1).groupby(by=[\"Age\"]).sum().idxmax(axis=1) # más 'Very favorably' es el favorito y ahora agrupamos por edades"
      ],
      "execution_count": 9,
      "outputs": [
        {
          "output_type": "execute_result",
          "data": {
            "text/plain": [
              "Age\n",
              "18-29    YodaFav\n",
              "30-44    YodaFav\n",
              "45-60     HanFav\n",
              "> 60      ObiFav\n",
              "dtype: object"
            ]
          },
          "metadata": {
            "tags": []
          },
          "execution_count": 9
        }
      ]
    }
  ]
}