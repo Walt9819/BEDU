{
  "nbformat": 4,
  "nbformat_minor": 0,
  "metadata": {
    "kernelspec": {
      "display_name": "Python 3",
      "language": "python",
      "name": "python3"
    },
    "language_info": {
      "codemirror_mode": {
        "name": "ipython",
        "version": 3
      },
      "file_extension": ".py",
      "mimetype": "text/x-python",
      "name": "python",
      "nbconvert_exporter": "python",
      "pygments_lexer": "ipython3",
      "version": "3.8.3"
    },
    "colab": {
      "name": "vectorizacion_con_dataframes.ipynb",
      "provenance": []
    }
  },
  "cells": [
    {
      "cell_type": "markdown",
      "metadata": {
        "id": "7Dck0vFyBkFT"
      },
      "source": [
        "## Reto 3: Agregaciones con `DataFrames`\n",
        "\n",
        "### 1. Objetivos:\n",
        "    - Aplicar agregaciones a `DataFrames` completos para obtener un análisis estadístico\n",
        " \n",
        "---\n",
        "    \n",
        "### 2. Desarrollo:"
      ]
    },
    {
      "cell_type": "markdown",
      "metadata": {
        "id": "xU5lRjDiBkFY"
      },
      "source": [
        "#### a) Análisis estadístico con agregaciones\n",
        "\n",
        "Eres el Analista de Datos de EyePoker Inc. Te han pedido que realices ciertas agregaciones con un conjunto de datos para poder realizar un análisis estadístico básico de los datos que hay dentro.\n",
        "\n",
        "El conjunto de datos es el siguiente:"
      ]
    },
    {
      "cell_type": "code",
      "metadata": {
        "id": "O7FAwP9TBkFZ"
      },
      "source": [
        "import pandas as pd\r\n",
        "import numpy as np"
      ],
      "execution_count": 1,
      "outputs": []
    },
    {
      "cell_type": "code",
      "metadata": {
        "id": "R4IzBLP9BkFa"
      },
      "source": [
        "datos = {\n",
        "    'producto': [\"Pokemaster\", \"Cegatron\", \"Pikame Mucho\", \"Lazarillo de Tormes\", \"Stevie Wonder\", \"Needle\", \"El AyMeDuele\", \"El Desretinador\", \"Sacamel Ojocles\", \"Desojado\", \"Maribel Buenas Noches\", \"Cíclope\", \"El Cuatro Ojos\"],\n",
        "    'precio': [12000, 5500, 2350, 4800, 8900, 6640, 1280, 1040, 23100, 16700, 15000, 13400, 19600],\n",
        "    'cantidad_en_stock': [34, 54, 36, 78, 56, 12, 34, 4, 0, 18, 45, 23, 5],\n",
        "    'cantidad_vendidos': [120, 34, 59, 9, 15, 51, 103, 72, 39, 23, 10, 62, 59]\n",
        "}\n",
        "\n",
        "df = pd.DataFrame(datos)"
      ],
      "execution_count": 2,
      "outputs": []
    },
    {
      "cell_type": "code",
      "metadata": {
        "id": "x7rdgedoBkFa",
        "outputId": "5a6e0bd1-45cc-4204-bf0b-d6d70f2636fa",
        "colab": {
          "base_uri": "https://localhost:8080/"
        }
      },
      "source": [
        "df"
      ],
      "execution_count": 16,
      "outputs": [
        {
          "output_type": "execute_result",
          "data": {
            "text/plain": [
              "0     12000\n",
              "1      5500\n",
              "2      2350\n",
              "3      4800\n",
              "4      8900\n",
              "5      6640\n",
              "6      1280\n",
              "7      1040\n",
              "8     23100\n",
              "9     16700\n",
              "10    15000\n",
              "11    13400\n",
              "12    19600\n",
              "dtype: int64"
            ]
          },
          "metadata": {
            "tags": []
          },
          "execution_count": 16
        }
      ]
    },
    {
      "cell_type": "markdown",
      "metadata": {
        "id": "6XM61xTWBkFb"
      },
      "source": [
        "Tu tarea es muy simple. Usando métodos de agregación, asigna las variables de la siguiente celda con los resultados de agregar nuestro `DataFrame` **por columna** usando cada una de las medidas estadísticas. Algunas de los métodos ya los conoces. Los que no, [puedes encontrarlos en este link](https://www.interactivechaos.com/manual/tutorial-de-pandas/dataframes-metodos-de-agregacion-y-estadistica). Lo que queremos obtener es una `Serie` con los nombres de las columnas como índice y las agregaciones por columna como valores. Una de las columnas que tenemos en el `DataFrame` no se presta para realizar análisis numéricos, elimínala antes de realizar tu análisis y asigna el resultado a la variable `df_droppped`.\n",
        "\n",
        "**Sólo** utiliza funciones de agregación para tu análisis. En este caso no requieres hacer ninguna operación aritmética."
      ]
    },
    {
      "cell_type": "code",
      "metadata": {
        "id": "Sh0zDrCdBkFb"
      },
      "source": [
        "df_dropped = df.drop(columns=[\"producto\"])\n",
        "\n",
        "# El valor mínimo de cada columna\n",
        "mins = df_dropped.min(axis=0)\n",
        "\n",
        "# El valor máximo de cada columna\n",
        "maxs = df_dropped.max(axis=0)\n",
        "\n",
        "# El promedio por columna\n",
        "means = df_dropped.mean(axis=0)\n",
        "\n",
        "# La mediana por columna (El valor que se encuentra a la mitad de la secuencia ordenada de valores)\n",
        "medians = df_dropped.median(axis=0)\n",
        "\n",
        "# La desviación estándar por columna\n",
        "stds = df_dropped.std(axis=0)"
      ],
      "execution_count": 19,
      "outputs": []
    },
    {
      "cell_type": "markdown",
      "metadata": {
        "id": "MD5u-cTfBkFb"
      },
      "source": [
        "Pídele a tu experta la función de verificación `resumen_estadistico` (encontrada en el archivo `helpers.py` de la carpeta donde se encuentra este Reto), pégala debajo y corre la celda para verificar tu resultado:"
      ]
    },
    {
      "cell_type": "code",
      "metadata": {
        "id": "exCn7pYjBkFc",
        "outputId": "ba6f2686-4152-4ee1-aac3-a11e8edeecc5",
        "colab": {
          "base_uri": "https://localhost:8080/"
        }
      },
      "source": [
        "def resumen_estadistico(df, df_dropped, mins, maxs, means, medians, stds):\n",
        "    \n",
        "    import pandas as pd\n",
        "    \n",
        "    error = False\n",
        "    \n",
        "    df_dropped_2 = df.drop(columns=['producto'])\n",
        "    if not df_dropped_2.equals(df_dropped):\n",
        "        print(f'La columna no-numérica no fue eliminada correctamente... Por favor inténtalo de nuevo')\n",
        "        error = True\n",
        "        \n",
        "    if not df_dropped.min(axis=0).equals(mins):\n",
        "        print(f'El valor mínimo no fue computado adecuadamente... Por favor inténtalo de nuevo')\n",
        "        error = True\n",
        "        \n",
        "    if not df_dropped.max(axis=0).equals(maxs):\n",
        "        print(f'El valor máximo no fue computado adecuadamente... Por favor inténtalo de nuevo')\n",
        "        error = True\n",
        "        \n",
        "    if not df_dropped.mean(axis=0).equals(means):\n",
        "        print(f'El promedio no fue computado adecuadamente... Por favor inténtalo de nuevo')\n",
        "        error = True\n",
        "    \n",
        "    if not df_dropped.median(axis=0).equals(medians):\n",
        "        print(f'La mediana no fue computada adecuadamente... Por favor inténtalo de nuevo')\n",
        "        error = True\n",
        "        \n",
        "    if not df_dropped.std(axis=0).equals(stds):\n",
        "        print(f'La desviación estándar no fue computada adecuadamente... Por favor inténtalo de nuevo')\n",
        "        error = True\n",
        "    \n",
        "    if not error:\n",
        "        rango = maxs - mins\n",
        "        mins.name = 'Min'\n",
        "        maxs.name = 'Max'\n",
        "        rango.name = 'Rango'\n",
        "        means.name = 'Promedio'\n",
        "        medians.name = 'Mediana'\n",
        "        stds.name = 'Std'\n",
        "        \n",
        "        resumen = pd.concat([mins, maxs, rango, means, medians, stds], axis=1)\n",
        "        print(resumen)\n",
        "\n",
        "resumen_estadistico(df, df_dropped, mins, maxs, means, medians, stds)"
      ],
      "execution_count": 20,
      "outputs": [
        {
          "output_type": "stream",
          "text": [
            "                    Min    Max  Rango      Promedio  Mediana          Std\n",
            "precio             1040  23100  22060  10023.846154   8900.0  7210.205196\n",
            "cantidad_en_stock     0     78     78     30.692308     34.0    23.382275\n",
            "cantidad_vendidos     9    120    111     50.461538     51.0    34.289492\n"
          ],
          "name": "stdout"
        }
      ]
    },
    {
      "cell_type": "code",
      "metadata": {
        "id": "sHTpNE3bBkFc"
      },
      "source": [
        ""
      ],
      "execution_count": null,
      "outputs": []
    }
  ]
}