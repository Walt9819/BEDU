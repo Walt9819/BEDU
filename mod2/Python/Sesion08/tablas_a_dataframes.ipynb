{
  "nbformat": 4,
  "nbformat_minor": 0,
  "metadata": {
    "kernelspec": {
      "display_name": "Python 3",
      "language": "python",
      "name": "python3"
    },
    "language_info": {
      "codemirror_mode": {
        "name": "ipython",
        "version": 3
      },
      "file_extension": ".py",
      "mimetype": "text/x-python",
      "name": "python",
      "nbconvert_exporter": "python",
      "pygments_lexer": "ipython3",
      "version": "3.8.3"
    },
    "colab": {
      "name": "tablas_a_dataframes.ipynb",
      "provenance": []
    }
  },
  "cells": [
    {
      "cell_type": "markdown",
      "metadata": {
        "id": "YQ9336RQD8Nw"
      },
      "source": [
        "## Reto 2: Convertir tablas en MySQL a `DataFrames` de `pandas`\n",
        "\n",
        "### 1. Objetivos:\n",
        "    - Solicitar todos los datos de las tablas que están almacenadas en nuestra base de datos, convertirlos a `DataFrames` y guardarlos.\n",
        "    \n",
        "---\n",
        "    \n",
        "### 2. Desarrollo:"
      ]
    },
    {
      "cell_type": "markdown",
      "metadata": {
        "id": "bHTdimRSD8N3"
      },
      "source": [
        "#### a) Tablas a `DataFrames`\n",
        "\n",
        "Ya que tenemos nuestra conexión funcionando adecuadamente, vamos a utilizarla para realizar consultas a las base de datos y construir una base de datos local. Tu Reto consiste en los siguientes pasos:\n",
        "\n",
        "1. Vuelve a establecer la conexión a la base de datos\n",
        "2. Usando el comando `SELECT * FROM nombre_de_tabla`, realiza consultas a cada una de las 5 tablas que existen en la base de datos.\n",
        "3. Crea un `DataFrame` por cada tabla que obtuviste. Para asignarle los nombres de las columnas correctamente, revisa el archivo [Readme.md](../../Datasets/MovieLens/Readme.md) donde está contenida toda esa información.\n",
        "4. Asegúrate de que el índice sea adecuado en cada `DataFrame`. En los casos en los que haya datos redundantes, convierte una de las columnas en índice.\n",
        "5. Si lo deseas ordena las columnas de la manera en la que mejor te parezca.\n",
        "6. Guarda tus `DataFrames` en formato .csv para utilizarlos en los siguientes Retos.\n",
        "\n",
        "> **NOTA IMPORTANTE**: La tabla movies es un poco complicada porque contiene muchos signos distintos. Tanto en la columna de nombre de película como la de género, encontramos signos como `,`, `:`, `.`, `|`. Esto hace un poco complicado el almacenamiento y lectura de este archivo. Si elijes guardar este archivo como un .csv separado por comas (`,`), a la hora de leerlo de regreso, `pandas` puede confundirse y pensar que el título de una película que contiene comas constituye dos columnas. Por esta razón, te recomiendo que la tabla `movies` la guardes agregando un separador poco convencional como `sep='$'`. De esta manera será muchísimo más fácil leer tu archivo de regreso usando ese separador."
      ]
    },
    {
      "cell_type": "code",
      "metadata": {
        "id": "0lKyq6LTEAMQ",
        "outputId": "6284a1a3-937c-4339-94fb-b4569a32cf2b",
        "colab": {
          "base_uri": "https://localhost:8080/"
        }
      },
      "source": [
        "!pip install mysql-connector-python"
      ],
      "execution_count": 1,
      "outputs": [
        {
          "output_type": "stream",
          "text": [
            "Collecting mysql-connector-python\n",
            "\u001b[?25l  Downloading https://files.pythonhosted.org/packages/de/f7/b783b60a3bd8aea348990c60fb0b3ed2f843c6f40ad29e37a89a5d50d7a3/mysql_connector_python-8.0.23-cp37-cp37m-manylinux1_x86_64.whl (18.0MB)\n",
            "\u001b[K     |████████████████████████████████| 18.1MB 253kB/s \n",
            "\u001b[?25hRequirement already satisfied: protobuf>=3.0.0 in /usr/local/lib/python3.7/dist-packages (from mysql-connector-python) (3.12.4)\n",
            "Requirement already satisfied: setuptools in /usr/local/lib/python3.7/dist-packages (from protobuf>=3.0.0->mysql-connector-python) (54.0.0)\n",
            "Requirement already satisfied: six>=1.9 in /usr/local/lib/python3.7/dist-packages (from protobuf>=3.0.0->mysql-connector-python) (1.15.0)\n",
            "Installing collected packages: mysql-connector-python\n",
            "Successfully installed mysql-connector-python-8.0.23\n"
          ],
          "name": "stdout"
        }
      ]
    },
    {
      "cell_type": "code",
      "metadata": {
        "id": "SAgY4DEaD8N4"
      },
      "source": [
        "import mysql.connector\n",
        "\n",
        "cnx = mysql.connector.connect(\n",
        "    host = \"ec2-34-222-38-19.us-west-2.compute.amazonaws.com\",\n",
        "    port = 3306,\n",
        "    user = \"data\",\n",
        "    password = \"passwd\",\n",
        "    database='movielens'\n",
        ")\n",
        "\n",
        "cursor = cnx.cursor()"
      ],
      "execution_count": 3,
      "outputs": []
    },
    {
      "cell_type": "markdown",
      "metadata": {
        "id": "VXfAPzlUK0mP"
      },
      "source": [
        "# Passwd = khQ9--mp6LWq97iA"
      ]
    },
    {
      "cell_type": "code",
      "metadata": {
        "id": "wMLDLBKXE1Ww",
        "outputId": "ede790af-2670-4f6f-f553-a0ad0c3c9c38",
        "colab": {
          "base_uri": "https://localhost:8080/"
        }
      },
      "source": [
        "cursor.execute(\"SHOW TABLES\")\r\n",
        "cursor.fetchall()"
      ],
      "execution_count": 8,
      "outputs": [
        {
          "output_type": "execute_result",
          "data": {
            "text/plain": [
              "[('age_ranges',), ('movies',), ('occupations',), ('ratings',), ('users',)]"
            ]
          },
          "metadata": {
            "tags": []
          },
          "execution_count": 8
        }
      ]
    },
    {
      "cell_type": "code",
      "metadata": {
        "id": "1QOb157AFBjn"
      },
      "source": [
        "def get_table_as_df(cursor, table, columns, index_col=None):\r\n",
        "    #df =  pd.read_sql('SELECT * FROM <table>', cnx)\r\n",
        "    import pandas as pd\r\n",
        "    try:\r\n",
        "      cursor.execute(f\"SELECT * FROM {table}\")\r\n",
        "      rs = cursor.fetchall()\r\n",
        "    except mysql.connector.Error as err:\r\n",
        "      print(\"Something went wrong: {}\".format(err))\r\n",
        "      return\r\n",
        "    df = pd.DataFrame(rs, columns=columns)\r\n",
        "    return df.set_index(index_col, drop=True) if index_col else df"
      ],
      "execution_count": 24,
      "outputs": []
    },
    {
      "cell_type": "code",
      "metadata": {
        "id": "BmgG02omGLQ4"
      },
      "source": [
        "ages = get_table_as_df(cursor, \"age_ranges\", [\"age_id\", \"age_range\"], \"age_id\")\r\n",
        "movies = get_table_as_df(cursor, \"movies\", [\"movie_id\", \"title\", \"genres\"], \"movie_id\")\r\n",
        "occup = get_table_as_df(cursor, \"occupations\", [\"occupation_id\", \"description\"], \"occupation_id\")\r\n",
        "ratings = get_table_as_df(cursor, \"ratings\", [\"user_id\", \"movie_id\", \"rating\", \"timestamp\"])\r\n",
        "users = get_table_as_df(cursor, \"users\", ['user_id', 'gender', 'age', 'occupation', 'cp'], \"user_id\")"
      ],
      "execution_count": 25,
      "outputs": []
    },
    {
      "cell_type": "code",
      "metadata": {
        "id": "MtR1oEKbE26Q",
        "outputId": "4c6c0f29-4856-4989-8bbb-ac427a5472e3",
        "colab": {
          "base_uri": "https://localhost:8080/"
        }
      },
      "source": [
        "cursor.close()"
      ],
      "execution_count": 29,
      "outputs": [
        {
          "output_type": "execute_result",
          "data": {
            "text/plain": [
              "True"
            ]
          },
          "metadata": {
            "tags": []
          },
          "execution_count": 29
        }
      ]
    },
    {
      "cell_type": "code",
      "metadata": {
        "id": "DT54MnWjKEF_"
      },
      "source": [
        "ages.to_csv(\"ages.csv\", sep=\"$\", encoding=\"utf-8\")\r\n",
        "movies.to_csv(\"movies.csv\", sep=\"$\", encoding=\"utf-8\")\r\n",
        "occup.to_csv(\"occupation.csv\", sep=\"$\", encoding=\"utf-8\")\r\n",
        "ratings.to_csv(\"occupation.csv\", sep=\"$\", encoding=\"utf-8\", index=False)\r\n",
        "users.to_csv(\"occupation.csv\", sep=\"$\", encoding=\"utf-8\")"
      ],
      "execution_count": null,
      "outputs": []
    },
    {
      "cell_type": "markdown",
      "metadata": {
        "id": "Plyl8qQKD8N6"
      },
      "source": [
        "Compara con tus compañeros y revisa con la experta para que todos estén seguros de que tienen sus `DataFrames` estructurados de la manera correcta y que sus archivos .csv fueron creados exitosamente. Vamos a utilizar estos archivos en los Retos siguientes, así que es muy importante que tus datos estén estructurados adecuadamente."
      ]
    },
    {
      "cell_type": "code",
      "metadata": {
        "id": "HY_MESpeD8N7"
      },
      "source": [
        ""
      ],
      "execution_count": null,
      "outputs": []
    }
  ]
}