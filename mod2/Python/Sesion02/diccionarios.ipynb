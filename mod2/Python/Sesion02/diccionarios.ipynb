{
  "nbformat": 4,
  "nbformat_minor": 0,
  "metadata": {
    "kernelspec": {
      "display_name": "Python 3",
      "language": "python",
      "name": "python3"
    },
    "language_info": {
      "codemirror_mode": {
        "name": "ipython",
        "version": 3
      },
      "file_extension": ".py",
      "mimetype": "text/x-python",
      "name": "python",
      "nbconvert_exporter": "python",
      "pygments_lexer": "ipython3",
      "version": "3.8.3"
    },
    "colab": {
      "name": "diccionarios.ipynb",
      "provenance": []
    }
  },
  "cells": [
    {
      "cell_type": "markdown",
      "metadata": {
        "id": "VCauypqlLay2"
      },
      "source": [
        "## Reto 3: Creando y accesando diccionarios\n",
        "\n",
        "### 1. Objetivos:\n",
        "    - Entender cómo crear diccionarios y cómo acceder a ellos\n",
        " \n",
        "---\n",
        "    \n",
        "### 2. Desarrollo:"
      ]
    },
    {
      "cell_type": "markdown",
      "metadata": {
        "id": "-4xuZMT9Lay7"
      },
      "source": [
        "Debajo hemos definido un diccionario. Este diccionario se encuentra incompleto, aunque no lo parezca:"
      ]
    },
    {
      "cell_type": "code",
      "metadata": {
        "id": "t_re3REGLay8"
      },
      "source": [
        "ventas_mensuales = {\n",
        "    \"fecha_de_corte\": \"01/05/2020\",\n",
        "    \"unidad\": \"Aragón\",\n",
        "    \"ventas_pasteleria\": 100,\n",
        "    \"ventas_panaderia\": 200, \n",
        "    \"ganancias_pasteleria\": 150, \n",
        "    \"ganancias_panaderia\": 230,\n",
        "    \"gastos_mensuales_totales\": 380,\n",
        "    \"analista\": \"Walter\"\n",
        "}"
      ],
      "execution_count": 3,
      "outputs": []
    },
    {
      "cell_type": "markdown",
      "metadata": {
        "id": "XwptXHW3Lay8"
      },
      "source": [
        "Debajo tenemos algunos procedimientos que han sido realizados utilizando este diccionario. Como puedes ver, algunos de los accesos que se están haciendo van a fallar porque el diccionario `ventas_mensuales` no está completo:"
      ]
    },
    {
      "cell_type": "code",
      "metadata": {
        "id": "kKKb7PzqLay9",
        "outputId": "00be4544-8ab3-42a4-a5ea-503b37b2ef7c",
        "colab": {
          "base_uri": "https://localhost:8080/"
        }
      },
      "source": [
        "ventas_totales_de_insumos = ventas_mensuales[\"ventas_pasteleria\"] + ventas_mensuales[\"ventas_panaderia\"]\n",
        "ganancias_totales = ventas_mensuales[\"ganancias_pasteleria\"] + ventas_mensuales[\"ganancias_panaderia\"]\n",
        "ganancias_netas = ganancias_totales - ventas_mensuales[\"gastos_mensuales_totales\"]\n",
        "\n",
        "print(f'==Resumen de ventas mensuales de la unidad {ventas_mensuales[\"unidad\"]}==/n')\n",
        "print(f'Fecha de corte: {ventas_mensuales[\"fecha_de_corte\"]}/n')\n",
        "print(f'  - Ventas totales de insumos: {ventas_totales_de_insumos}')\n",
        "print(f'  - Ganancias totales: {ganancias_totales}')\n",
        "print(f'  - Ganancias netas: {ganancias_netas}')\n",
        "print(f'\\n')\n",
        "print(f'(Información recabada por: {ventas_mensuales[\"analista\"]})')"
      ],
      "execution_count": 4,
      "outputs": [
        {
          "output_type": "stream",
          "text": [
            "==Resumen de ventas mensuales de la unidad Aragón==/n\n",
            "Fecha de corte: 01/05/2020/n\n",
            "  - Ventas totales de insumos: 300\n",
            "  - Ganancias totales: 380\n",
            "  - Ganancias netas: 0\n",
            "\n",
            "\n",
            "(Información recabada por: Walter)\n"
          ],
          "name": "stdout"
        }
      ]
    },
    {
      "cell_type": "markdown",
      "metadata": {
        "id": "YETPUHHoLay9"
      },
      "source": [
        "Completa el diccionario `ventas_mensuales` para que el código que imprime el resumen de las ventas funcione correctamente."
      ]
    },
    {
      "cell_type": "code",
      "metadata": {
        "id": "Lav48R55Lay-"
      },
      "source": [
        ""
      ],
      "execution_count": null,
      "outputs": []
    }
  ]
}