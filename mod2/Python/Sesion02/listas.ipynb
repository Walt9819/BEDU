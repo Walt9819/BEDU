{
 "cells": [
  {
   "cell_type": "markdown",
   "metadata": {
    "id": "jm-fZUn73ZtS"
   },
   "source": [
    "## Reto 1: Creando listas y accediendo a ellas\n",
    "\n",
    "### 1. Objetivos:\n",
    "    - Practicar crear listas con valores crudos y variables\n",
    "    - Practicar acceder a listas usando índices\n",
    " \n",
    "---\n",
    "    \n",
    "### 2. Desarrollo:"
   ]
  },
  {
   "cell_type": "markdown",
   "metadata": {
    "id": "4o2EWgno3Zta"
   },
   "source": [
    "#### a) Definiendo una lista\n",
    "\n",
    "Debajo de esta celda hay un nombre de una variable que aún no ha sido asignada:"
   ]
  },
  {
   "cell_type": "code",
   "execution_count": 1,
   "metadata": {
    "id": "HDBfJGKy3Ztc"
   },
   "outputs": [],
   "source": [
    "mi_informacion = [\"Walter\", \"Walt\", \"Lasagna\", \"Güayaba\", \"Data Science y AI\"]"
   ]
  },
  {
   "cell_type": "markdown",
   "metadata": {
    "id": "MOfWnC713Ztd"
   },
   "source": [
    "Ahora, tenemos un `print` que imprime una string formateada para mostrar cierta información acerca de ti (Las triples comillas `'''` nos sirven para generar strings de varias líneas):"
   ]
  },
  {
   "cell_type": "code",
   "execution_count": 2,
   "metadata": {
    "id": "UMHb953r3Ztd"
   },
   "outputs": [
    {
     "name": "stdout",
     "output_type": "stream",
     "text": [
      "\n",
      "¡Hola! Mi nombre es Walter. Todos me dicen Walt.\n",
      "Mi comida favorita es Lasagna. Y la comida que más detesto es Güayaba.\n",
      "Mi trabajo ideal sería Data Science y AI.\n",
      "¡Gracias, chau!\n",
      "\n"
     ]
    }
   ],
   "source": [
    "print(f'''\n",
    "¡Hola! Mi nombre es {mi_informacion[0]}. Todos me dicen {mi_informacion[1]}.\n",
    "Mi comida favorita es {mi_informacion[2]}. Y la comida que más detesto es {mi_informacion[3]}.\n",
    "Mi trabajo ideal sería {mi_informacion[4]}.\n",
    "¡Gracias, chau!\n",
    "''')"
   ]
  },
  {
   "cell_type": "markdown",
   "metadata": {
    "id": "2bXZOTZJ3Zte"
   },
   "source": [
    "Para que esta string funcione, asigna una lista a la variable `mi_informacion` con toda la información necesaria para imprimir tu micro-bio debajo de la celda."
   ]
  },
  {
   "cell_type": "markdown",
   "metadata": {
    "id": "dzO29OPp3Zte"
   },
   "source": [
    "#### b) Una lista construida con variables \n",
    "\n",
    "Debajo de esta celda vemos los nombres de varias variables y una lista que las contiene."
   ]
  },
  {
   "cell_type": "code",
   "execution_count": 4,
   "metadata": {
    "id": "Mc7PvfAn3Zte"
   },
   "outputs": [],
   "source": [
    "info_0 = \"humanos\"\n",
    "info_1 = \"salir del sistema solar\"\n",
    "info_2 = \"serán otros\"\n",
    "info_3 = \"repensar su existencia en le universo\"\n",
    "info_4 = \"estudio\"\n",
    "\n",
    "info_faltante = [info_0, info_1, info_2, info_3, info_4]"
   ]
  },
  {
   "cell_type": "markdown",
   "metadata": {
    "id": "y6Vt4hSR3Ztf"
   },
   "source": [
    "Ahora, tenemos un `print` que imprime una pequeña historia utilizando la lista `info_faltante` que contiene a las demás variables:"
   ]
  },
  {
   "cell_type": "code",
   "execution_count": 5,
   "metadata": {
    "id": "Z6dPnMGu3Ztf"
   },
   "outputs": [
    {
     "name": "stdout",
     "output_type": "stream",
     "text": [
      "\n",
      "Algún día los humanos lograrán su objetivo. Su objetivo de salir del sistema solar.\n",
      "Ese día, los humanos serán otros y tendrán que repensar su existencia en le universo.\n",
      "Por esa razón yo todos los días estudio.\n",
      "\n"
     ]
    }
   ],
   "source": [
    "print(f'''\n",
    "Algún día los {info_faltante[0]} lograrán su objetivo. Su objetivo de {info_faltante[1]}.\n",
    "Ese día, los humanos {info_faltante[2]} y tendrán que {info_faltante[3]}.\n",
    "Por esa razón yo todos los días {info_faltante[4]}.\n",
    "''')"
   ]
  },
  {
   "cell_type": "markdown",
   "metadata": {
    "id": "jE8Mn98X3Ztf"
   },
   "source": [
    "Tu reto será asignar las variables `info_x` con la información que desees para crear una historia a tu gusto. Cada variable puede contener una string que tenga varias palabras (frases, pues). Si te dan ganas, ¡comparte la historia con tus compañeros!"
   ]
  },
  {
   "cell_type": "markdown",
   "metadata": {
    "id": "ha0Xgf0P3Ztg"
   },
   "source": [
    "#### c) Practicando el operador de indexación \n",
    "\n",
    "Debajo de esta celda hay una lista con números dentro:"
   ]
  },
  {
   "cell_type": "code",
   "execution_count": 6,
   "metadata": {
    "id": "pdOcPFLz3Ztg"
   },
   "outputs": [],
   "source": [
    "respuestas = [0.58, 9, 2, 3, 37, 5, 75, 4]"
   ]
  },
  {
   "cell_type": "markdown",
   "metadata": {
    "id": "xbkf2-Gt3Zth"
   },
   "source": [
    "Ahora, tenemos un `print` con una string interpolada. Como puedes ver todas las interpolaciones están vacías:"
   ]
  },
  {
   "cell_type": "code",
   "execution_count": 7,
   "metadata": {
    "colab": {
     "base_uri": "https://localhost:8080/"
    },
    "id": "MESaLHKS3Zth",
    "outputId": "7363fed0-7d1a-42b1-bf4b-b51dd8c3176e"
   },
   "outputs": [
    {
     "name": "stdout",
     "output_type": "stream",
     "text": [
      "\n",
      "1. Los humanos tenemos 2 ojos en la cara.\n",
      "2. Un humano adulto tiene 32 dientes dentro de su boca.\n",
      "3. Un feto tarda 9 meses en gestarse antes de nacer.\n",
      "4. La expectativa de vida en México es de alrededor de 75 años.\n",
      "5. Las horas de sueño al día recomendadas para adultos jóvenes son entre 7 y 9.\n",
      "6. El récord actual de velocidad en 100 metros (09/05/2020) fue establecido por Usain Bolt y es de 9.58\n",
      "\n"
     ]
    }
   ],
   "source": [
    "print(f'''\n",
    "1. Los humanos tenemos {respuestas[-6]} ojos en la cara.\n",
    "2. Un humano adulto tiene {respuestas[-4] - respuestas[-3]} dientes dentro de su boca.\n",
    "3. Un feto tarda {respuestas[-7]} meses en gestarse antes de nacer.\n",
    "4. La expectativa de vida en México es de alrededor de {respuestas[-2]} años.\n",
    "5. Las horas de sueño al día recomendadas para adultos jóvenes son entre {respuestas[-1] + respuestas[-5]} y {respuestas[-7]}.\n",
    "6. El récord actual de velocidad en 100 metros (09/05/2020) fue establecido por Usain Bolt y es de {respuestas[-len(respuestas)] + respuestas[-7]}\n",
    "''')"
   ]
  },
  {
   "cell_type": "markdown",
   "metadata": {
    "id": "AjVTfssc3Zti"
   },
   "source": [
    "Tu reto es llenar las interpolaciones en la string con elementos de la lista de arriba. Usa los índices de los elementos para acceder a las respuestas correctas y llenar la lista con información coherente. No todas las respuestas están en la lista. Para obtener algunas respuestas tendrás que acceder a elementos de la lista y realizar operaciones numéricas con ellos (usando `+` o `-`).\n",
    "\n",
    "> Reto extra: Si quieres un poco más de dificultad, accede a todos los elementos usando **solamente** números negativos como índices"
   ]
  },
  {
   "cell_type": "code",
   "execution_count": null,
   "metadata": {
    "id": "SJsvUuVM3Zti"
   },
   "outputs": [],
   "source": []
  }
 ],
 "metadata": {
  "colab": {
   "name": "listas.ipynb",
   "provenance": []
  },
  "kernelspec": {
   "display_name": "Python 3",
   "language": "python",
   "name": "python3"
  },
  "language_info": {
   "codemirror_mode": {
    "name": "ipython",
    "version": 3
   },
   "file_extension": ".py",
   "mimetype": "text/x-python",
   "name": "python",
   "nbconvert_exporter": "python",
   "pygments_lexer": "ipython3",
   "version": "3.8.5"
  }
 },
 "nbformat": 4,
 "nbformat_minor": 1
}
