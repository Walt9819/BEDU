{
  "nbformat": 4,
  "nbformat_minor": 0,
  "metadata": {
    "kernelspec": {
      "display_name": "Python (data_science)",
      "language": "python",
      "name": "data_science"
    },
    "language_info": {
      "codemirror_mode": {
        "name": "ipython",
        "version": 3
      },
      "file_extension": ".py",
      "mimetype": "text/x-python",
      "name": "python",
      "nbconvert_exporter": "python",
      "pygments_lexer": "ipython3",
      "version": "3.8.5"
    },
    "colab": {
      "name": "graficando_multiples_axis.ipynb",
      "provenance": []
    }
  },
  "cells": [
    {
      "cell_type": "markdown",
      "metadata": {
        "id": "_pBgK3lvm3bI"
      },
      "source": [
        "## Reto 4: Graficando múltiples axis\n",
        "\n",
        "### 1. Objetivos:\n",
        "    - Usar subplots para graficar múltiples gráficas de barras al mismo tiempo\n",
        " \n",
        "---\n",
        "    \n",
        "### 2. Desarrollo:"
      ]
    },
    {
      "cell_type": "markdown",
      "metadata": {
        "id": "uYxjGvdxm3bN"
      },
      "source": [
        "En el Reto pasado generamos tablas de contingencia para segmentar nuestros datos usando dos o más variables categóricas. El problema con nuestras gráficas es que resultaba muy incómodo e ineficiente compararlas. Una manera mucho más efectiva de comparar varias gráficas es graficarlas en la misma figura. Tu Reto consiste en lo siguiente:\n",
        "\n",
        "1. Lee el dataset 'melbourne_housing-clean.csv'.\n",
        "2. Crea una tabla de contingencia donde el índice esté dado por la variable 'region_name' y las columnas por la variable 'type'. Esto nos va a dar una tabla donde tenemos la frecuencia de cada tipo de propiedad segmentada por regiones.\n",
        "3. Genera una figura con 8 subplots para hacer gráficas de barras de cada región en nuestro dataset. Cada gráfica tendrá 3 barras, correspondiendo a los tipos 'h', 't' y 'u'.\n",
        "4. Asegúrate de que compartan eje `x` y `y` para que sea fácil compararlas. Además agrega anotaciones y títulos donde creas necesario.\n",
        "5. Describe tus hallazgos y comparte con tus compañeros qué podrían significar."
      ]
    },
    {
      "cell_type": "code",
      "metadata": {
        "id": "gMQko7kjm6jP"
      },
      "source": [
        "import pandas as pd\n",
        "import seaborn as sbn\n",
        "import matplotlib.pyplot as plt\n",
        "\n",
        "df = pd.read_csv(\"https://raw.githubusercontent.com/beduExpert/B2-Analisis-de-Datos-con-Python-2020-Santander/main/Datasets/melbourne_housing-clean.csv\", index_col=0)"
      ],
      "execution_count": 3,
      "outputs": []
    },
    {
      "cell_type": "code",
      "metadata": {
        "id": "ixyn9i36nTjA",
        "outputId": "c0556b85-7322-4947-a7e2-c1a1b1b1701d",
        "colab": {
          "base_uri": "https://localhost:8080/"
        }
      },
      "source": [
        "crossTable = pd.crosstab(df['region_name'], df['type'])\n",
        "print(crossTable)"
      ],
      "execution_count": 5,
      "outputs": [
        {
          "output_type": "stream",
          "text": [
            "type                           h    t     u\n",
            "region_name                                \n",
            "Eastern Metropolitan         863  102   159\n",
            "Eastern Victoria              33    0     3\n",
            "Northern Metropolitan       2332  290   796\n",
            "Northern Victoria             21    1     0\n",
            "South-Eastern Metropolitan   224   20    28\n",
            "Southern Metropolitan       2360  386  1478\n",
            "Western Metropolitan        1908  226   394\n",
            "Western Victoria              21    0     1\n"
          ],
          "name": "stdout"
        }
      ]
    },
    {
      "cell_type": "code",
      "metadata": {
        "id": "MSqW_vIQoCAl",
        "outputId": "fd81f94c-e604-4387-be5e-81da21cff772",
        "colab": {
          "base_uri": "https://localhost:8080/",
          "height": 540
        }
      },
      "source": [
        "numPlots = 8; cols=4; rows = 2;\n",
        "fig, axes = plt.subplots(cols, rows, figsize=(10, 8), sharex=True, sharey=True)\n",
        "\n",
        "for iax in range(cols):\n",
        "  for jax in range(rows):\n",
        "    index = crossTable.index[iax+jax]\n",
        "    sbn.barplot(x=crossTable.columns, y=crossTable.loc[index], ax=axes[iax, jax])\n",
        "    axes[iax, jax].set(xlabel='', ylabel='', title=f'{crossTable.index[iax+jax]}')\n",
        "\n",
        "\n",
        "fig.suptitle('Ratings de restaurantes separados por rango de precio', fontsize=15);"
      ],
      "execution_count": 36,
      "outputs": [
        {
          "output_type": "display_data",
          "data": {
            "image/png": "[encoded data removed]",
            "text/plain": [
              "<Figure size 720x576 with 8 Axes>"
            ]
          },
          "metadata": {
            "tags": [],
            "needs_background": "light"
          }
        }
      ]
    },
    {
      "cell_type": "markdown",
      "metadata": {
        "id": "lYfLREKcm3bO"
      },
      "source": [
        "<details><summary>Solución</summary>\n",
        "\n",
        "```python\n",
        "df = pd.read_csv('../../Datasets/melbourne_housing-clean.csv', index_col=0)\n",
        "regionname_type = pd.crosstab(df['region_name'], [df['type']])\n",
        "\n",
        "fig, axes = plt.subplots(2, 4, figsize=(15, 8), sharex=True, sharey=True)\n",
        "\n",
        "sns.barplot(regionname_type.loc['Eastern Metropolitan'].index, regionname_type.loc['Eastern Metropolitan'], ax=axes[0, 0])\n",
        "sns.barplot(regionname_type.loc['Eastern Victoria'].index, regionname_type.loc['Eastern Victoria'], ax=axes[0, 1])\n",
        "sns.barplot(regionname_type.loc['Northern Metropolitan'].index, regionname_type.loc['Northern Metropolitan'], ax=axes[0, 2])\n",
        "sns.barplot(regionname_type.loc['Northern Victoria'].index, regionname_type.loc['Northern Victoria'], ax=axes[0, 3])\n",
        "sns.barplot(regionname_type.loc['South-Eastern Metropolitan'].index, regionname_type.loc['South-Eastern Metropolitan'], ax=axes[1, 0])\n",
        "sns.barplot(regionname_type.loc['Southern Metropolitan'].index, regionname_type.loc['Southern Metropolitan'], ax=axes[1, 1])\n",
        "sns.barplot(regionname_type.loc['Western Metropolitan'].index, regionname_type.loc['Western Metropolitan'], ax=axes[1, 2])\n",
        "sns.barplot(regionname_type.loc['Western Victoria'].index, regionname_type.loc['Western Victoria'], ax=axes[1, 3])\n",
        "```\n",
        "    \n",
        "</details>"
      ]
    },
    {
      "cell_type": "code",
      "metadata": {
        "id": "-DlVTOVIm3bP"
      },
      "source": [
        ""
      ],
      "execution_count": null,
      "outputs": []
    }
  ]
}