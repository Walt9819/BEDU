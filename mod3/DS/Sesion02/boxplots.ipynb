{
  "nbformat": 4,
  "nbformat_minor": 0,
  "metadata": {
    "kernelspec": {
      "display_name": "Python (data_science)",
      "language": "python",
      "name": "data_science"
    },
    "language_info": {
      "codemirror_mode": {
        "name": "ipython",
        "version": 3
      },
      "file_extension": ".py",
      "mimetype": "text/x-python",
      "name": "python",
      "nbconvert_exporter": "python",
      "pygments_lexer": "ipython3",
      "version": "3.8.5"
    },
    "colab": {
      "name": "boxplots.ipynb",
      "provenance": []
    }
  },
  "cells": [
    {
      "cell_type": "markdown",
      "metadata": {
        "id": "A9z9K7Ub7IVX"
      },
      "source": [
        "## Reto 1: Boxplots\n",
        "\n",
        "### 1. Objetivos:\n",
        "    - Aprender a graficar e interpretar boxplots utilizando Seaborn\n",
        "    - Aprender a lidiar con valores atípicos usando IQR-Score\n",
        " \n",
        "---\n",
        "    \n",
        "### 2. Desarrollo:"
      ]
    },
    {
      "cell_type": "markdown",
      "metadata": {
        "id": "MqG09GZt7IVc"
      },
      "source": [
        "#### a) Usando boxplots para analizar la distribución de nuestros datos\n",
        "\n",
        "Vamos a hacer algunas gráficas de boxplot y describirlas en equipo. Usa Seaborn para generar gráficas boxplot de los siguientes datasets y columnas:\n",
        "\n",
        "1. Dataset: 'near_earth_objects-jan_feb_1995-clean.csv'\n",
        "    - Columnas a graficar: 'estimated_diameter.meters.estimated_diameter_max' y 'relative_velocity.kilometers_per_second'\n",
        "2. Dataset: 'new_york_times_bestsellers-clean.json'\n",
        "    - Columnas a graficar: 'price.numberDouble'\n",
        "3. Dataset: 'melbourne_housing-clean.csv'\n",
        "    - Columnas a graficar: 'land_size'\n",
        "    \n",
        "> Para conocer más detalles acerca de estos datasets, ve a Datasets/Readme.md y visita los links de las fuentes de donde provienen. Es una gran idea hacer esto para que entiendas el contexto alrededor de los análisis que vamos a estar realizando.\n",
        "    \n",
        "Realiza estas 4 visualizaciones y comenta con la experta y tus compañeros qué conclusiones o hipótesis podemos hacer sobre nuestros datos. Para profundizar en el análisis puedes obtener también el rango, la mediana, el valor mínimo y máximo, el percentil 25 y el percentil 75. De esta manera tendrás valores concretos con los que realizar tu análisis."
      ]
    },
    {
      "cell_type": "code",
      "metadata": {
        "id": "tuIluqmF8Gkn"
      },
      "source": [
        "import pandas as pd\n",
        "import seaborn as sns\n",
        "import matplotlib.pyplot as plt"
      ],
      "execution_count": 4,
      "outputs": []
    },
    {
      "cell_type": "code",
      "metadata": {
        "id": "ZXkk_51N7IVd"
      },
      "source": [
        "def displayInfo(data):\n",
        "    return {\"mean\": data.mean(), \"range\": data.max() - data.min(), \"median\": data.median(), \n",
        "            \"max\": data.max(), \"min\": data.min(), \"Q25\": data.quantile(0.25), \"Q75\": data.quantile(0.75),\n",
        "            \"std\": data.std()}"
      ],
      "execution_count": 23,
      "outputs": []
    },
    {
      "cell_type": "code",
      "metadata": {
        "id": "qR8-_c1t75K7"
      },
      "source": [
        "df_near = pd.read_csv(\"https://raw.githubusercontent.com/beduExpert/B2-Analisis-de-Datos-con-Python-2020-Santander/main/Datasets/near_earth_objects-jan_feb_1995-clean.csv\")\n",
        "df_nyt = pd.read_json(\"https://raw.githubusercontent.com/beduExpert/B2-Analisis-de-Datos-con-Python-2020-Santander/main/Datasets/new_york_times_bestsellers-clean.json\")\n",
        "df_melbourne = pd.read_csv(\"https://raw.githubusercontent.com/beduExpert/B2-Analisis-de-Datos-con-Python-2020-Santander/main/Datasets/melbourne_housing-clean.csv\")"
      ],
      "execution_count": 3,
      "outputs": []
    },
    {
      "cell_type": "code",
      "metadata": {
        "id": "nGmFaDVz8u4P",
        "outputId": "e0784f34-ffd7-49ad-d0c3-2b469fb141ce",
        "colab": {
          "base_uri": "https://localhost:8080/",
          "height": 726
        }
      },
      "source": [
        "print(\"Near objects...\")\n",
        "for col in [\"estimated_diameter.meters.estimated_diameter_max\", \"relative_velocity.kilometers_per_second\"]:\n",
        "    print(f\"\\nUsing col: {col}\")\n",
        "    dat = df_near[col]\n",
        "    print(displayInfo(dat), end=\"\\n\\n\")\n",
        "    sns.set(style=\"whitegrid\")\n",
        "    sns.boxplot(x=dat)\n",
        "    plt.show()"
      ],
      "execution_count": 24,
      "outputs": [
        {
          "output_type": "stream",
          "text": [
            "Near objects...\n",
            "\n",
            "Using col: estimated_diameter.meters.estimated_diameter_max\n",
            "{'mean': 410.0860422397653, 'range': 6513.905031051, 'median': 215.7943048444, 'max': 6516.883821679, 'min': 2.978790628, 'Q25': 62.2357573367, 'Q75': 517.6544821978, 'std': 614.691591855223}\n",
            "\n"
          ],
          "name": "stdout"
        },
        {
          "output_type": "display_data",
          "data": {
            "image/png": "[encoded data removed]",
            "text/plain": [
              "<Figure size 432x288 with 1 Axes>"
            ]
          },
          "metadata": {
            "tags": []
          }
        },
        {
          "output_type": "stream",
          "text": [
            "\n",
            "Using col: relative_velocity.kilometers_per_second\n",
            "{'mean': 14.98422791317087, 'range': 39.8459916905, 'median': 14.257165835699999, 'max': 40.5274283635, 'min': 0.681436673, 'Q25': 8.599442511900001, 'Q75': 18.7825458444, 'std': 7.995994189625905}\n",
            "\n"
          ],
          "name": "stdout"
        },
        {
          "output_type": "display_data",
          "data": {
            "image/png": "[encoded data removed]",
            "text/plain": [
              "<Figure size 432x288 with 1 Axes>"
            ]
          },
          "metadata": {
            "tags": []
          }
        }
      ]
    },
    {
      "cell_type": "code",
      "metadata": {
        "id": "Anz8VNAB92a6",
        "outputId": "967fcecd-1c27-49e5-dc9b-308ce72c41b2",
        "colab": {
          "base_uri": "https://localhost:8080/",
          "height": 336
        }
      },
      "source": [
        "print(\"NY Times...\")\n",
        "dat = df_nyt[\"price.numberDouble\"]\n",
        "print(displayInfo(dat), end=\"\\n\\n\")\n",
        "sns.set(style=\"whitegrid\")\n",
        "sns.boxplot(x=dat)\n",
        "plt.show()"
      ],
      "execution_count": 25,
      "outputs": [
        {
          "output_type": "stream",
          "text": [
            "NY Times...\n",
            "{'mean': 26.8183679525219, 'range': 20.0, 'median': 26.95, 'max': 34.99, 'min': 14.99, 'Q25': 25.95, 'Q75': 27.99, 'std': 1.7877201897118788}\n",
            "\n"
          ],
          "name": "stdout"
        },
        {
          "output_type": "display_data",
          "data": {
            "image/png": "[encoded data removed]",
            "text/plain": [
              "<Figure size 432x288 with 1 Axes>"
            ]
          },
          "metadata": {
            "tags": []
          }
        }
      ]
    },
    {
      "cell_type": "code",
      "metadata": {
        "id": "9RT9AnWh936-",
        "outputId": "fa14a201-bdc3-40b0-8955-42f4bb4c71d6",
        "colab": {
          "base_uri": "https://localhost:8080/",
          "height": 336
        }
      },
      "source": [
        "print(\"Melbourne house...\")\n",
        "dat = df_melbourne[\"land_size\"]\n",
        "print(displayInfo(dat), end=\"\\n\\n\")\n",
        "sns.set(style=\"whitegrid\")\n",
        "sns.boxplot(x=dat)\n",
        "plt.show()"
      ],
      "execution_count": 26,
      "outputs": [
        {
          "output_type": "stream",
          "text": [
            "Melbourne house...\n",
            "{'mean': 554.4580972007557, 'range': 76000.0, 'median': 412.0, 'max': 76000.0, 'min': 0.0, 'Q25': 162.0, 'Q75': 656.0, 'std': 1460.432326429981}\n",
            "\n"
          ],
          "name": "stdout"
        },
        {
          "output_type": "display_data",
          "data": {
            "image/png": "[encoded data removed]",
            "text/plain": [
              "<Figure size 432x288 with 1 Axes>"
            ]
          },
          "metadata": {
            "tags": []
          }
        }
      ]
    },
    {
      "cell_type": "markdown",
      "metadata": {
        "id": "FREx3BYO7IVe"
      },
      "source": [
        "#### b) Eliminando valores atípicos\n",
        "\n",
        "A partir de las visualizaciones que realizaste en el punto anterior, decide en cuáles columnas tenemos valores atípicos que pueden estorbarnos en nuestro análisis. Elimina dichos valores atípicos usando el Score de Rango Intercuartílico. Puedes probar variando un poco la medida del Score (1.5 * IQR) para eliminar solamente los valores que tú consideras como extremos.\n",
        "\n",
        "Para observar los cambios a detalle, obtén la mediana, la media y la desviación estándar de tus datos *antes* y *después* de eliminar los valores atípicos. Compara estos valores y explica qué es lo que está pasando.\n",
        "\n",
        "Grafica de nuevo tus datos sin valores atípicos para compararlos con las gráficas anteriores.\n",
        "\n",
        "Comenta con la experta y tus compañeros tus hallazgos."
      ]
    },
    {
      "cell_type": "code",
      "metadata": {
        "id": "4GaR9DJp7IVe"
      },
      "source": [
        "def filterDatByIQS(df):\n",
        "    q25 = df.quantile(0.25)\n",
        "    q75 = df.quantile(0.75)\n",
        "    iqs = q75 - q25\n",
        "    d_inf = df > q25 - iqs * 1.5\n",
        "    d_sup = df < q75 + iqs * 1.5\n",
        "    return df[d_inf & d_sup]\n",
        "\n",
        "def createBoxplot(dat):\n",
        "    sns.set(style=\"whitegrid\")\n",
        "    sns.boxplot(x=dat)\n",
        "    plt.show()"
      ],
      "execution_count": 39,
      "outputs": []
    },
    {
      "cell_type": "code",
      "metadata": {
        "id": "4f6jlWSM_pPM",
        "outputId": "fcdb6933-3d29-4918-ebfa-465c703eff54",
        "colab": {
          "base_uri": "https://localhost:8080/",
          "height": 692
        }
      },
      "source": [
        "print(\"Near objects... Before transformation\")\n",
        "data = df_near[\"estimated_diameter.meters.estimated_diameter_max\"]\n",
        "print(displayInfo(data), end=\"\\n\\n\")\n",
        "createBoxplot(data)\n",
        "\n",
        "print(\"\\nNear objects... After transformation\")\n",
        "new_data = filterDatByIQS(data)\n",
        "print(displayInfo(new_data), end=\"\\n\\n\")\n",
        "createBoxplot(new_data)"
      ],
      "execution_count": 40,
      "outputs": [
        {
          "output_type": "stream",
          "text": [
            "Near objects... Before transformation\n",
            "{'mean': 410.0860422397653, 'range': 6513.905031051, 'median': 215.7943048444, 'max': 6516.883821679, 'min': 2.978790628, 'Q25': 62.2357573367, 'Q75': 517.6544821978, 'std': 614.691591855223}\n",
            "\n"
          ],
          "name": "stdout"
        },
        {
          "output_type": "display_data",
          "data": {
            "image/png": "[encoded data removed]",
            "text/plain": [
              "<Figure size 432x288 with 1 Axes>"
            ]
          },
          "metadata": {
            "tags": []
          }
        },
        {
          "output_type": "stream",
          "text": [
            "\n",
            "Near objects... After transformation\n",
            "{'mean': 297.2022048575498, 'range': 1182.8991179491, 'median': 196.80674508939998, 'max': 1185.8779085771, 'min': 2.978790628, 'Q25': 59.434686841899996, 'Q75': 450.8582061718, 'std': 292.3200469017904}\n",
            "\n"
          ],
          "name": "stdout"
        },
        {
          "output_type": "display_data",
          "data": {
            "image/png": "[encoded data removed]",
            "text/plain": [
              "<Figure size 432x288 with 1 Axes>"
            ]
          },
          "metadata": {
            "tags": []
          }
        }
      ]
    },
    {
      "cell_type": "code",
      "metadata": {
        "id": "wqNxG-Y3A-Q0",
        "outputId": "8500e53a-a38b-4a93-eae1-5f1ab413d267",
        "colab": {
          "base_uri": "https://localhost:8080/",
          "height": 672
        }
      },
      "source": [
        "print(\"Melbourne house... Before transformation\")\n",
        "data = df_melbourne[\"land_size\"]\n",
        "print(displayInfo(data), end=\"\\n\\n\")\n",
        "createBoxplot(data)\n",
        "\n",
        "print(\"\\nMelbourne house... After transformation\")\n",
        "new_data = filterDatByIQS(data)\n",
        "print(displayInfo(new_data), end=\"\\n\\n\")\n",
        "createBoxplot(new_data)"
      ],
      "execution_count": 41,
      "outputs": [
        {
          "output_type": "stream",
          "text": [
            "Melbourne house... Before transformation\n",
            "{'mean': 554.4580972007557, 'range': 76000.0, 'median': 412.0, 'max': 76000.0, 'min': 0.0, 'Q25': 162.0, 'Q75': 656.0, 'std': 1460.432326429981}\n",
            "\n"
          ],
          "name": "stdout"
        },
        {
          "output_type": "display_data",
          "data": {
            "image/png": "[encoded data removed]",
            "text/plain": [
              "<Figure size 432x288 with 1 Axes>"
            ]
          },
          "metadata": {
            "tags": []
          }
        },
        {
          "output_type": "stream",
          "text": [
            "\n",
            "Melbourne house... After transformation\n",
            "{'mean': 393.3221145052131, 'range': 1396.0, 'median': 368.0, 'max': 1396.0, 'min': 0.0, 'Q25': 151.0, 'Q75': 622.0, 'std': 290.90216445879526}\n",
            "\n"
          ],
          "name": "stdout"
        },
        {
          "output_type": "display_data",
          "data": {
            "image/png": "[encoded data removed]",
            "text/plain": [
              "<Figure size 432x288 with 1 Axes>"
            ]
          },
          "metadata": {
            "tags": []
          }
        }
      ]
    }
  ]
}