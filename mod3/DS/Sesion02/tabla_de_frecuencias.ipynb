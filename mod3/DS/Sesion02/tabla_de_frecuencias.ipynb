{
  "nbformat": 4,
  "nbformat_minor": 0,
  "metadata": {
    "kernelspec": {
      "display_name": "Python (data_science)",
      "language": "python",
      "name": "data_science"
    },
    "language_info": {
      "codemirror_mode": {
        "name": "ipython",
        "version": 3
      },
      "file_extension": ".py",
      "mimetype": "text/x-python",
      "name": "python",
      "nbconvert_exporter": "python",
      "pygments_lexer": "ipython3",
      "version": "3.8.5"
    },
    "colab": {
      "name": "tabla_de_frecuencias.ipynb",
      "provenance": []
    }
  },
  "cells": [
    {
      "cell_type": "markdown",
      "metadata": {
        "id": "OfwbnRFQK3Fr"
      },
      "source": [
        "## Reto 2: Tablas de frecuencias\n",
        "\n",
        "### 1. Objetivos:\n",
        "    - Aprender a generar tablas de frecuencias segmentando nuestros datos\n",
        " \n",
        "---\n",
        "    \n",
        "### 2. Desarrollo:"
      ]
    },
    {
      "cell_type": "markdown",
      "metadata": {
        "id": "MsHEMh4gK3Fw"
      },
      "source": [
        "#### a) Analizando distribución con tablas de frecuencias\n",
        "\n",
        "Vamos a generar tablas de frecuencias de los siguientes datasets y columnas:\n",
        "\n",
        "1. Dataset: 'near_earth_objects-jan_feb_1995-clean.csv'\n",
        "    - Columnas a graficar: 'estimated_diameter.meters.estimated_diameter_max' y 'relative_velocity.kilometers_per_second'\n",
        "2. Dataset: 'new_york_times_bestsellers-clean.json'\n",
        "    - Columnas a graficar: 'price.numberDouble'\n",
        "3. Dataset: 'melbourne_housing-clean.csv'\n",
        "    - Columnas a graficar: 'land_size'\n",
        "    \n",
        "Estos conjuntos de datos son los mismos que graficamos en el Reto anterior. Antes de generar las tablas de frecuencias, revisa el rango de tus conjuntos de datos y decide el número de segmentos adecuado para cada uno.\n",
        "\n",
        "Después, genera las tablas de frecuencias para cada uno de estos conjuntos de datos y compáralos con las gráficas de caja que realizaste en el Reto anterior. ¿Hay información nueva? ¿Qué ventajas o desventajas nos da esta nueva perspectiva?\n",
        "\n",
        "Piensa cuál de las dos aproximaciones (boxplots y tablas de frecuencia) resulta más útil para detectar valores atípicos. ¿O simplemente son útiles en diferentes contextos?"
      ]
    },
    {
      "cell_type": "code",
      "metadata": {
        "id": "dhvdfGdZMSOG"
      },
      "source": [
        "import pandas as pd\n",
        "import seaborn as sbn\n",
        "import matplotlib.pyplot as plt"
      ],
      "execution_count": 4,
      "outputs": []
    },
    {
      "cell_type": "code",
      "metadata": {
        "id": "yzE5q_H7K5U_"
      },
      "source": [
        "df_near = pd.read_csv(\"https://raw.githubusercontent.com/beduExpert/B2-Analisis-de-Datos-con-Python-2020-Santander/main/Datasets/near_earth_objects-jan_feb_1995-clean.csv\")\n",
        "df_nyt = pd.read_json(\"https://raw.githubusercontent.com/beduExpert/B2-Analisis-de-Datos-con-Python-2020-Santander/main/Datasets/new_york_times_bestsellers-clean.json\")\n",
        "df_melbourne = pd.read_csv(\"https://raw.githubusercontent.com/beduExpert/B2-Analisis-de-Datos-con-Python-2020-Santander/main/Datasets/melbourne_housing-clean.csv\")"
      ],
      "execution_count": 2,
      "outputs": []
    },
    {
      "cell_type": "code",
      "metadata": {
        "id": "gEXEDtTSMzrS"
      },
      "source": [
        "diams = df_near['estimated_diameter.meters.estimated_diameter_max']\n",
        "vel = df_near['relative_velocity.kilometers_per_second']\n",
        "prices = df_nyt[\"price.numberDouble\"]\n",
        "lands = df_melbourne[\"land_size\"]"
      ],
      "execution_count": 3,
      "outputs": []
    },
    {
      "cell_type": "code",
      "metadata": {
        "id": "1fTgJvLAN1vU",
        "outputId": "2b12418c-5bf2-4d83-c1e9-1f243d65ab54",
        "colab": {
          "base_uri": "https://localhost:8080/"
        }
      },
      "source": [
        "segmentos = pd.cut(diams, 20)\n",
        "diams.groupby(segmentos).count()"
      ],
      "execution_count": 7,
      "outputs": [
        {
          "output_type": "execute_result",
          "data": {
            "text/plain": [
              "estimated_diameter.meters.estimated_diameter_max\n",
              "(-3.535, 328.674]       207\n",
              "(328.674, 654.369]       67\n",
              "(654.369, 980.065]       24\n",
              "(980.065, 1305.76]       18\n",
              "(1305.76, 1631.455]       4\n",
              "(1631.455, 1957.15]       6\n",
              "(1957.15, 2282.846]       1\n",
              "(2282.846, 2608.541]      1\n",
              "(2608.541, 2934.236]      1\n",
              "(2934.236, 3259.931]      1\n",
              "(3259.931, 3585.627]      1\n",
              "(3585.627, 3911.322]      1\n",
              "(3911.322, 4237.017]      0\n",
              "(4237.017, 4562.712]      0\n",
              "(4562.712, 4888.408]      0\n",
              "(4888.408, 5214.103]      0\n",
              "(5214.103, 5539.798]      0\n",
              "(5539.798, 5865.493]      0\n",
              "(5865.493, 6191.189]      0\n",
              "(6191.189, 6516.884]      1\n",
              "Name: estimated_diameter.meters.estimated_diameter_max, dtype: int64"
            ]
          },
          "metadata": {
            "tags": []
          },
          "execution_count": 7
        }
      ]
    },
    {
      "cell_type": "code",
      "metadata": {
        "id": "ptc_mtoMScpm",
        "outputId": "ac2fc2be-3a89-47af-aeb3-c5b8399ae4d8",
        "colab": {
          "base_uri": "https://localhost:8080/"
        }
      },
      "source": [
        "segmentos = pd.cut(vel, 15)\n",
        "vel.groupby(segmentos).count()"
      ],
      "execution_count": 9,
      "outputs": [
        {
          "output_type": "execute_result",
          "data": {
            "text/plain": [
              "relative_velocity.kilometers_per_second\n",
              "(0.642, 3.338]       8\n",
              "(3.338, 5.994]      27\n",
              "(5.994, 8.651]      50\n",
              "(8.651, 11.307]     43\n",
              "(11.307, 13.963]    33\n",
              "(13.963, 16.62]     50\n",
              "(16.62, 19.276]     45\n",
              "(19.276, 21.933]    19\n",
              "(21.933, 24.589]    15\n",
              "(24.589, 27.245]    12\n",
              "(27.245, 29.902]    14\n",
              "(29.902, 32.558]     7\n",
              "(32.558, 35.215]     3\n",
              "(35.215, 37.871]     5\n",
              "(37.871, 40.527]     2\n",
              "Name: relative_velocity.kilometers_per_second, dtype: int64"
            ]
          },
          "metadata": {
            "tags": []
          },
          "execution_count": 9
        }
      ]
    },
    {
      "cell_type": "code",
      "metadata": {
        "id": "mLYFOxvxSkn6",
        "outputId": "aff7f6ee-6e0f-4140-f9a0-1642a45def46",
        "colab": {
          "base_uri": "https://localhost:8080/"
        }
      },
      "source": [
        "segmentos = pd.cut(prices, 10)\n",
        "prices.groupby(segmentos).count()"
      ],
      "execution_count": 10,
      "outputs": [
        {
          "output_type": "execute_result",
          "data": {
            "text/plain": [
              "price.numberDouble\n",
              "(14.97, 16.99]      14\n",
              "(16.99, 18.99]       0\n",
              "(18.99, 20.99]      33\n",
              "(20.99, 22.99]      33\n",
              "(22.99, 24.99]     446\n",
              "(24.99, 26.99]    1257\n",
              "(26.99, 28.99]    1154\n",
              "(28.99, 30.99]      84\n",
              "(30.99, 32.99]       0\n",
              "(32.99, 34.99]      12\n",
              "Name: price.numberDouble, dtype: int64"
            ]
          },
          "metadata": {
            "tags": []
          },
          "execution_count": 10
        }
      ]
    },
    {
      "cell_type": "code",
      "metadata": {
        "id": "_ROby73ESq8a",
        "outputId": "95371243-17b2-4644-d77d-ebc04a66259c",
        "colab": {
          "base_uri": "https://localhost:8080/"
        }
      },
      "source": [
        "segmentos = pd.cut(lands, bins=[100, 200, 300, 400, 500, 600, 700, 800, 900, 1000, 10000])\n",
        "lands.groupby(segmentos).count()"
      ],
      "execution_count": 21,
      "outputs": [
        {
          "output_type": "execute_result",
          "data": {
            "text/plain": [
              "land_size\n",
              "(100, 200]       1346\n",
              "(200, 300]       1253\n",
              "(300, 400]        992\n",
              "(400, 500]        781\n",
              "(500, 600]       1298\n",
              "(600, 700]       1557\n",
              "(700, 800]        806\n",
              "(800, 900]        353\n",
              "(900, 1000]       165\n",
              "(1000, 10000]     938\n",
              "Name: land_size, dtype: int64"
            ]
          },
          "metadata": {
            "tags": []
          },
          "execution_count": 21
        }
      ]
    }
  ]
}