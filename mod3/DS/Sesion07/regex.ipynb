{
  "nbformat": 4,
  "nbformat_minor": 0,
  "metadata": {
    "kernelspec": {
      "display_name": "Python (data_science)",
      "language": "python",
      "name": "data_science"
    },
    "language_info": {
      "codemirror_mode": {
        "name": "ipython",
        "version": 3
      },
      "file_extension": ".py",
      "mimetype": "text/x-python",
      "name": "python",
      "nbconvert_exporter": "python",
      "pygments_lexer": "ipython3",
      "version": "3.8.5"
    },
    "colab": {
      "name": "regex.ipynb",
      "provenance": []
    }
  },
  "cells": [
    {
      "cell_type": "markdown",
      "metadata": {
        "id": "CfG_Lm8hNhnj"
      },
      "source": [
        "## Reto 2: Regex\n",
        "\n",
        "### 1. Objetivos:\n",
        "    - Practicar expresiones regulares con un conjunto de datos real\n",
        " \n",
        "---\n",
        "    \n",
        "### 2. Desarrollo:"
      ]
    },
    {
      "cell_type": "markdown",
      "metadata": {
        "id": "6dPijjFvNhnq"
      },
      "source": [
        "Vamos a practicar expresiones regulares utilizando un conjunto de datos llamado 'amazon_fine_food_reviews-clean.csv'. Este conjunto de datos es en realidad un subconjunto de un conjunto más grande que proviene de [esta fuente](https://www.kaggle.com/snap/amazon-fine-food-reviews). Contiene evaluaciones de muchos diversos productos realizadas por usuarios de Amazon. La columna 'text' contiene el texto de la evaluación, y ésa es la columna que nos interesa.\n",
        "\n",
        "Vamos a practicar expresiones regulares con esa columna. Con cada búsqueda que realices vas a obtener un nuevo subconjunto de datos de un tamaño específico. Al terminar tus búsquedas compara el tamaño de tus subconjuntos de datos con los de tus compañeros, para checar que tus respuestas fueron correctas.\n",
        "\n",
        "Tu Reto es entonces obtener subconjunto de datos que tengan estas características:\n",
        "\n",
        "1. Todas las evaluaciones que contengan la palabra 'food' (en minúsculas).\n",
        "2. Todas las evaluaciones que contengan algún número de dos digitos.\n",
        "3. Todas las evaluaciones que contengan algún porcentaje (uno o más digitos seguidos de un signo de porcentaje).\n",
        "4. Todas las evaluaciones que comiencen con la palabra 'Dog' o 'dog'.\n",
        "5. Todas las evaluaciones que terminen con el fragmento 'awesome.' (fíjate que hay específicamente un punto después de la palabra 'awesome').\n",
        "6. Todas las evaluaciones que contengan las palabras 'horrible' **o** 'terrible'.\n",
        "7. Todas las evaluaciones que contengan **solamente** letras minúsculas.\n",
        "\n",
        "Después de realizar estas exploraciones, limpia tu conjunto de datos para remover lo siguiente de todos tus textos:\n",
        "\n",
        "1. Cualquier forma parecida a la siguiente: `<br>` o `<br/>` (revisa variaciones de estos tags, con espacios intermedios, por ejemplo)\n",
        "2. Signos en general\n",
        "3. Digitos\n",
        "4. Cualquier otra cosa que no te parezca relevante para nuestro análisis de lenguaje natural\n",
        "\n",
        "También convierte todas las letras en minúsculas para homogeneizar nuestro conjunto de datos.\n",
        "\n",
        "Guarda tu conjunto de datos como un archivo 'csv' para que lo puedas utilizar en los próximos retos (asegúrate de incluir **por lo menos** las columnas 'text' y 'score'."
      ]
    },
    {
      "cell_type": "code",
      "metadata": {
        "id": "jawwQ2sPNhns"
      },
      "source": [
        "import pandas as pd\n",
        "import re"
      ],
      "execution_count": 1,
      "outputs": []
    },
    {
      "cell_type": "code",
      "metadata": {
        "id": "fB6Gb_ePN6Y3",
        "outputId": "99887966-b4c2-4b61-a0de-fe0bd9beb787",
        "colab": {
          "base_uri": "https://localhost:8080/",
          "height": 320
        }
      },
      "source": [
        "df = pd.read_csv(\"https://github.com/beduExpert/B2-Analisis-de-Datos-con-Python-2020-Santander/raw/main/Datasets/amazon_fine_food_reviews-clean.csv\", index_col=0)\n",
        "df.head(5)"
      ],
      "execution_count": 4,
      "outputs": [
        {
          "output_type": "execute_result",
          "data": {
            "text/html": [
              "<div>\n",
              "<style scoped>\n",
              "    .dataframe tbody tr th:only-of-type {\n",
              "        vertical-align: middle;\n",
              "    }\n",
              "\n",
              "    .dataframe tbody tr th {\n",
              "        vertical-align: top;\n",
              "    }\n",
              "\n",
              "    .dataframe thead th {\n",
              "        text-align: right;\n",
              "    }\n",
              "</style>\n",
              "<table border=\"1\" class=\"dataframe\">\n",
              "  <thead>\n",
              "    <tr style=\"text-align: right;\">\n",
              "      <th></th>\n",
              "      <th>product_id</th>\n",
              "      <th>user_id</th>\n",
              "      <th>profile_name</th>\n",
              "      <th>helpfulness_numerator</th>\n",
              "      <th>helpfulness_denominator</th>\n",
              "      <th>score</th>\n",
              "      <th>time</th>\n",
              "      <th>summary</th>\n",
              "      <th>text</th>\n",
              "    </tr>\n",
              "    <tr>\n",
              "      <th>id</th>\n",
              "      <th></th>\n",
              "      <th></th>\n",
              "      <th></th>\n",
              "      <th></th>\n",
              "      <th></th>\n",
              "      <th></th>\n",
              "      <th></th>\n",
              "      <th></th>\n",
              "      <th></th>\n",
              "    </tr>\n",
              "  </thead>\n",
              "  <tbody>\n",
              "    <tr>\n",
              "      <th>258510</th>\n",
              "      <td>B00168V34W</td>\n",
              "      <td>A1672LH9S1XO70</td>\n",
              "      <td>Lorna J. Loomis \"Canadian Dog Fancier\"</td>\n",
              "      <td>13</td>\n",
              "      <td>14</td>\n",
              "      <td>3</td>\n",
              "      <td>1266796800</td>\n",
              "      <td>Misleading to refer to \"PODS\"</td>\n",
              "      <td>This coffee does NOT come in individual \"PODS\"...</td>\n",
              "    </tr>\n",
              "    <tr>\n",
              "      <th>207915</th>\n",
              "      <td>B000CQID2Y</td>\n",
              "      <td>A42CJC66XO0H7</td>\n",
              "      <td>Scott Schimmel \"A Butterfly Dreaming\"</td>\n",
              "      <td>2</td>\n",
              "      <td>2</td>\n",
              "      <td>5</td>\n",
              "      <td>1279497600</td>\n",
              "      <td>Delicious</td>\n",
              "      <td>I was a little skeptical after looking at the ...</td>\n",
              "    </tr>\n",
              "    <tr>\n",
              "      <th>522649</th>\n",
              "      <td>B007TJGZ0Y</td>\n",
              "      <td>A16QZBG2UN6Z3X</td>\n",
              "      <td>Toology \"Toology\"</td>\n",
              "      <td>0</td>\n",
              "      <td>0</td>\n",
              "      <td>5</td>\n",
              "      <td>1335830400</td>\n",
              "      <td>One of my favs</td>\n",
              "      <td>Gloia Jeans Butter Toffee is one of my favorit...</td>\n",
              "    </tr>\n",
              "    <tr>\n",
              "      <th>393368</th>\n",
              "      <td>B000W7PUOW</td>\n",
              "      <td>A3J21CQZG60K35</td>\n",
              "      <td>Hsieh Pei Hsuan</td>\n",
              "      <td>2</td>\n",
              "      <td>2</td>\n",
              "      <td>5</td>\n",
              "      <td>1265673600</td>\n",
              "      <td>Tasty!!</td>\n",
              "      <td>My families and friends love Planters peanuts ...</td>\n",
              "    </tr>\n",
              "    <tr>\n",
              "      <th>178178</th>\n",
              "      <td>B002FX2IOQ</td>\n",
              "      <td>A1Z7XV6JU0EV8M</td>\n",
              "      <td>Barbara \"Barbara\"</td>\n",
              "      <td>1</td>\n",
              "      <td>6</td>\n",
              "      <td>1</td>\n",
              "      <td>1301788800</td>\n",
              "      <td>Organic Valley White 1 % Milkfat Lowfat Milk, ...</td>\n",
              "      <td>Organic Valley White 1 % Milkfat Lowfat Milk, ...</td>\n",
              "    </tr>\n",
              "  </tbody>\n",
              "</table>\n",
              "</div>"
            ],
            "text/plain": [
              "        product_id  ...                                               text\n",
              "id                  ...                                                   \n",
              "258510  B00168V34W  ...  This coffee does NOT come in individual \"PODS\"...\n",
              "207915  B000CQID2Y  ...  I was a little skeptical after looking at the ...\n",
              "522649  B007TJGZ0Y  ...  Gloia Jeans Butter Toffee is one of my favorit...\n",
              "393368  B000W7PUOW  ...  My families and friends love Planters peanuts ...\n",
              "178178  B002FX2IOQ  ...  Organic Valley White 1 % Milkfat Lowfat Milk, ...\n",
              "\n",
              "[5 rows x 9 columns]"
            ]
          },
          "metadata": {
            "tags": []
          },
          "execution_count": 4
        }
      ]
    },
    {
      "cell_type": "code",
      "metadata": {
        "id": "5wHXCbqtOO1v",
        "outputId": "66a3855e-9361-4d43-ab60-65d7138a1dd5",
        "colab": {
          "base_uri": "https://localhost:8080/"
        }
      },
      "source": [
        "data = df.groupby(\"product_id\")[\"text\"].max()\n",
        "data.head(5)"
      ],
      "execution_count": 10,
      "outputs": [
        {
          "output_type": "execute_result",
          "data": {
            "text/plain": [
              "product_id\n",
              "0006641040    TITLE: Chicken Soup with Rice<br />AUTHOR: Mau...\n",
              "7310172001    I buy a big tub of these for my dog about ever...\n",
              "7310172101    This is a great treat for dogs, but do read th...\n",
              "B00004CI84    well one of the best you just have to have a c...\n",
              "B00004CXX9    What happens when you say his name three times...\n",
              "Name: text, dtype: object"
            ]
          },
          "metadata": {
            "tags": []
          },
          "execution_count": 10
        }
      ]
    },
    {
      "cell_type": "code",
      "metadata": {
        "id": "Ns3WSd0uOfWg"
      },
      "source": [
        "food_data = data[data.str.contains(\"food\")]\n",
        "digits_data = data[data.str.contains(\"\\d{2}\")]\n",
        "porcentage_data = data[data.str.contains(\"\\d+%\")]\n",
        "dog_data = data[data.str.contains(\"^[Dd]og\")] #(\"^dog\", case=False)\n",
        "awesome_data = data[data.str.contains(\"awesome\\.$\")]\n",
        "hor_ter_ble_data = data[data.str.contains(\"[(ho)|(te)]rrible\", case=False)]\n",
        "lower_data = data[data.str.contains(\"^[a-z]+$\")]"
      ],
      "execution_count": 14,
      "outputs": []
    },
    {
      "cell_type": "code",
      "metadata": {
        "id": "h5AgiiZYQfxA",
        "outputId": "ccdae09c-2da0-47a7-fbab-966594988c8e",
        "colab": {
          "base_uri": "https://localhost:8080/"
        }
      },
      "source": [
        "def clean_data(data):\n",
        "  data = data.str.lower()\n",
        "  data = data.str.strip()\n",
        "  data = data.str.replace(\"\")\n",
        "  data = data[~data.str.contains(\"<\\s*br\\s*/?\\s*>\")]"
      ],
      "execution_count": 12,
      "outputs": [
        {
          "output_type": "execute_result",
          "data": {
            "text/plain": [
              "product_id\n",
              "B0000D94PA    Wow.<br />This gingerbread is terrible. Truly ...\n",
              "B0001392LO    Not a bad treat for what it does not have in i...\n",
              "B0001ZZIEC    Shipping was horrible. They claimed they could...\n",
              "B00020XNTS    First thing is their web site. It is terrible....\n",
              "B00024D9X4    Yup it's calorie free and carb free and boy ca...\n",
              "Name: text, dtype: object"
            ]
          },
          "metadata": {
            "tags": []
          },
          "execution_count": 12
        }
      ]
    }
  ]
}