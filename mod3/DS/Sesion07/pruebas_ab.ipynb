{
  "nbformat": 4,
  "nbformat_minor": 0,
  "metadata": {
    "kernelspec": {
      "display_name": "Python (data_science)",
      "language": "python",
      "name": "data_science"
    },
    "language_info": {
      "codemirror_mode": {
        "name": "ipython",
        "version": 3
      },
      "file_extension": ".py",
      "mimetype": "text/x-python",
      "name": "python",
      "nbconvert_exporter": "python",
      "pygments_lexer": "ipython3",
      "version": "3.7.6"
    },
    "colab": {
      "name": "pruebas_ab.ipynb",
      "provenance": []
    }
  },
  "cells": [
    {
      "cell_type": "markdown",
      "metadata": {
        "id": "b4Ugq3t2_HHO"
      },
      "source": [
        "## Reto 1: Pruebas A/B\n",
        "\n",
        "### 1. Objetivos:\n",
        "    - Practicar evaluar los resultados de una Prueba A/B\n",
        " \n",
        "---\n",
        "    \n",
        "### 2. Desarrollo:"
      ]
    },
    {
      "cell_type": "markdown",
      "metadata": {
        "id": "n0jSqO13_HHW"
      },
      "source": [
        "### a) Evaluando una prueba A/B de flujo de ventas\n",
        "\n",
        "El archivo 'ab_test-sales_pipeline-2' tiene datos muy similares a los que vimos en el último ejemplo. Estamos evaluando dos flujos de ventas distintos: A y B. Cada vez que alguien compró el producto gracias a uno de los dos flujos, se registró como un `1` en la columna `conversion` y un `0` en la columna `no conversion`.\n",
        "\n",
        "Evalúa la prueba A/B para saber si los resultados obtenidos son estadísticamente significativos. El Reto consiste en los siguientes pasos:\n",
        "\n",
        "1. Primero cuantifica cuál de los flujos de ventas fue más efectivo y en qué proporción.\n",
        "2. Después aplica el test de permutación:\n",
        "    1. Combina los resultados de ambos grupos en un mismo conjunto de datos\n",
        "    2. Revuelve los datos\n",
        "    3. Usando muestreo aleatorio sin reposición, construye un nuevo grupo A del mismo tamaño que el original.\n",
        "    4. El resto de los datos conforman nuestro nuevo grupo B.\n",
        "    5. Cuantifica la métrica o estadística que calculaste con los grupos originales y guarda el resultado.\n",
        "    6. Repite los pasos 1-5 `R` veces para obtener una distribución de la estadística de interés.\n",
        "3. Grafica tus resultados en un histograma y grafica una línea vertical que marque el resultado del experimento.\n",
        "4. Cuantifica el Valor P y evalúa la significación estadística con un Alfa de 0.05 (5%).\n",
        "5. Comenta tus hallazgos con tus compañeros y la experta."
      ]
    },
    {
      "cell_type": "code",
      "metadata": {
        "id": "Mf1ei13N_HHY"
      },
      "source": [
        "import pandas as pd\n",
        "import matplotlib.pyplot as plt\n",
        "import seaborn as sns"
      ],
      "execution_count": 2,
      "outputs": []
    },
    {
      "cell_type": "code",
      "metadata": {
        "id": "7jxJ7pIG_bNy",
        "outputId": "59290e7b-1815-4120-dcd8-05b5bcbe4ff6",
        "colab": {
          "base_uri": "https://localhost:8080/",
          "height": 359
        }
      },
      "source": [
        "df = pd.read_csv(\"https://github.com/beduExpert/B2-Analisis-de-Datos-con-Python-2020-Santander/raw/main/Datasets/ab_test-sales_pipeline-2.csv\")\n",
        "df.head(10)"
      ],
      "execution_count": 45,
      "outputs": [
        {
          "output_type": "execute_result",
          "data": {
            "text/html": [
              "<div>\n",
              "<style scoped>\n",
              "    .dataframe tbody tr th:only-of-type {\n",
              "        vertical-align: middle;\n",
              "    }\n",
              "\n",
              "    .dataframe tbody tr th {\n",
              "        vertical-align: top;\n",
              "    }\n",
              "\n",
              "    .dataframe thead th {\n",
              "        text-align: right;\n",
              "    }\n",
              "</style>\n",
              "<table border=\"1\" class=\"dataframe\">\n",
              "  <thead>\n",
              "    <tr style=\"text-align: right;\">\n",
              "      <th></th>\n",
              "      <th>test</th>\n",
              "      <th>conversion</th>\n",
              "      <th>no conversion</th>\n",
              "    </tr>\n",
              "  </thead>\n",
              "  <tbody>\n",
              "    <tr>\n",
              "      <th>0</th>\n",
              "      <td>A</td>\n",
              "      <td>0</td>\n",
              "      <td>1</td>\n",
              "    </tr>\n",
              "    <tr>\n",
              "      <th>1</th>\n",
              "      <td>B</td>\n",
              "      <td>0</td>\n",
              "      <td>1</td>\n",
              "    </tr>\n",
              "    <tr>\n",
              "      <th>2</th>\n",
              "      <td>A</td>\n",
              "      <td>0</td>\n",
              "      <td>1</td>\n",
              "    </tr>\n",
              "    <tr>\n",
              "      <th>3</th>\n",
              "      <td>A</td>\n",
              "      <td>0</td>\n",
              "      <td>1</td>\n",
              "    </tr>\n",
              "    <tr>\n",
              "      <th>4</th>\n",
              "      <td>B</td>\n",
              "      <td>0</td>\n",
              "      <td>1</td>\n",
              "    </tr>\n",
              "    <tr>\n",
              "      <th>5</th>\n",
              "      <td>B</td>\n",
              "      <td>0</td>\n",
              "      <td>1</td>\n",
              "    </tr>\n",
              "    <tr>\n",
              "      <th>6</th>\n",
              "      <td>A</td>\n",
              "      <td>1</td>\n",
              "      <td>0</td>\n",
              "    </tr>\n",
              "    <tr>\n",
              "      <th>7</th>\n",
              "      <td>B</td>\n",
              "      <td>0</td>\n",
              "      <td>1</td>\n",
              "    </tr>\n",
              "    <tr>\n",
              "      <th>8</th>\n",
              "      <td>B</td>\n",
              "      <td>0</td>\n",
              "      <td>1</td>\n",
              "    </tr>\n",
              "    <tr>\n",
              "      <th>9</th>\n",
              "      <td>B</td>\n",
              "      <td>0</td>\n",
              "      <td>1</td>\n",
              "    </tr>\n",
              "  </tbody>\n",
              "</table>\n",
              "</div>"
            ],
            "text/plain": [
              "  test  conversion  no conversion\n",
              "0    A           0              1\n",
              "1    B           0              1\n",
              "2    A           0              1\n",
              "3    A           0              1\n",
              "4    B           0              1\n",
              "5    B           0              1\n",
              "6    A           1              0\n",
              "7    B           0              1\n",
              "8    B           0              1\n",
              "9    B           0              1"
            ]
          },
          "metadata": {
            "tags": []
          },
          "execution_count": 45
        }
      ]
    },
    {
      "cell_type": "code",
      "metadata": {
        "id": "GttST2ov_hcg",
        "outputId": "64a33c30-8abb-49a7-8df1-e89da061ee0b",
        "colab": {
          "base_uri": "https://localhost:8080/",
          "height": 142
        }
      },
      "source": [
        "counts = df.groupby(\"test\")[[\"conversion\", \"no conversion\"]].sum()\n",
        "counts"
      ],
      "execution_count": 46,
      "outputs": [
        {
          "output_type": "execute_result",
          "data": {
            "text/html": [
              "<div>\n",
              "<style scoped>\n",
              "    .dataframe tbody tr th:only-of-type {\n",
              "        vertical-align: middle;\n",
              "    }\n",
              "\n",
              "    .dataframe tbody tr th {\n",
              "        vertical-align: top;\n",
              "    }\n",
              "\n",
              "    .dataframe thead th {\n",
              "        text-align: right;\n",
              "    }\n",
              "</style>\n",
              "<table border=\"1\" class=\"dataframe\">\n",
              "  <thead>\n",
              "    <tr style=\"text-align: right;\">\n",
              "      <th></th>\n",
              "      <th>conversion</th>\n",
              "      <th>no conversion</th>\n",
              "    </tr>\n",
              "    <tr>\n",
              "      <th>test</th>\n",
              "      <th></th>\n",
              "      <th></th>\n",
              "    </tr>\n",
              "  </thead>\n",
              "  <tbody>\n",
              "    <tr>\n",
              "      <th>A</th>\n",
              "      <td>4163</td>\n",
              "      <td>30576</td>\n",
              "    </tr>\n",
              "    <tr>\n",
              "      <th>B</th>\n",
              "      <td>4841</td>\n",
              "      <td>36747</td>\n",
              "    </tr>\n",
              "  </tbody>\n",
              "</table>\n",
              "</div>"
            ],
            "text/plain": [
              "      conversion  no conversion\n",
              "test                           \n",
              "A           4163          30576\n",
              "B           4841          36747"
            ]
          },
          "metadata": {
            "tags": []
          },
          "execution_count": 46
        }
      ]
    },
    {
      "cell_type": "code",
      "metadata": {
        "id": "wW-b80K1A2FW",
        "outputId": "06537fce-e58d-4e65-c551-c5d75ddb2401",
        "colab": {
          "base_uri": "https://localhost:8080/",
          "height": 142
        }
      },
      "source": [
        "counts[\"rate\"] = counts[\"conversion\"] / (counts[\"conversion\"] + counts[\"no conversion\"])\n",
        "counts"
      ],
      "execution_count": 47,
      "outputs": [
        {
          "output_type": "execute_result",
          "data": {
            "text/html": [
              "<div>\n",
              "<style scoped>\n",
              "    .dataframe tbody tr th:only-of-type {\n",
              "        vertical-align: middle;\n",
              "    }\n",
              "\n",
              "    .dataframe tbody tr th {\n",
              "        vertical-align: top;\n",
              "    }\n",
              "\n",
              "    .dataframe thead th {\n",
              "        text-align: right;\n",
              "    }\n",
              "</style>\n",
              "<table border=\"1\" class=\"dataframe\">\n",
              "  <thead>\n",
              "    <tr style=\"text-align: right;\">\n",
              "      <th></th>\n",
              "      <th>conversion</th>\n",
              "      <th>no conversion</th>\n",
              "      <th>rate</th>\n",
              "    </tr>\n",
              "    <tr>\n",
              "      <th>test</th>\n",
              "      <th></th>\n",
              "      <th></th>\n",
              "      <th></th>\n",
              "    </tr>\n",
              "  </thead>\n",
              "  <tbody>\n",
              "    <tr>\n",
              "      <th>A</th>\n",
              "      <td>4163</td>\n",
              "      <td>30576</td>\n",
              "      <td>0.119836</td>\n",
              "    </tr>\n",
              "    <tr>\n",
              "      <th>B</th>\n",
              "      <td>4841</td>\n",
              "      <td>36747</td>\n",
              "      <td>0.116404</td>\n",
              "    </tr>\n",
              "  </tbody>\n",
              "</table>\n",
              "</div>"
            ],
            "text/plain": [
              "      conversion  no conversion      rate\n",
              "test                                     \n",
              "A           4163          30576  0.119836\n",
              "B           4841          36747  0.116404"
            ]
          },
          "metadata": {
            "tags": []
          },
          "execution_count": 47
        }
      ]
    },
    {
      "cell_type": "code",
      "metadata": {
        "id": "R4h9SO21BeJY",
        "outputId": "695a6263-ba3c-4d0a-d834-531c6bdc02d2",
        "colab": {
          "base_uri": "https://localhost:8080/"
        }
      },
      "source": [
        "diferencia_en_proporcion = 1 - (counts.loc['B']['rate'] / counts.loc['A']['rate'])\n",
        "diferencia_en_porcentaje = diferencia_en_proporcion * 100\n",
        "print(f\"A es {diferencia_en_porcentaje:.2f} mejor que B\")"
      ],
      "execution_count": 14,
      "outputs": [
        {
          "output_type": "stream",
          "text": [
            "A es 2.86 mejor que B\n"
          ],
          "name": "stdout"
        }
      ]
    },
    {
      "cell_type": "code",
      "metadata": {
        "id": "VPDvf3glCFsC",
        "outputId": "eef962a7-76c8-47d1-eaa4-c0b755594c02",
        "colab": {
          "base_uri": "https://localhost:8080/",
          "height": 235
        }
      },
      "source": [
        "all = df[[\"conversion\", \"no conversion\"]]\n",
        "all.head(5)"
      ],
      "execution_count": 18,
      "outputs": [
        {
          "output_type": "execute_result",
          "data": {
            "text/html": [
              "<div>\n",
              "<style scoped>\n",
              "    .dataframe tbody tr th:only-of-type {\n",
              "        vertical-align: middle;\n",
              "    }\n",
              "\n",
              "    .dataframe tbody tr th {\n",
              "        vertical-align: top;\n",
              "    }\n",
              "\n",
              "    .dataframe thead th {\n",
              "        text-align: right;\n",
              "    }\n",
              "</style>\n",
              "<table border=\"1\" class=\"dataframe\">\n",
              "  <thead>\n",
              "    <tr style=\"text-align: right;\">\n",
              "      <th></th>\n",
              "      <th>conversion</th>\n",
              "      <th>no conversion</th>\n",
              "    </tr>\n",
              "    <tr>\n",
              "      <th>test</th>\n",
              "      <th></th>\n",
              "      <th></th>\n",
              "    </tr>\n",
              "  </thead>\n",
              "  <tbody>\n",
              "    <tr>\n",
              "      <th>A</th>\n",
              "      <td>0</td>\n",
              "      <td>1</td>\n",
              "    </tr>\n",
              "    <tr>\n",
              "      <th>B</th>\n",
              "      <td>0</td>\n",
              "      <td>1</td>\n",
              "    </tr>\n",
              "    <tr>\n",
              "      <th>A</th>\n",
              "      <td>0</td>\n",
              "      <td>1</td>\n",
              "    </tr>\n",
              "    <tr>\n",
              "      <th>A</th>\n",
              "      <td>0</td>\n",
              "      <td>1</td>\n",
              "    </tr>\n",
              "    <tr>\n",
              "      <th>B</th>\n",
              "      <td>0</td>\n",
              "      <td>1</td>\n",
              "    </tr>\n",
              "  </tbody>\n",
              "</table>\n",
              "</div>"
            ],
            "text/plain": [
              "      conversion  no conversion\n",
              "test                           \n",
              "A              0              1\n",
              "B              0              1\n",
              "A              0              1\n",
              "A              0              1\n",
              "B              0              1"
            ]
          },
          "metadata": {
            "tags": []
          },
          "execution_count": 18
        }
      ]
    },
    {
      "cell_type": "code",
      "metadata": {
        "id": "-j41N95mCfm2",
        "outputId": "759eef79-4810-4c21-a5a0-7c6991f73ce3",
        "colab": {
          "base_uri": "https://localhost:8080/"
        }
      },
      "source": [
        "a_counts = all.loc[\"A\"].shape[0]\n",
        "a_counts"
      ],
      "execution_count": 24,
      "outputs": [
        {
          "output_type": "execute_result",
          "data": {
            "text/plain": [
              "34739"
            ]
          },
          "metadata": {
            "tags": []
          },
          "execution_count": 24
        }
      ]
    },
    {
      "cell_type": "code",
      "metadata": {
        "id": "2yEW6UiSDQcs"
      },
      "source": [
        "conv_a = []; no_conv_a = []; conv_b = []; no_conv_b = [];\n",
        "\n",
        "for _ in range(1000):\n",
        "  new_as = all.sample(a_counts, replace=False)\n",
        "  conv_a.append(new_as[\"conversion\"].sum())\n",
        "  no_conv_a.append(new_as[\"no conversion\"].sum())\n",
        "\n",
        "  new_bs = all.loc[~all.index.isin(new_as)]\n",
        "  conv_b.append(new_bs[\"conversion\"].sum())\n",
        "  no_conv_b.append(new_bs[\"no conversion\"].sum())"
      ],
      "execution_count": 37,
      "outputs": []
    },
    {
      "cell_type": "code",
      "metadata": {
        "id": "oiLQhv2GEeHy",
        "outputId": "85fd11b3-705c-45f2-e225-194c270f1798",
        "colab": {
          "base_uri": "https://localhost:8080/",
          "height": 419
        }
      },
      "source": [
        "permutation_results = pd.DataFrame({\n",
        "    'conv_a': conv_a,\n",
        "    'no_conv_a': no_conv_a,\n",
        "    'conv_b': conv_b,\n",
        "    'no_conv_b': no_conv_b\n",
        "})\n",
        "\n",
        "permutation_results.head(5)"
      ],
      "execution_count": 38,
      "outputs": [
        {
          "output_type": "execute_result",
          "data": {
            "text/html": [
              "<div>\n",
              "<style scoped>\n",
              "    .dataframe tbody tr th:only-of-type {\n",
              "        vertical-align: middle;\n",
              "    }\n",
              "\n",
              "    .dataframe tbody tr th {\n",
              "        vertical-align: top;\n",
              "    }\n",
              "\n",
              "    .dataframe thead th {\n",
              "        text-align: right;\n",
              "    }\n",
              "</style>\n",
              "<table border=\"1\" class=\"dataframe\">\n",
              "  <thead>\n",
              "    <tr style=\"text-align: right;\">\n",
              "      <th></th>\n",
              "      <th>conv_a</th>\n",
              "      <th>no_conv_a</th>\n",
              "      <th>conv_b</th>\n",
              "      <th>no_conv_b</th>\n",
              "    </tr>\n",
              "  </thead>\n",
              "  <tbody>\n",
              "    <tr>\n",
              "      <th>0</th>\n",
              "      <td>4150</td>\n",
              "      <td>30589</td>\n",
              "      <td>9004</td>\n",
              "      <td>67323</td>\n",
              "    </tr>\n",
              "    <tr>\n",
              "      <th>1</th>\n",
              "      <td>3994</td>\n",
              "      <td>30745</td>\n",
              "      <td>9004</td>\n",
              "      <td>67323</td>\n",
              "    </tr>\n",
              "    <tr>\n",
              "      <th>2</th>\n",
              "      <td>4207</td>\n",
              "      <td>30532</td>\n",
              "      <td>9004</td>\n",
              "      <td>67323</td>\n",
              "    </tr>\n",
              "    <tr>\n",
              "      <th>3</th>\n",
              "      <td>4084</td>\n",
              "      <td>30655</td>\n",
              "      <td>9004</td>\n",
              "      <td>67323</td>\n",
              "    </tr>\n",
              "    <tr>\n",
              "      <th>4</th>\n",
              "      <td>3995</td>\n",
              "      <td>30744</td>\n",
              "      <td>9004</td>\n",
              "      <td>67323</td>\n",
              "    </tr>\n",
              "    <tr>\n",
              "      <th>...</th>\n",
              "      <td>...</td>\n",
              "      <td>...</td>\n",
              "      <td>...</td>\n",
              "      <td>...</td>\n",
              "    </tr>\n",
              "    <tr>\n",
              "      <th>995</th>\n",
              "      <td>4069</td>\n",
              "      <td>30670</td>\n",
              "      <td>9004</td>\n",
              "      <td>67323</td>\n",
              "    </tr>\n",
              "    <tr>\n",
              "      <th>996</th>\n",
              "      <td>4134</td>\n",
              "      <td>30605</td>\n",
              "      <td>9004</td>\n",
              "      <td>67323</td>\n",
              "    </tr>\n",
              "    <tr>\n",
              "      <th>997</th>\n",
              "      <td>4061</td>\n",
              "      <td>30678</td>\n",
              "      <td>9004</td>\n",
              "      <td>67323</td>\n",
              "    </tr>\n",
              "    <tr>\n",
              "      <th>998</th>\n",
              "      <td>4167</td>\n",
              "      <td>30572</td>\n",
              "      <td>9004</td>\n",
              "      <td>67323</td>\n",
              "    </tr>\n",
              "    <tr>\n",
              "      <th>999</th>\n",
              "      <td>4105</td>\n",
              "      <td>30634</td>\n",
              "      <td>9004</td>\n",
              "      <td>67323</td>\n",
              "    </tr>\n",
              "  </tbody>\n",
              "</table>\n",
              "<p>1000 rows × 4 columns</p>\n",
              "</div>"
            ],
            "text/plain": [
              "     conv_a  no_conv_a  conv_b  no_conv_b\n",
              "0      4150      30589    9004      67323\n",
              "1      3994      30745    9004      67323\n",
              "2      4207      30532    9004      67323\n",
              "3      4084      30655    9004      67323\n",
              "4      3995      30744    9004      67323\n",
              "..      ...        ...     ...        ...\n",
              "995    4069      30670    9004      67323\n",
              "996    4134      30605    9004      67323\n",
              "997    4061      30678    9004      67323\n",
              "998    4167      30572    9004      67323\n",
              "999    4105      30634    9004      67323\n",
              "\n",
              "[1000 rows x 4 columns]"
            ]
          },
          "metadata": {
            "tags": []
          },
          "execution_count": 38
        }
      ]
    },
    {
      "cell_type": "code",
      "metadata": {
        "id": "GnQCqmjJEvpp",
        "outputId": "9c606f01-b75a-4ddd-b070-6d51bac9231c",
        "colab": {
          "base_uri": "https://localhost:8080/",
          "height": 204
        }
      },
      "source": [
        "permutation_results['a_conv_rate'] = permutation_results['conv_a'] / (permutation_results['conv_a'] + permutation_results['no_conv_a'])\n",
        "permutation_results['b_conv_rate'] = permutation_results['conv_b'] / (permutation_results['conv_b'] + permutation_results['no_conv_b'])\n",
        "permutation_results.head(5)"
      ],
      "execution_count": 40,
      "outputs": [
        {
          "output_type": "execute_result",
          "data": {
            "text/html": [
              "<div>\n",
              "<style scoped>\n",
              "    .dataframe tbody tr th:only-of-type {\n",
              "        vertical-align: middle;\n",
              "    }\n",
              "\n",
              "    .dataframe tbody tr th {\n",
              "        vertical-align: top;\n",
              "    }\n",
              "\n",
              "    .dataframe thead th {\n",
              "        text-align: right;\n",
              "    }\n",
              "</style>\n",
              "<table border=\"1\" class=\"dataframe\">\n",
              "  <thead>\n",
              "    <tr style=\"text-align: right;\">\n",
              "      <th></th>\n",
              "      <th>conv_a</th>\n",
              "      <th>no_conv_a</th>\n",
              "      <th>conv_b</th>\n",
              "      <th>no_conv_b</th>\n",
              "      <th>a_conv_rate</th>\n",
              "      <th>b_conv_rate</th>\n",
              "    </tr>\n",
              "  </thead>\n",
              "  <tbody>\n",
              "    <tr>\n",
              "      <th>0</th>\n",
              "      <td>4150</td>\n",
              "      <td>30589</td>\n",
              "      <td>9004</td>\n",
              "      <td>67323</td>\n",
              "      <td>0.119462</td>\n",
              "      <td>0.117966</td>\n",
              "    </tr>\n",
              "    <tr>\n",
              "      <th>1</th>\n",
              "      <td>3994</td>\n",
              "      <td>30745</td>\n",
              "      <td>9004</td>\n",
              "      <td>67323</td>\n",
              "      <td>0.114972</td>\n",
              "      <td>0.117966</td>\n",
              "    </tr>\n",
              "    <tr>\n",
              "      <th>2</th>\n",
              "      <td>4207</td>\n",
              "      <td>30532</td>\n",
              "      <td>9004</td>\n",
              "      <td>67323</td>\n",
              "      <td>0.121103</td>\n",
              "      <td>0.117966</td>\n",
              "    </tr>\n",
              "    <tr>\n",
              "      <th>3</th>\n",
              "      <td>4084</td>\n",
              "      <td>30655</td>\n",
              "      <td>9004</td>\n",
              "      <td>67323</td>\n",
              "      <td>0.117562</td>\n",
              "      <td>0.117966</td>\n",
              "    </tr>\n",
              "    <tr>\n",
              "      <th>4</th>\n",
              "      <td>3995</td>\n",
              "      <td>30744</td>\n",
              "      <td>9004</td>\n",
              "      <td>67323</td>\n",
              "      <td>0.115000</td>\n",
              "      <td>0.117966</td>\n",
              "    </tr>\n",
              "  </tbody>\n",
              "</table>\n",
              "</div>"
            ],
            "text/plain": [
              "   conv_a  no_conv_a  conv_b  no_conv_b  a_conv_rate  b_conv_rate\n",
              "0    4150      30589    9004      67323     0.119462     0.117966\n",
              "1    3994      30745    9004      67323     0.114972     0.117966\n",
              "2    4207      30532    9004      67323     0.121103     0.117966\n",
              "3    4084      30655    9004      67323     0.117562     0.117966\n",
              "4    3995      30744    9004      67323     0.115000     0.117966"
            ]
          },
          "metadata": {
            "tags": []
          },
          "execution_count": 40
        }
      ]
    },
    {
      "cell_type": "code",
      "metadata": {
        "id": "2PivtACJE__y",
        "outputId": "484797de-4020-4e2c-9c76-5e3f9ae8c294",
        "colab": {
          "base_uri": "https://localhost:8080/",
          "height": 204
        }
      },
      "source": [
        "permutation_results['diff'] = 1 - (permutation_results['b_conv_rate'] / permutation_results['a_conv_rate'])\n",
        "\n",
        "permutation_results.head(5)"
      ],
      "execution_count": 42,
      "outputs": [
        {
          "output_type": "execute_result",
          "data": {
            "text/html": [
              "<div>\n",
              "<style scoped>\n",
              "    .dataframe tbody tr th:only-of-type {\n",
              "        vertical-align: middle;\n",
              "    }\n",
              "\n",
              "    .dataframe tbody tr th {\n",
              "        vertical-align: top;\n",
              "    }\n",
              "\n",
              "    .dataframe thead th {\n",
              "        text-align: right;\n",
              "    }\n",
              "</style>\n",
              "<table border=\"1\" class=\"dataframe\">\n",
              "  <thead>\n",
              "    <tr style=\"text-align: right;\">\n",
              "      <th></th>\n",
              "      <th>conv_a</th>\n",
              "      <th>no_conv_a</th>\n",
              "      <th>conv_b</th>\n",
              "      <th>no_conv_b</th>\n",
              "      <th>a_conv_rate</th>\n",
              "      <th>b_conv_rate</th>\n",
              "      <th>diff</th>\n",
              "    </tr>\n",
              "  </thead>\n",
              "  <tbody>\n",
              "    <tr>\n",
              "      <th>0</th>\n",
              "      <td>4150</td>\n",
              "      <td>30589</td>\n",
              "      <td>9004</td>\n",
              "      <td>67323</td>\n",
              "      <td>0.119462</td>\n",
              "      <td>0.117966</td>\n",
              "      <td>0.012524</td>\n",
              "    </tr>\n",
              "    <tr>\n",
              "      <th>1</th>\n",
              "      <td>3994</td>\n",
              "      <td>30745</td>\n",
              "      <td>9004</td>\n",
              "      <td>67323</td>\n",
              "      <td>0.114972</td>\n",
              "      <td>0.117966</td>\n",
              "      <td>-0.026045</td>\n",
              "    </tr>\n",
              "    <tr>\n",
              "      <th>2</th>\n",
              "      <td>4207</td>\n",
              "      <td>30532</td>\n",
              "      <td>9004</td>\n",
              "      <td>67323</td>\n",
              "      <td>0.121103</td>\n",
              "      <td>0.117966</td>\n",
              "      <td>0.025903</td>\n",
              "    </tr>\n",
              "    <tr>\n",
              "      <th>3</th>\n",
              "      <td>4084</td>\n",
              "      <td>30655</td>\n",
              "      <td>9004</td>\n",
              "      <td>67323</td>\n",
              "      <td>0.117562</td>\n",
              "      <td>0.117966</td>\n",
              "      <td>-0.003434</td>\n",
              "    </tr>\n",
              "    <tr>\n",
              "      <th>4</th>\n",
              "      <td>3995</td>\n",
              "      <td>30744</td>\n",
              "      <td>9004</td>\n",
              "      <td>67323</td>\n",
              "      <td>0.115000</td>\n",
              "      <td>0.117966</td>\n",
              "      <td>-0.025788</td>\n",
              "    </tr>\n",
              "  </tbody>\n",
              "</table>\n",
              "</div>"
            ],
            "text/plain": [
              "   conv_a  no_conv_a  conv_b  no_conv_b  a_conv_rate  b_conv_rate      diff\n",
              "0    4150      30589    9004      67323     0.119462     0.117966  0.012524\n",
              "1    3994      30745    9004      67323     0.114972     0.117966 -0.026045\n",
              "2    4207      30532    9004      67323     0.121103     0.117966  0.025903\n",
              "3    4084      30655    9004      67323     0.117562     0.117966 -0.003434\n",
              "4    3995      30744    9004      67323     0.115000     0.117966 -0.025788"
            ]
          },
          "metadata": {
            "tags": []
          },
          "execution_count": 42
        }
      ]
    },
    {
      "cell_type": "code",
      "metadata": {
        "id": "5W0GIQfdFJzt",
        "outputId": "e1b427ea-6971-49f2-9c7d-8df4e0986aab",
        "colab": {
          "base_uri": "https://localhost:8080/",
          "height": 319
        }
      },
      "source": [
        "sns.distplot(x=permutation_results['diff'], kde=False, norm_hist=False)\n",
        "plt.axvline(diferencia_en_proporcion);"
      ],
      "execution_count": 43,
      "outputs": [
        {
          "output_type": "stream",
          "text": [
            "/usr/local/lib/python3.7/dist-packages/seaborn/distributions.py:2557: FutureWarning: `distplot` is a deprecated function and will be removed in a future version. Please adapt your code to use either `displot` (a figure-level function with similar flexibility) or `histplot` (an axes-level function for histograms).\n",
            "  warnings.warn(msg, FutureWarning)\n"
          ],
          "name": "stderr"
        },
        {
          "output_type": "display_data",
          "data": {
            "image/png": "[encoded data removed]",
            "text/plain": [
              "<Figure size 432x288 with 1 Axes>"
            ]
          },
          "metadata": {
            "tags": [],
            "needs_background": "light"
          }
        }
      ]
    },
    {
      "cell_type": "code",
      "metadata": {
        "id": "R9ny0szSFYSu",
        "outputId": "f9a84af7-3717-45d9-f054-4ed3b16ab059",
        "colab": {
          "base_uri": "https://localhost:8080/"
        }
      },
      "source": [
        "print(f\"p-value is: {(permutation_results['diff'] >= diferencia_en_proporcion).sum() / permutation_results.shape[0]}\")"
      ],
      "execution_count": 44,
      "outputs": [
        {
          "output_type": "stream",
          "text": [
            "p-value is: 0.001\n"
          ],
          "name": "stdout"
        }
      ]
    }
  ]
}