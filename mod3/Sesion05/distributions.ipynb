{
  "nbformat": 4,
  "nbformat_minor": 0,
  "metadata": {
    "kernelspec": {
      "display_name": "Python (data_science)",
      "language": "python",
      "name": "data_science"
    },
    "language_info": {
      "codemirror_mode": {
        "name": "ipython",
        "version": 3
      },
      "file_extension": ".py",
      "mimetype": "text/x-python",
      "name": "python",
      "nbconvert_exporter": "python",
      "pygments_lexer": "ipython3",
      "version": "3.8.5"
    },
    "colab": {
      "name": "bootstrap.ipynb",
      "provenance": []
    }
  },
  "cells": [
    {
      "cell_type": "markdown",
      "metadata": {
        "id": "0aRZd_RMJ7Q4"
      },
      "source": [
        "## Reto 1: Bootstrap\n",
        "\n",
        "### 1. Objetivos:\n",
        "    - Practicar la aplicación del algoritmo de boostrap\n",
        "    - Practicar graficar los resultados del boostrap\n",
        " \n",
        "---\n",
        "    \n",
        "### 2. Desarrollo:"
      ]
    },
    {
      "cell_type": "markdown",
      "metadata": {
        "id": "ChMS4JJ2J7Q6"
      },
      "source": [
        "En este Reto vamos a aplicar la técnica de bootstrap para explorar distribuciones muestrales de estadísticas. Para este Reto puedes elegir cualquiera de los datasets que vienen incluidos en este módulo. Ha llegado el momento de que te dejes guiar por tu curiosidad. Puedes ver una lista de todo lo que hay disponible [acá](../../Datasets/Readme.md).\n",
        "\n",
        "Elige un dataset que tenga alguna variable numérica que te parezca interesante. Ahora, vamos a realizar algunos análisis sobre esa variable. Recuerda escribir tu análisis de manera ordenada, ya que si lo deseas habrá oportunidad de presentar tus hallazgos al grupo. Lleva a cabo los siguientes pasos:\n",
        "\n",
        "1. Primero saca tus estimados de locación y dispersión.\n",
        "2. Después, grafica tu variable usando un histograma y un boxplot, para que tengas una idea más detallada de su distribución.\n",
        "3. Si consideras que hay valores atípicos, lidia con ellos de la manera que te parezca más adecuada.\n",
        "4. Ahora vamos a ver qué tanta incertidumbre y sesgo hay en tus hallazgos. Vamos a aplicar la técnica de bootstrap 3 veces:\n",
        "\n",
        "  a) Realiza 100 000 remuestreos, cada uno de 5 elementos. Obtén la medida estadística que te interese de cada muestra y guarda los resultados en una lista.\n",
        "  \n",
        "  b) Repite el mismo proceso, pero esta vez con remuestreos con longitud de 20% del total de los datos.\n",
        "  \n",
        "  c) Repite una vez más, pero esta vez cada nueva muestra tendrá una longitud de 90% de la original.\n",
        "  \n",
        "5. Grafica cada una de las listas resultantes en un histograma.\n",
        "6. Obtén la asimetría y curtosis de cada una y compáralas entre ellas. ¿Cuál es más similar a una distribución normal? ¿Qué diferencias tienen entre ellas?"
      ]
    },
    {
      "cell_type": "code",
      "metadata": {
        "id": "dLzMTuDZKXRE"
      },
      "source": [
        "import pandas as pd\n",
        "import seaborn as sns\n",
        "import matplotlib.pyplot as plt"
      ],
      "execution_count": 2,
      "outputs": []
    },
    {
      "cell_type": "code",
      "metadata": {
        "colab": {
          "base_uri": "https://localhost:8080/",
          "height": 326
        },
        "id": "hqbsz6TDJ7Q7",
        "outputId": "6e9ea27a-c46f-42a2-d5d2-4d814347956e"
      },
      "source": [
        "df = pd.read_csv(\"https://raw.githubusercontent.com/beduExpert/B2-Analisis-de-Datos-con-Python-2020-Santander/main/Datasets/near_earth_objects-jan_feb_1995-clean.csv\", index_col=0)\n",
        "df.head(5)"
      ],
      "execution_count": 3,
      "outputs": [
        {
          "output_type": "execute_result",
          "data": {
            "text/html": [
              "<div>\n",
              "<style scoped>\n",
              "    .dataframe tbody tr th:only-of-type {\n",
              "        vertical-align: middle;\n",
              "    }\n",
              "\n",
              "    .dataframe tbody tr th {\n",
              "        vertical-align: top;\n",
              "    }\n",
              "\n",
              "    .dataframe thead th {\n",
              "        text-align: right;\n",
              "    }\n",
              "</style>\n",
              "<table border=\"1\" class=\"dataframe\">\n",
              "  <thead>\n",
              "    <tr style=\"text-align: right;\">\n",
              "      <th></th>\n",
              "      <th>id</th>\n",
              "      <th>name</th>\n",
              "      <th>is_potentially_hazardous_asteroid</th>\n",
              "      <th>estimated_diameter.meters.estimated_diameter_min</th>\n",
              "      <th>estimated_diameter.meters.estimated_diameter_max</th>\n",
              "      <th>close_approach_date</th>\n",
              "      <th>epoch_date_close_approach</th>\n",
              "      <th>orbiting_body</th>\n",
              "      <th>relative_velocity.kilometers_per_second</th>\n",
              "      <th>relative_velocity.kilometers_per_hour</th>\n",
              "    </tr>\n",
              "  </thead>\n",
              "  <tbody>\n",
              "    <tr>\n",
              "      <th>0</th>\n",
              "      <td>2154652</td>\n",
              "      <td>154652 (2004 EP20)</td>\n",
              "      <td>False</td>\n",
              "      <td>483.676488</td>\n",
              "      <td>1081.533507</td>\n",
              "      <td>1995-01-07</td>\n",
              "      <td>789467580000</td>\n",
              "      <td>Earth</td>\n",
              "      <td>16.142864</td>\n",
              "      <td>58114.308667</td>\n",
              "    </tr>\n",
              "    <tr>\n",
              "      <th>1</th>\n",
              "      <td>3153509</td>\n",
              "      <td>(2003 HM)</td>\n",
              "      <td>True</td>\n",
              "      <td>96.506147</td>\n",
              "      <td>215.794305</td>\n",
              "      <td>1995-01-07</td>\n",
              "      <td>789491340000</td>\n",
              "      <td>Earth</td>\n",
              "      <td>12.351044</td>\n",
              "      <td>44463.757734</td>\n",
              "    </tr>\n",
              "    <tr>\n",
              "      <th>2</th>\n",
              "      <td>3516633</td>\n",
              "      <td>(2010 HA)</td>\n",
              "      <td>False</td>\n",
              "      <td>44.111820</td>\n",
              "      <td>98.637028</td>\n",
              "      <td>1995-01-07</td>\n",
              "      <td>789446820000</td>\n",
              "      <td>Earth</td>\n",
              "      <td>6.220435</td>\n",
              "      <td>22393.567277</td>\n",
              "    </tr>\n",
              "    <tr>\n",
              "      <th>3</th>\n",
              "      <td>3837644</td>\n",
              "      <td>(2019 AY3)</td>\n",
              "      <td>False</td>\n",
              "      <td>46.190746</td>\n",
              "      <td>103.285648</td>\n",
              "      <td>1995-01-07</td>\n",
              "      <td>789513900000</td>\n",
              "      <td>Earth</td>\n",
              "      <td>22.478615</td>\n",
              "      <td>80923.015021</td>\n",
              "    </tr>\n",
              "    <tr>\n",
              "      <th>4</th>\n",
              "      <td>3843493</td>\n",
              "      <td>(2019 PY)</td>\n",
              "      <td>False</td>\n",
              "      <td>22.108281</td>\n",
              "      <td>49.435619</td>\n",
              "      <td>1995-01-07</td>\n",
              "      <td>789446700000</td>\n",
              "      <td>Earth</td>\n",
              "      <td>4.998691</td>\n",
              "      <td>17995.288355</td>\n",
              "    </tr>\n",
              "  </tbody>\n",
              "</table>\n",
              "</div>"
            ],
            "text/plain": [
              "        id  ... relative_velocity.kilometers_per_hour\n",
              "0  2154652  ...                          58114.308667\n",
              "1  3153509  ...                          44463.757734\n",
              "2  3516633  ...                          22393.567277\n",
              "3  3837644  ...                          80923.015021\n",
              "4  3843493  ...                          17995.288355\n",
              "\n",
              "[5 rows x 10 columns]"
            ]
          },
          "metadata": {
            "tags": []
          },
          "execution_count": 3
        }
      ]
    },
    {
      "cell_type": "code",
      "metadata": {
        "colab": {
          "base_uri": "https://localhost:8080/",
          "height": 281
        },
        "id": "IfAA32psKpW-",
        "outputId": "75a0b7a8-1165-447b-a767-c3535d602a88"
      },
      "source": [
        "var = df[\"relative_velocity.kilometers_per_second\"] # select desired column\n",
        "sns.histplot(var);"
      ],
      "execution_count": 4,
      "outputs": [
        {
          "output_type": "display_data",
          "data": {
            "image/png": "[encoded data removed]",
            "text/plain": [
              "<Figure size 432x288 with 1 Axes>"
            ]
          },
          "metadata": {
            "tags": [],
            "needs_background": "light"
          }
        }
      ]
    },
    {
      "cell_type": "code",
      "metadata": {
        "colab": {
          "base_uri": "https://localhost:8080/",
          "height": 280
        },
        "id": "bGIC_SRGNKR-",
        "outputId": "0157dc3e-88e4-4511-fc39-61b7ce2daa51"
      },
      "source": [
        "sns.boxplot(x = var); # identify outliers via boxplot"
      ],
      "execution_count": 5,
      "outputs": [
        {
          "output_type": "display_data",
          "data": {
            "image/png": "[encoded data removed]",
            "text/plain": [
              "<Figure size 432x288 with 1 Axes>"
            ]
          },
          "metadata": {
            "tags": [],
            "needs_background": "light"
          }
        }
      ]
    },
    {
      "cell_type": "code",
      "metadata": {
        "id": "EC6jadGUL0O7"
      },
      "source": [
        "varLess = df[\"relative_velocity.kilometers_per_second\"] > df[\"relative_velocity.kilometers_per_second\"].quantile(0.25)\n",
        "varLess = var > var.quantile(0.25)\n",
        "varMore = df[\"relative_velocity.kilometers_per_second\"] < df[\"relative_velocity.kilometers_per_second\"].quantile(0.75)\n",
        "varMore = var < var.quantile(0.75)\n",
        "\n",
        "cleanVar = var[(varLess) & (varMore)]"
      ],
      "execution_count": 6,
      "outputs": []
    },
    {
      "cell_type": "markdown",
      "metadata": {
        "id": "A54dBKNDNiC-"
      },
      "source": [
        "Ahora vamos a ver qué tanta incertidumbre y sesgo hay en tus hallazgos. Vamos a aplicar la técnica de bootstrap 3 veces:\n",
        "\n",
        "a) Realiza 100 000 remuestreos, cada uno de 5 elementos. Obtén la medida estadística que te interese de cada muestra y guarda los resultados en una lista.\n",
        "\n",
        "b) Repite el mismo proceso, pero esta vez con remuestreos con longitud de 20% del total de los datos.\n",
        "\n",
        "c) Repite una vez más, pero esta vez cada nueva muestra tendrá una longitud de 90% de la original."
      ]
    },
    {
      "cell_type": "code",
      "metadata": {
        "id": "x7xJZBtdM51p"
      },
      "source": [
        "means5 = [] # mean obtained for each bootstrap iteration\n",
        "\n",
        "for i in range(100_000):\n",
        "    dat = cleanVar.sample(n=5, replace=True) # sample data\n",
        "    means5.append(dat.mean())\n",
        "\n",
        "means5_serie = pd.Series(means5);"
      ],
      "execution_count": 14,
      "outputs": []
    },
    {
      "cell_type": "code",
      "metadata": {
        "colab": {
          "base_uri": "https://localhost:8080/",
          "height": 299
        },
        "id": "8veE5WKJO0l8",
        "outputId": "02d42efe-3c91-4c1a-c159-d96a103552dc"
      },
      "source": [
        "sns.histplot(means5_serie);\n",
        "maxy = means5_serie.max(); miny = means5_serie.min();\n",
        "mn = means5_serie.mean(); med = means5_serie.median();\n",
        "std = means5_serie.std(); q90 = means5_serie.quantile(.9);\n",
        "q95 = means5_serie.quantile(.95); q99 = means5_serie.quantile(.99);\n",
        "plt.axvline(means5_serie.mean(), 0, maxy);\n",
        "plt.axvline(means5_serie.mean(), 0, maxy);\n",
        "plt.legend([\"Mean\", \"Median\", \"90% sample\"]);\n",
        "plt.text(miny, 2000, f\"Mean={round(mn, 3)}\\nMedian={round(med, 3)}\", horizontalalignment='left', size='medium', color='black', weight='semibold');\n",
        "print(f\"Min: {miny}. Max: {maxy}. Std: {std}. \\nQ90: {q90}. Q95: {q95}. Q99: {q99}\")"
      ],
      "execution_count": 48,
      "outputs": [
        {
          "output_type": "stream",
          "text": [
            "Min: 9.349760057520001. Max: 18.300793010919996. Std: 1.31922478184858. \n",
            "Q90: 15.75987284564. Q95: 16.202479189199. Q99: 16.959164705980797\n"
          ],
          "name": "stdout"
        },
        {
          "output_type": "display_data",
          "data": {
            "image/png": "[encoded data removed]",
            "text/plain": [
              "<Figure size 432x288 with 1 Axes>"
            ]
          },
          "metadata": {
            "tags": [],
            "needs_background": "light"
          }
        }
      ]
    },
    {
      "cell_type": "code",
      "metadata": {
        "id": "c5TlxKWFOEe1"
      },
      "source": [
        "means20 = [] # mean obtained for each bootstrap iteration\n",
        "n = int(len(cleanVar) * 0.2)\n",
        "\n",
        "for i in range(100_000):\n",
        "    dat = cleanVar.sample(n=n, replace=True) # sample data\n",
        "    means20.append(dat.mean()) \n",
        "\n",
        "means20_serie = pd.Series(means20);"
      ],
      "execution_count": 16,
      "outputs": []
    },
    {
      "cell_type": "code",
      "metadata": {
        "colab": {
          "base_uri": "https://localhost:8080/",
          "height": 299
        },
        "id": "u5J_Qb10O7nh",
        "outputId": "8413e74e-9ad1-4532-c1c2-c1120cef79aa"
      },
      "source": [
        "sns.histplot(means20_serie);\n",
        "maxy = means20_serie.max(); miny = means20_serie.min();\n",
        "mn = means20_serie.mean(); med = means20_serie.median();\n",
        "std = means20_serie.std(); q90 = means20_serie.quantile(.9);\n",
        "q95 = means20_serie.quantile(.95); q99 = means20_serie.quantile(.99);\n",
        "plt.axvline(means20_serie.mean(), 0, maxy);\n",
        "plt.axvline(means20_serie.mean(), 0, maxy);\n",
        "plt.legend([\"Mean\", \"Median\", \"90% sample\"]);\n",
        "plt.text(miny, 2000, f\"Mean={round(mn, 3)}\\nMedian={round(med, 3)}\", horizontalalignment='left', size='medium', color='black', weight='semibold');\n",
        "print(f\"Min: {miny}. Max: {maxy}. Std: {std}. \\nQ90: {q90}. Q95: {q95}. Q99: {q99}\")"
      ],
      "execution_count": 47,
      "outputs": [
        {
          "output_type": "stream",
          "text": [
            "Min: 11.959216277515154. Max: 16.15867161241212. Std: 0.5124118163159189. \n",
            "Q90: 14.7000700145597. Q95: 14.885084203196664. Q99: 15.21881897230082\n"
          ],
          "name": "stdout"
        },
        {
          "output_type": "display_data",
          "data": {
            "image/png": "[encoded data removed]",
            "text/plain": [
              "<Figure size 432x288 with 1 Axes>"
            ]
          },
          "metadata": {
            "tags": [],
            "needs_background": "light"
          }
        }
      ]
    },
    {
      "cell_type": "code",
      "metadata": {
        "id": "cKGpC2AqONhi"
      },
      "source": [
        "means90 = [] # mean obtained for each bootstrap iteration\n",
        "n = int(len(cleanVar) * 0.9)\n",
        "\n",
        "for i in range(100_000):\n",
        "    dat = cleanVar.sample(n=n, replace=True) # sample data\n",
        "    means90.append(dat.mean())\n",
        "\n",
        "means90_serie = pd.Series(means90);"
      ],
      "execution_count": 18,
      "outputs": []
    },
    {
      "cell_type": "code",
      "metadata": {
        "colab": {
          "base_uri": "https://localhost:8080/",
          "height": 301
        },
        "id": "DVxmlebePSw5",
        "outputId": "8f9c3307-4767-48d5-d6c3-df17ae5fa60c"
      },
      "source": [
        "sns.histplot(means90_serie);\n",
        "maxy = means90_serie.max(); miny = means90_serie.min();\n",
        "mn = means90_serie.mean(); med = means90_serie.median();\n",
        "std = means90_serie.std(); q90 = means90_serie.quantile(.9);\n",
        "q95 = means90_serie.quantile(.95); q99 = means90_serie.quantile(.99);\n",
        "plt.axvline(means90_serie.mean(), 0, maxy);\n",
        "plt.axvline(means90_serie.mean(), 0, maxy);\n",
        "plt.legend([\"Mean\", \"Median\", \"90% sample\"]);\n",
        "plt.text(miny, 2000, f\"Mean={round(mn, 3)}\\nMedian={round(med, 3)}\", horizontalalignment='left', size='medium', color='black', weight='semibold');\n",
        "print(f\"Min: {miny}. Max: {maxy}. Std: {std}. \\nQ90: {q90}. Q95: {q95}. Q99: {q99}\")"
      ],
      "execution_count": 45,
      "outputs": [
        {
          "output_type": "stream",
          "text": [
            "Min: 13.010287891243916. Max: 15.065285363578385. Std: 0.24250204003953005. \n",
            "Q90: 14.355763694410204. Q95: 14.44348788442524. Q99: 14.607157539231453\n"
          ],
          "name": "stdout"
        },
        {
          "output_type": "display_data",
          "data": {
            "image/png": "[encoded data removed]",
            "text/plain": [
              "<Figure size 432x288 with 1 Axes>"
            ]
          },
          "metadata": {
            "tags": [],
            "needs_background": "light"
          }
        }
      ]
    },
    {
      "cell_type": "code",
      "metadata": {
        "colab": {
          "base_uri": "https://localhost:8080/"
        },
        "id": "SYrOmoqKPbt6",
        "outputId": "e8159af6-9fed-4fa7-9ba8-13113b43527e"
      },
      "source": [
        "print(\"Asimetría\\n\")\n",
        "print(f\"5 muestras: {means5_serie.skew()}, 20% muestras: {means20_serie.skew()}, 90% muestras: {means90_serie.skew()}\")"
      ],
      "execution_count": 37,
      "outputs": [
        {
          "output_type": "stream",
          "text": [
            "Asimtría\n",
            "\n",
            "5 muestras: -0.059835262586299606, 20% muestras: -0.02865124619562475, 90% muestras: -0.006139107786987216\n"
          ],
          "name": "stdout"
        }
      ]
    },
    {
      "cell_type": "code",
      "metadata": {
        "colab": {
          "base_uri": "https://localhost:8080/"
        },
        "id": "pH-8aO49QSQR",
        "outputId": "9af6c706-bae7-4a49-e82c-75e06b5bd88c"
      },
      "source": [
        "print(\"Curtosis\\n\")\n",
        "print(f\"5 muestras: {means5_serie.kurtosis()}, 20% muestras: {means20_serie.kurtosis()}, 90% muestras: {means90_serie.kurtosis()}\")"
      ],
      "execution_count": 38,
      "outputs": [
        {
          "output_type": "stream",
          "text": [
            "Curtosis\n",
            "\n",
            "5 muestras: -0.2618314866189353, 20% muestras: -0.03592355728727403, 90% muestras: 0.006820370611146043\n"
          ],
          "name": "stdout"
        }
      ]
    }
  ]
}