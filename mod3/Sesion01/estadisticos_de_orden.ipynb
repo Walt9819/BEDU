{
  "nbformat": 4,
  "nbformat_minor": 0,
  "metadata": {
    "kernelspec": {
      "display_name": "Python (data_science)",
      "language": "python",
      "name": "data_science"
    },
    "language_info": {
      "codemirror_mode": {
        "name": "ipython",
        "version": 3
      },
      "file_extension": ".py",
      "mimetype": "text/x-python",
      "name": "python",
      "nbconvert_exporter": "python",
      "pygments_lexer": "ipython3",
      "version": "3.8.5"
    },
    "colab": {
      "name": "estadisticos_de_orden.ipynb",
      "provenance": []
    }
  },
  "cells": [
    {
      "cell_type": "markdown",
      "metadata": {
        "id": "dtklrzKlnr9f"
      },
      "source": [
        "## Reto 4: Estadísticos de orden\n",
        "\n",
        "### 1. Objetivos:\n",
        "    - \n",
        " \n",
        "---\n",
        "    \n",
        "### 2. Desarrollo:"
      ]
    },
    {
      "cell_type": "markdown",
      "metadata": {
        "id": "Yo7Du4H2nr9m"
      },
      "source": [
        "#### a) Percentiles para evaluar la dispersión de nuestros datos\n",
        "\n",
        "Tienes debajo 4 series. Cada una de esas series contiene un conjunto de datos conformado por números enteros en el intervalo de 1 a 10. Los datos en cada una de estas series tienen un tipo de dispersión distinta. Los valores típicos cambian así como los valores atípicos. Las medianas también son diferentes.\n",
        "\n",
        "Usando percentiles, obtén información acerca de cuál es el valor donde están concentrados nuestros datos y cómo está configurada su dispersión. Entre más percentiles utilices, obtienes una descripción más detallada, pero como el dataset es muy pequeño, no necesitas tanta granularidad.\n",
        "\n",
        "Obtén los percentiles y comenta con la experta y tus compañeros qué cosas podemos inferir acerca de nuestros datos utilizando estos valores."
      ]
    },
    {
      "cell_type": "code",
      "metadata": {
        "id": "sztVLtr5nr9m"
      },
      "source": [
        "import pandas as pd"
      ],
      "execution_count": 1,
      "outputs": []
    },
    {
      "cell_type": "code",
      "metadata": {
        "id": "EX7jr2t8nr9n"
      },
      "source": [
        "serie_1 = pd.Series([1, 1, 1, 1, 1, 2, 2, 2, 2, 2, 2, 3, 3, 3, 3, 3, 3, 3, 4, 4, 4, 4, 4, 4, 4, 4, 5, 5, 5, 5, 5, 5, 5, 5, 5, 5, 5, 6, 6, 6, 6, 6, 6, 6, 6, 7, 7, 7, 7, 7, 7, 7, 7, 7, 8, 8, 8, 8, 8, 8, 8, 9, 9, 9, 9, 9, 9, 10, 10, 10, 10, 10])\n",
        "serie_2 = pd.Series([1, 1, 1, 2, 2, 2, 2, 2, 3, 3, 3, 3, 4, 4, 4, 4, 4, 4, 5, 5, 5, 5, 5, 5, 6, 6, 6, 6, 6, 6, 6, 6, 6, 6, 6, 6, 7, 7, 7, 7, 7, 7, 7, 7, 7, 7, 7, 7, 7, 7, 7, 7, 7, 7, 8, 8, 8, 8, 8, 8, 8, 8, 8, 8, 8, 8, 8, 8, 8, 8, 8, 8, 8, 8, 8, 8, 8, 8, 8, 9, 9, 9, 9, 9, 9, 9, 9, 9, 9, 10, 10, 10, 10, 10, 10, 10, 10, 10, 10])\n",
        "serie_3 = pd.Series([1, 1, 2, 2, 2, 3, 3, 3, 4, 4, 4, 4, 4, 4, 4, 4, 4, 4, 4, 4, 4, 4, 4, 5, 5, 5, 5, 5, 5, 5, 5, 5, 5, 5, 5, 5, 5, 5, 5, 5, 5, 5, 5, 5, 5, 5, 5, 5, 5, 5, 5, 5, 5, 5, 5, 5, 5, 5, 5, 5, 5, 5, 5, 5, 5, 5, 5, 5, 6, 6, 6, 6, 6, 6, 6, 6, 6, 6, 6, 6, 6, 6, 6, 6, 6, 6, 6, 6, 6, 6, 6, 6, 6, 6, 6, 6, 6, 6, 6, 6, 6, 6, 6, 6, 7, 7, 7, 7, 7, 7, 7, 7, 7, 7, 7, 7, 7, 7, 7, 7, 7, 7, 8, 8, 8, 8, 9, 9, 9, 10, 10])\n",
        "serie_4 = pd.Series([1, 1, 1, 1, 1, 1, 1, 2, 2, 2, 2, 2, 2, 2, 2, 2, 2, 2, 2, 2, 2, 2, 2, 2, 2, 3, 3, 3, 3, 3, 3, 3, 3, 3, 3, 3, 3, 3, 3, 3, 3, 3, 3, 3, 3, 3, 3, 3, 3, 3, 3, 3, 4, 4, 4, 4, 4, 4, 4, 4, 4, 4, 4, 4, 4, 4, 5, 5, 5, 5, 5, 5, 5, 5, 5, 6, 6, 6, 6, 6, 6, 6, 7, 7, 7, 7, 7, 8, 8, 8, 8, 8, 9, 9, 9, 9, 10, 10, 10])"
      ],
      "execution_count": 2,
      "outputs": []
    },
    {
      "cell_type": "code",
      "metadata": {
        "id": "BWlfN4pRn88J",
        "outputId": "bfcd0b2c-4af6-41f6-e3ae-b90ce2cd802a",
        "colab": {
          "base_uri": "https://localhost:8080/"
        }
      },
      "source": [
        "def show_percentiles(serie):\n",
        "  for p in [0, 0.1, 0.25, 0.5, 0.75, 0.9, 1]:\n",
        "      print(f\"p({p}): {round(serie.quantile(p), 6)}\")\n",
        "\n",
        "print(\"First serie...\")\n",
        "show_percentiles(serie_1)\n",
        "\n",
        "print(\"\\nSecond serie...\")\n",
        "show_percentiles(serie_2)\n",
        "\n",
        "print(\"\\nThird serie...\")\n",
        "show_percentiles(serie_3)\n",
        "\n",
        "print(\"\\nFourth serie...\")\n",
        "show_percentiles(serie_4)"
      ],
      "execution_count": 5,
      "outputs": [
        {
          "output_type": "stream",
          "text": [
            "First serie...\n",
            "p(0): 1.0\n",
            "p(0.1): 2.0\n",
            "p(0.25): 3.75\n",
            "p(0.5): 5.0\n",
            "p(0.75): 7.25\n",
            "p(0.9): 9.0\n",
            "p(1): 10.0\n",
            "\n",
            "Second serie...\n",
            "p(0): 1.0\n",
            "p(0.1): 3.0\n",
            "p(0.25): 6.0\n",
            "p(0.5): 7.0\n",
            "p(0.75): 8.0\n",
            "p(0.9): 9.2\n",
            "p(1): 10.0\n",
            "\n",
            "Third serie...\n",
            "p(0): 1.0\n",
            "p(0.1): 4.0\n",
            "p(0.25): 5.0\n",
            "p(0.5): 5.0\n",
            "p(0.75): 6.0\n",
            "p(0.9): 7.0\n",
            "p(1): 10.0\n",
            "\n",
            "Fourth serie...\n",
            "p(0): 1.0\n",
            "p(0.1): 2.0\n",
            "p(0.25): 2.5\n",
            "p(0.5): 3.0\n",
            "p(0.75): 5.0\n",
            "p(0.9): 8.0\n",
            "p(1): 10.0\n"
          ],
          "name": "stdout"
        }
      ]
    },
    {
      "cell_type": "markdown",
      "metadata": {
        "id": "C7XnkY3bnr9n"
      },
      "source": [
        "#### b) Percentiles para evaluar nuestro dataset de meteoritos\n",
        "\n",
        "Ahora vamos a aplicar los percentiles a nuestro dataset de objetos que han orbitado cerca de la Tierra. Queremos entender cómo están organizados nuestros datos.\n",
        "\n",
        "En el Reto pasado, usamos la desviación estándar para obtener la \"desviación esperada\" de nuestros datos. Aprendimos que la mayoría de nuestros datos están a una distancia de 1 desviación estándar o menos del promedio. Entre más desviaciones estándares añadíamos, menos datos quedaban fuera de nuestros subconjuntos. Lo que no sabemos es dónde están concentrados nuestros datos.\n",
        "\n",
        "Piensa en lo siguiente:\n",
        "\n",
        "Si tenemos un dataset con rango de 1 a 10, y nuestra desviación estándar es 2.5, los datos pueden estar organizados de maneras muy distintas:\n",
        "\n",
        "- Podría ser que el promedio es 3 y que la mayoría de los datos están en el rango de 0.5 a 5.5. En este caso podría haber datos muy distintos al resto en el parte superior del rango total (los valores entre 5.5 y 10).\n",
        "- Podría ser que el promedio es 7 y que la mayoría de los datos están en el rango de 4.5 a 9.5. En este caso los datos atípicos estarían concentrados en la parte inferior del rango total.\n",
        "- Podría ser que el promedio es 5 y que la mayoría de los datos están concentrados en el rango de 2.5 a 7.5. En este caso, lo más normal es que los datos estén alrededor del valor que está justo a la mitad del rango total y es cada vez más raro encontrar datos muy pequeños o muy grandes.\n",
        "\n",
        "Hay muchas otras posibilidades, pero lo importante es darse cuenta de que saber solamente la desviación estándar nos da aún una descripción muy ambigua de nuestros datos. Saber el promedio ya es un primer indicador de lo que está pasando en realidad. Pero saber además los percentiles nos puede dar una idea muchísimo más clara de cómo están acomodados nuestros datos.\n",
        "\n",
        "Lee el dataset 'near_earth_objects-jan_feb_1995-clean.csv' y obtén percentiles de la columna 'estimated_diameter.meters.estimated_diameter_max'. Comenta con tus compañeros y con la experta tus hallazgos y tus hipótesis acerca de qué podemos aprender sobre la organización de nuestros datos usando los percentiles."
      ]
    },
    {
      "cell_type": "code",
      "metadata": {
        "id": "Gu2ncrdjnr9o"
      },
      "source": [
        ""
      ],
      "execution_count": null,
      "outputs": []
    }
  ]
}