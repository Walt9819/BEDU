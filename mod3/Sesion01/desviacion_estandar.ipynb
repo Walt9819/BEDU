{
  "nbformat": 4,
  "nbformat_minor": 0,
  "metadata": {
    "kernelspec": {
      "display_name": "Python (data_science)",
      "language": "python",
      "name": "data_science"
    },
    "language_info": {
      "codemirror_mode": {
        "name": "ipython",
        "version": 3
      },
      "file_extension": ".py",
      "mimetype": "text/x-python",
      "name": "python",
      "nbconvert_exporter": "python",
      "pygments_lexer": "ipython3",
      "version": "3.8.5"
    },
    "colab": {
      "name": "desviacion_estandar.ipynb",
      "provenance": []
    }
  },
  "cells": [
    {
      "cell_type": "markdown",
      "metadata": {
        "id": "diSxKteEb9XN"
      },
      "source": [
        "## Reto 3: Desviación estándar\n",
        "\n",
        "### 1. Objetivos:\n",
        "    - Utilizar la desviación estándar para realizar un análisis de dispersión de nuestros datos\n",
        " \n",
        "---\n",
        "    \n",
        "### 2. Desarrollo:"
      ]
    },
    {
      "cell_type": "markdown",
      "metadata": {
        "id": "jObZN4HXb9XS"
      },
      "source": [
        "#### a) Desviación estándar y distribución de los datos\n",
        "\n",
        "Como ya vimos, la desviación estándar es la medida que nos da la \"desviación típica\" (o esperada) de nuestros datos a comparación del promedio. Eso quiere decir que normalmente vamos a esperar que una gran parte de nuestros datos se encuentren a 1 desviación estándar de distancia del promedio. Entre más nos alejamos, menos muestras deberíamos de encontrar.\n",
        "\n",
        "Vamos a comprobar esto usando nuestro dataset de meteoritos que orbitan cerca de la Tierra. Tu Reto consiste en los siguientes pasos:\n",
        "\n",
        "1. Crea un DataFrame con el dataset 'near_earth_objects-jan_feb_1995-clean.csv'.\n",
        "2. Obtén la cantidad total de muestras en tu DataFrame.\n",
        "3. Obtén la desviación estándar de la columna 'estimated_diameter.meters.estimated_diameter_max'. Los siguientes pasos realízalos todos utilizando esta columna.\n",
        "4. Obtén el porcentaje de muestras que están a una distancia de 1 desviación estándar del promedio.\n",
        "5. Obtén el porcentaje de muestras que están a una distancia de 2 desviaciones estándares del promedio.\n",
        "6. Obtén el porcentaje de muestras que están a una distancia de 3 desviaciones estándares del promedio.\n",
        "7. Compara los porcentajes obtenidos y comenta con tus compañeros y la experta tus hallazgos. ¿Qué significa esto? ¿La definición de desviación estándar tiene sentido? ¿Qué puedo inferir acerca de la dispersión de mis datos a partir de los valores obtenidos?\n",
        "\n",
        "> Nota: Para obtener los porcentajes de los subconjuntos primero necesitas filtrar el DataFrame original para que sólo permanezcan las muestras que cumplan con los requisitos.\n",
        "\n",
        "> Nota: Este Reto está diseñado para tener una dificultad media. No te frustres si al principio parece demasiado difícil. Comienza poco a poco, resolviendo el problema en pedazos pequeños, y si no tienes la menor idea de cómo proceder recuerda que la experta está ahí para ayudarte."
      ]
    },
    {
      "cell_type": "code",
      "metadata": {
        "id": "VmSHaTK4b9XS",
        "outputId": "eebd0dd1-22af-4603-a8ee-d7f02fafbc7a",
        "colab": {
          "base_uri": "https://localhost:8080/"
        }
      },
      "source": [
        "import pandas as pd\n",
        "\n",
        "df_meteoritos = pd.read_csv(\"https://raw.githubusercontent.com/beduExpert/B2-Analisis-de-Datos-con-Python-2020-Santander/main/Datasets/near_earth_objects-jan_feb_1995-clean.csv\")\n",
        "df = df_meteoritos[\"estimated_diameter.meters.estimated_diameter_max\"]\n",
        "df.head()"
      ],
      "execution_count": 2,
      "outputs": [
        {
          "output_type": "execute_result",
          "data": {
            "text/plain": [
              "0    1081.533507\n",
              "1     215.794305\n",
              "2      98.637028\n",
              "3     103.285648\n",
              "4      49.435619\n",
              "Name: estimated_diameter.meters.estimated_diameter_max, dtype: float64"
            ]
          },
          "metadata": {
            "tags": []
          },
          "execution_count": 2
        }
      ]
    },
    {
      "cell_type": "code",
      "metadata": {
        "id": "IQXtcs91dyIT"
      },
      "source": [
        "def is_between_std_times(series, times):\n",
        "    std = series.std()\n",
        "    mn = series.mean()\n",
        "    if times < 1:\n",
        "        raise ValueError(\"Invalid input given. Times parameter must be a positive integer value\")\n",
        "    elif times == 1:\n",
        "        return (series >= mn - std) & (series <= mn + std)\n",
        "    else:\n",
        "        return (series >= mn - times * std) & (series <= mn - (times - 1) * std) | (series <= mn + times * std) & (series >= mn + (times - 1) * std)"
      ],
      "execution_count": 49,
      "outputs": []
    },
    {
      "cell_type": "code",
      "metadata": {
        "id": "mslAV3lvcxP1",
        "outputId": "35794888-d749-4f9b-b4a9-908c9ed65ae6",
        "colab": {
          "base_uri": "https://localhost:8080/"
        }
      },
      "source": [
        "tot = df.count()\n",
        "mn = df.mean()\n",
        "std = df.std()\n",
        "\n",
        "counts = []\n",
        "for i in range(3):\n",
        "    filter = is_between_std_times(df, i + 1)\n",
        "    counts.append(df.loc[filter].count())\n",
        "\n",
        "for i in range(3):\n",
        "    print(f\"Los datos alejados {i+1} desviaciones estándar son el {round(counts[i]/tot, 4)*100}% del total de datos.\")"
      ],
      "execution_count": 53,
      "outputs": [
        {
          "output_type": "stream",
          "text": [
            "Los datos alejados 1 desviaciones estándar son el 90.39% del total de datos.\n",
            "Los datos alejados 2 desviaciones estándar son el 6.01% del total de datos.\n",
            "Los datos alejados 3 desviaciones estándar son el 1.5% del total de datos.\n"
          ],
          "name": "stdout"
        }
      ]
    },
    {
      "cell_type": "markdown",
      "metadata": {
        "id": "b55XTV6Fb9XT"
      },
      "source": [
        "<details><summary>Solución</summary>\n",
        "\n",
        "```python\n",
        "import pandas as pd\n",
        "\n",
        "df = pd.read_csv('../../Datasets/near_earth_objects-jan_feb_1995-clean.csv', index_col=0)\n",
        "diameter_column = 'estimated_diameter.meters.estimated_diameter_max'\n",
        "total_count = df.shape[0]\n",
        "mean = df[diameter_column].mean()\n",
        "std = df[diameter_column].std()\n",
        "\n",
        "within_one_std_filter_bottom = df[diameter_column] >= (mean - std)\n",
        "within_one_std_filter_top = df[diameter_column] <= (mean + std)\n",
        "within_one_std = df[within_one_std_filter_bottom & within_one_std_filter_top]\n",
        "percentage_of_data_within_one_std = within_one_std.shape[0] * 100 / total_count\n",
        "\n",
        "within_two_std_filter_bottom = df[diameter_column] >= (mean - 2 * std)\n",
        "within_two_std_filter_top = df[diameter_column] <= (mean + 2 * std)\n",
        "within_two_std = df[within_two_std_filter_bottom & within_two_std_filter_top]\n",
        "percentage_of_data_within_two_std = within_two_std.shape[0] * 100 / total_count\n",
        "\n",
        "within_three_std_filter_bottom = df[diameter_column] >= (mean - 3 * std)\n",
        "within_three_std_filter_top = df[diameter_column] <= (mean + 3 * std)\n",
        "within_three_std = df[within_three_std_filter_bottom & within_three_std_filter_top]\n",
        "percentage_of_data_within_three_std = within_three_std.shape[0] * 100 / total_count\n",
        "```\n",
        "    \n",
        "</details>"
      ]
    },
    {
      "cell_type": "code",
      "metadata": {
        "id": "zpUzepLab9XT"
      },
      "source": [
        ""
      ],
      "execution_count": null,
      "outputs": []
    }
  ]
}