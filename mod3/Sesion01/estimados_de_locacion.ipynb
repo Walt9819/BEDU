{
  "nbformat": 4,
  "nbformat_minor": 0,
  "metadata": {
    "kernelspec": {
      "display_name": "Python (data_science)",
      "language": "python",
      "name": "data_science"
    },
    "language_info": {
      "codemirror_mode": {
        "name": "ipython",
        "version": 3
      },
      "file_extension": ".py",
      "mimetype": "text/x-python",
      "name": "python",
      "nbconvert_exporter": "python",
      "pygments_lexer": "ipython3",
      "version": "3.7.6"
    },
    "colab": {
      "name": "estimados_de_locacion.ipynb",
      "provenance": []
    }
  },
  "cells": [
    {
      "cell_type": "markdown",
      "metadata": {
        "id": "zJnc0QBgLFEZ"
      },
      "source": [
        "## Reto 2: Estimados de locación\n",
        "\n",
        "### 1. Objetivos:\n",
        "    - Implementar los algoritmos para obtener estimados de locación sin utilizar los métodos builtin de pandas\n",
        " \n",
        "---\n",
        "    \n",
        "### 2. Desarrollo:"
      ]
    },
    {
      "cell_type": "markdown",
      "metadata": {
        "id": "0NSlKoslLFEh"
      },
      "source": [
        "#### a) Implementando estimados de locación\n",
        "\n",
        "Este Reto va a consistir en implementar el promedio y la mediana sin utilizar los métodos `mean` y `median` que vienen incluidos en `pandas`. Implementar algoritmos desde 0 es una excelente práctica que nos ayuda a entenderlos mejor y recordarlos con más precisión.\n",
        "\n",
        "Puedes utilizar `pandas` y otras funciones vectorizadas o de reducción. Las únicas funciones que no están permitidas son `mean` y `median`. Las dos funciones que vas a crear deben recibir una serie de `pandas` y regresar un solo número."
      ]
    },
    {
      "cell_type": "code",
      "metadata": {
        "id": "fiWV-xPILFEj"
      },
      "source": [
        "def promedio_custom(serie):\n",
        "    return serie.sum() / serie.count()"
      ],
      "execution_count": 1,
      "outputs": []
    },
    {
      "cell_type": "code",
      "metadata": {
        "id": "9uvEoLeELFEk"
      },
      "source": [
        "def mediana_custom(serie):\n",
        "    data = serie.sort_values()\n",
        "    num = data.shape[0] / 2\n",
        "    return data.iloc[floor(num)] if not num % 2 == 0 else (data.iloc[num-1] + data.iloc[num]) / 2"
      ],
      "execution_count": 66,
      "outputs": []
    },
    {
      "cell_type": "markdown",
      "metadata": {
        "id": "OJRYp6UULFEk"
      },
      "source": [
        "#### b) Estimados de locación de diámetros de meteoritos\n",
        "\n",
        "Ahora vamos a utilizar nuestras funciones custom para obtener estimados de locación de un conjunto de datos que contiene información acerca de objetos que orbitaron cerca de la Tierra durante el periodo de enero y febrero de 1995.\n",
        "\n",
        "El dataset se llama 'near_earth_objects-jan_feb_1995-clean.csv' y la columna que vamos a analizar se llama 'estimated_diameter.meters.estimated_diameter_max'. Esta columna contiene el diámetro máximo estimado de cada objeto.\n",
        "\n",
        "El reto es el siguiente:\n",
        "\n",
        "1. Lee el dataset usando `pandas`.\n",
        "2. Obtén el promedio y la mediana usando tus funciones custom y asígnalas a `promedio_diametro` y `mediana_diametro`.\n",
        "3. Corre la celda que contiene el código para verificar tus resultados.\n",
        "4. Responde la pregunta que te regresa la función de verificación."
      ]
    },
    {
      "cell_type": "code",
      "metadata": {
        "colab": {
          "base_uri": "https://localhost:8080/"
        },
        "id": "1j2rA4KULFEl",
        "outputId": "e1943cb4-ec4b-4a3a-ffa1-3b0a0726a25e"
      },
      "source": [
        "import pandas as pd\n",
        "from math import floor, ceil\n",
        "# Lee el dataset y asígnalo a esta variable\n",
        "\n",
        "df_meteoritos = pd.read_csv(\"https://raw.githubusercontent.com/beduExpert/B2-Analisis-de-Datos-con-Python-2020-Santander/main/Datasets/near_earth_objects-jan_feb_1995-clean.csv\")\n",
        "df = df_meteoritos[\"estimated_diameter.meters.estimated_diameter_max\"]"
      ],
      "execution_count": 39,
      "outputs": [
        {
          "output_type": "execute_result",
          "data": {
            "text/plain": [
              "333"
            ]
          },
          "metadata": {
            "tags": []
          },
          "execution_count": 39
        }
      ]
    },
    {
      "cell_type": "code",
      "metadata": {
        "id": "oGM0Cr39LFEl"
      },
      "source": [
        "promedio_diametro = promedio_custom(df)"
      ],
      "execution_count": 8,
      "outputs": []
    },
    {
      "cell_type": "code",
      "metadata": {
        "id": "aMKQ9G4pLFEm"
      },
      "source": [
        "mediana_diametro = mediana_custom(df)"
      ],
      "execution_count": 67,
      "outputs": []
    },
    {
      "cell_type": "code",
      "metadata": {
        "colab": {
          "base_uri": "https://localhost:8080/"
        },
        "id": "-3asWV6oLFEm",
        "outputId": "252268d9-81ca-4467-f109-2dae443a12c4"
      },
      "source": [
        "def verificar_resultados(df_meteoritos, promedio_diametro, mediana_diametro):\n",
        "    promedio = df_meteoritos['estimated_diameter.meters.estimated_diameter_max'].mean()\n",
        "    if round(promedio_diametro, 6) != round(promedio, 6):\n",
        "        print(f'El promedio no fue calculado correctamente.')\n",
        "        print(f'Promedio esperado: {promedio}; Promedio recibido: {promedio_diametro}')\n",
        "        return\n",
        "       \n",
        "\n",
        "    mediana = df_meteoritos['estimated_diameter.meters.estimated_diameter_max'].median()\n",
        "    if round(mediana_diametro, 6) != round(mediana, 6):\n",
        "        print(f'La mediana no fue calculada correctamente.')\n",
        "        print(f'Mediana esperada: {mediana}; Mediana recibida: {mediana_diametro}')\n",
        "        return\n",
        "        \n",
        "    print(f'Los estimados fueron calcualados correctamente.\\n')\n",
        "    print(f'El promedio calculado fue de {promedio_diametro} mientras que la mediana fue de {mediana_diametro}.')\n",
        "    print(f'¿A qué le atribuyes tú la diferencia?')\n",
        "\n",
        "verificar_resultados(df_meteoritos, promedio_diametro, mediana_diametro)"
      ],
      "execution_count": 68,
      "outputs": [
        {
          "output_type": "stream",
          "text": [
            "Los estimados fueron calcualados correctamente.\n",
            "\n",
            "El promedio calculado fue de 410.08604223976545 mientras que la mediana fue de 215.7943048444.\n",
            "¿A qué le atribuyes tú la diferencia?\n"
          ],
          "name": "stdout"
        }
      ]
    },
    {
      "cell_type": "markdown",
      "metadata": {
        "id": "kYHpNXg-LFEm"
      },
      "source": [
        "<details><summary>Solución</summary>\n",
        "\n",
        "```python\n",
        "def promedio_custom(serie):\n",
        "    return serie.sum() / serie.count()\n",
        "    \n",
        "def mediana_custom(serie):\n",
        "    import numpy as np\n",
        "    \n",
        "    serie_ordenada = serie.sort_values(ascending=True)\n",
        "    length_of_series = serie.count()\n",
        "    \n",
        "    if length_of_series % 2 == 0:\n",
        "        bottom =int(length_of_series / 2)\n",
        "        top = int(bottom + 1)\n",
        "        return (serie_ordenada.iloc[bottom] + serie_ordenada.iloc[top]) / 2\n",
        "    else:\n",
        "        index = int(np.ceil(length_of_series / 2))\n",
        "        return serie_ordenada.iloc[index]\n",
        "    \n",
        "import pandas as pd\n",
        "df_meteoritos = pd.read_csv('../../Datasets/near_earth_objects-jan_feb_1995-clean.csv', index_col=0)\n",
        "promedio_diametro = promedio_custom(df_meteoritos['estimated_diameter.meters.estimated_diameter_max'])\n",
        "mediana_diametro = mediana_custom(df_meteoritos['estimated_diameter.meters.estimated_diameter_max'])\n",
        "```\n",
        "    \n",
        "</details>"
      ]
    }
  ]
}