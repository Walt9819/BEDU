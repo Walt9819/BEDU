{
  "nbformat": 4,
  "nbformat_minor": 0,
  "metadata": {
    "colab": {
      "name": "Reto 01.ipynb",
      "provenance": [],
      "collapsed_sections": []
    },
    "kernelspec": {
      "display_name": "Python 3",
      "language": "python",
      "name": "python3"
    },
    "language_info": {
      "codemirror_mode": {
        "name": "ipython",
        "version": 3
      },
      "file_extension": ".py",
      "mimetype": "text/x-python",
      "name": "python",
      "nbconvert_exporter": "python",
      "pygments_lexer": "ipython3",
      "version": "3.7.4"
    }
  },
  "cells": [
    {
      "cell_type": "markdown",
      "metadata": {
        "id": "Rz6sX2-hMZdZ"
      },
      "source": [
        "# Reto 01\n",
        "## Jaffet León Chávez\n",
        "\n",
        "A continuación vamos a generar una neurona básica matemática. Este reto requiere de usar su lógica de programador para crear una red neuronal artificial 'a mano'. El reto consta de lo siguiente:\n",
        "\n",
        "- Usted debe generar una neurona que le permita generar el valor y de la siguiente función\n",
        "\n",
        "$y = ( (a_1x_1 + a_2x_2+ a_3x_3) + \\cdots + t ) * (   c_1a_1 +  c_2a_2 +  c_3a_3 + \\cdots + g$) / $\\pi$\n",
        "\n",
        "\n",
        "\n"
      ]
    },
    {
      "cell_type": "code",
      "metadata": {
        "id": "CDqHXM7zPZ-d"
      },
      "source": [
        "# Importemos las librerías necesarias\n",
        "\n",
        "import numpy as np\n",
        "import math"
      ],
      "execution_count": 4,
      "outputs": []
    },
    {
      "cell_type": "markdown",
      "metadata": {
        "id": "Y-asmuqnWFLl"
      },
      "source": [
        "# Paso 01\n",
        "\n",
        "Con base en las siguientes variables, escriba una función base que se llame 'calculo' como preambulo para generar una 'neurona' artificial que compute para usted  la variable esperada 'y', con base en las siguientes variables:"
      ]
    },
    {
      "cell_type": "code",
      "metadata": {
        "id": "1HaVLVi4MWyW"
      },
      "source": [
        "a = [10,25,50,75,100,125,150,175,200]\n",
        "x = [100,250,500,750,1000,1250,1500,1750,2000]\n",
        "t = 80\n",
        "g = 60\n",
        "c = [20,85,14,84,45,85,10,92,105]"
      ],
      "execution_count": 12,
      "outputs": []
    },
    {
      "cell_type": "code",
      "metadata": {
        "id": "cWK_yA8umG0B"
      },
      "source": [
        "def calculo(a, x, t, c, g):\n",
        "  return (np.dot(a, x) + t) * ((np.dot(c, a) + g) / np.pi)"
      ],
      "execution_count": 17,
      "outputs": []
    },
    {
      "cell_type": "markdown",
      "metadata": {
        "id": "vCj2HoOQXaHP"
      },
      "source": [
        "# Paso 02\n",
        "\n",
        "Genere una función básica de activación que se llame 'activacion' que solo verifique el valor númerico del resultado o z con lo que arroja realmente 'calculo'"
      ]
    },
    {
      "cell_type": "code",
      "metadata": {
        "id": "sBpCHSB6X8GF"
      },
      "source": [
        "def activacion(y):\n",
        "  return 1 / (1 + np.exp(y))"
      ],
      "execution_count": 18,
      "outputs": []
    },
    {
      "cell_type": "markdown",
      "metadata": {
        "id": "1qN3vmieb-R_"
      },
      "source": [
        "# Paso 03\n",
        "\n",
        "Ahora usted debe generar una función llamada 'neurona' que conjunte las funciones 'calculo' y 'activacion', que de un return o print del valor esperado.\n",
        "- Debe volver a declarar a,x,t,g y c. Asigne valores nuevos a esas variables\n",
        "- La prueba de fuego es que de un return del resultado esperado"
      ]
    },
    {
      "cell_type": "code",
      "metadata": {
        "id": "8dAfV217b_VO"
      },
      "source": [
        "def neurona(a, x, t, c, g):\n",
        "  res = calculo(a, x, t, c, g)\n",
        "  return activacion(res)"
      ],
      "execution_count": 19,
      "outputs": []
    },
    {
      "cell_type": "code",
      "metadata": {
        "colab": {
          "base_uri": "https://localhost:8080/"
        },
        "id": "MKMRPbUFcYLF",
        "outputId": "9d5a79cb-90cd-49ce-db21-2d4338a4b0a9"
      },
      "source": [
        "neurona(a, x, t, c, g)"
      ],
      "execution_count": 20,
      "outputs": [
        {
          "output_type": "stream",
          "text": [
            "/usr/local/lib/python3.7/dist-packages/ipykernel_launcher.py:2: RuntimeWarning: overflow encountered in exp\n",
            "  \n"
          ],
          "name": "stderr"
        },
        {
          "output_type": "execute_result",
          "data": {
            "text/plain": [
              "0.0"
            ]
          },
          "metadata": {
            "tags": []
          },
          "execution_count": 20
        }
      ]
    }
  ]
}