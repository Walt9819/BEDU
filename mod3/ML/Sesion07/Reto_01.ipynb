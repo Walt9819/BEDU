{
  "nbformat": 4,
  "nbformat_minor": 0,
  "metadata": {
    "kernelspec": {
      "display_name": "Python 3",
      "language": "python",
      "name": "python3"
    },
    "language_info": {
      "codemirror_mode": {
        "name": "ipython",
        "version": 3
      },
      "file_extension": ".py",
      "mimetype": "text/x-python",
      "name": "python",
      "nbconvert_exporter": "python",
      "pygments_lexer": "ipython3",
      "version": "3.7.4"
    },
    "colab": {
      "name": "Reto 01.ipynb",
      "provenance": []
    }
  },
  "cells": [
    {
      "cell_type": "markdown",
      "metadata": {
        "id": "00XBbxGYR6T-"
      },
      "source": [
        "# Reto 01\n",
        "A continuación tienes el dataset de supervivientes del Titanic. El reto consta de generar un Random Forest pero... ¡con la metodología Pipe! Siga las instrucciones a detalle"
      ]
    },
    {
      "cell_type": "markdown",
      "metadata": {
        "id": "Gr5WewHHR6T-"
      },
      "source": [
        "## Paso 1. Cargue su CSV 'train' y Genere un breve EDA"
      ]
    },
    {
      "cell_type": "code",
      "metadata": {
        "id": "KgKQpb45TGNF"
      },
      "source": [
        "import pandas as pd"
      ],
      "execution_count": 3,
      "outputs": []
    },
    {
      "cell_type": "code",
      "metadata": {
        "id": "SwzFQGyNR6T_",
        "outputId": "bd998b26-e12e-45be-ceb8-e0860da3360e",
        "colab": {
          "base_uri": "https://localhost:8080/",
          "height": 235
        }
      },
      "source": [
        "df = pd.read_csv(\"https://raw.githubusercontent.com/jaffotsa/sml/main/Sesion%2007.%20Arena%20Clasificadores/Reto%2001/train.csv\", index_col=0)\n",
        "df.head()"
      ],
      "execution_count": 4,
      "outputs": [
        {
          "output_type": "execute_result",
          "data": {
            "text/html": [
              "<div>\n",
              "<style scoped>\n",
              "    .dataframe tbody tr th:only-of-type {\n",
              "        vertical-align: middle;\n",
              "    }\n",
              "\n",
              "    .dataframe tbody tr th {\n",
              "        vertical-align: top;\n",
              "    }\n",
              "\n",
              "    .dataframe thead th {\n",
              "        text-align: right;\n",
              "    }\n",
              "</style>\n",
              "<table border=\"1\" class=\"dataframe\">\n",
              "  <thead>\n",
              "    <tr style=\"text-align: right;\">\n",
              "      <th></th>\n",
              "      <th>Survived</th>\n",
              "      <th>Pclass</th>\n",
              "      <th>Name</th>\n",
              "      <th>Sex</th>\n",
              "      <th>Age</th>\n",
              "      <th>SibSp</th>\n",
              "      <th>Parch</th>\n",
              "      <th>Ticket</th>\n",
              "      <th>Fare</th>\n",
              "      <th>Cabin</th>\n",
              "      <th>Embarked</th>\n",
              "    </tr>\n",
              "    <tr>\n",
              "      <th>PassengerId</th>\n",
              "      <th></th>\n",
              "      <th></th>\n",
              "      <th></th>\n",
              "      <th></th>\n",
              "      <th></th>\n",
              "      <th></th>\n",
              "      <th></th>\n",
              "      <th></th>\n",
              "      <th></th>\n",
              "      <th></th>\n",
              "      <th></th>\n",
              "    </tr>\n",
              "  </thead>\n",
              "  <tbody>\n",
              "    <tr>\n",
              "      <th>1</th>\n",
              "      <td>0</td>\n",
              "      <td>3</td>\n",
              "      <td>Braund, Mr. Owen Harris</td>\n",
              "      <td>male</td>\n",
              "      <td>22.0</td>\n",
              "      <td>1</td>\n",
              "      <td>0</td>\n",
              "      <td>A/5 21171</td>\n",
              "      <td>7.2500</td>\n",
              "      <td>NaN</td>\n",
              "      <td>S</td>\n",
              "    </tr>\n",
              "    <tr>\n",
              "      <th>2</th>\n",
              "      <td>1</td>\n",
              "      <td>1</td>\n",
              "      <td>Cumings, Mrs. John Bradley (Florence Briggs Th...</td>\n",
              "      <td>female</td>\n",
              "      <td>38.0</td>\n",
              "      <td>1</td>\n",
              "      <td>0</td>\n",
              "      <td>PC 17599</td>\n",
              "      <td>71.2833</td>\n",
              "      <td>C85</td>\n",
              "      <td>C</td>\n",
              "    </tr>\n",
              "    <tr>\n",
              "      <th>3</th>\n",
              "      <td>1</td>\n",
              "      <td>3</td>\n",
              "      <td>Heikkinen, Miss. Laina</td>\n",
              "      <td>female</td>\n",
              "      <td>26.0</td>\n",
              "      <td>0</td>\n",
              "      <td>0</td>\n",
              "      <td>STON/O2. 3101282</td>\n",
              "      <td>7.9250</td>\n",
              "      <td>NaN</td>\n",
              "      <td>S</td>\n",
              "    </tr>\n",
              "    <tr>\n",
              "      <th>4</th>\n",
              "      <td>1</td>\n",
              "      <td>1</td>\n",
              "      <td>Futrelle, Mrs. Jacques Heath (Lily May Peel)</td>\n",
              "      <td>female</td>\n",
              "      <td>35.0</td>\n",
              "      <td>1</td>\n",
              "      <td>0</td>\n",
              "      <td>113803</td>\n",
              "      <td>53.1000</td>\n",
              "      <td>C123</td>\n",
              "      <td>S</td>\n",
              "    </tr>\n",
              "    <tr>\n",
              "      <th>5</th>\n",
              "      <td>0</td>\n",
              "      <td>3</td>\n",
              "      <td>Allen, Mr. William Henry</td>\n",
              "      <td>male</td>\n",
              "      <td>35.0</td>\n",
              "      <td>0</td>\n",
              "      <td>0</td>\n",
              "      <td>373450</td>\n",
              "      <td>8.0500</td>\n",
              "      <td>NaN</td>\n",
              "      <td>S</td>\n",
              "    </tr>\n",
              "  </tbody>\n",
              "</table>\n",
              "</div>"
            ],
            "text/plain": [
              "             Survived  Pclass  ... Cabin Embarked\n",
              "PassengerId                    ...               \n",
              "1                   0       3  ...   NaN        S\n",
              "2                   1       1  ...   C85        C\n",
              "3                   1       3  ...   NaN        S\n",
              "4                   1       1  ...  C123        S\n",
              "5                   0       3  ...   NaN        S\n",
              "\n",
              "[5 rows x 11 columns]"
            ]
          },
          "metadata": {
            "tags": []
          },
          "execution_count": 4
        }
      ]
    },
    {
      "cell_type": "code",
      "metadata": {
        "id": "g8D9UTD3V3PZ",
        "outputId": "b10313ac-7031-448e-9450-fbf96147d164",
        "colab": {
          "base_uri": "https://localhost:8080/"
        }
      },
      "source": [
        "df.dtypes"
      ],
      "execution_count": 9,
      "outputs": [
        {
          "output_type": "execute_result",
          "data": {
            "text/plain": [
              "Survived      int64\n",
              "Pclass        int64\n",
              "Name         object\n",
              "Sex          object\n",
              "Age         float64\n",
              "SibSp         int64\n",
              "Parch         int64\n",
              "Ticket       object\n",
              "Fare        float64\n",
              "Cabin        object\n",
              "Embarked     object\n",
              "dtype: object"
            ]
          },
          "metadata": {
            "tags": []
          },
          "execution_count": 9
        }
      ]
    },
    {
      "cell_type": "markdown",
      "metadata": {
        "id": "irMWadguR6T_"
      },
      "source": [
        "## Paso 02. Empiece a segmentar sus datos\n",
        "Recuerde que con base en la variable \"Survived\", usted desea justamente predecir que personas podrán sobrevivir de acuerdo a otras variables independientes (tal como Tarifa, clase o edad).\n",
        "\n",
        "El siguiente paso es que segmente en las variables numericas y categoricas, y acto seguido, es necesario que genere un training, testing y validation con scikit learn train_test_split"
      ]
    },
    {
      "cell_type": "code",
      "metadata": {
        "id": "GdocCHtoR6T_"
      },
      "source": [
        "from sklearn.model_selection import train_test_split\n",
        "from sklearn.tree import DecisionTreeRegressor\n",
        "\n",
        "y = df[\"Survived\"]\n",
        "x = df.drop([\"Survived\"], axis=1)"
      ],
      "execution_count": 7,
      "outputs": []
    },
    {
      "cell_type": "code",
      "metadata": {
        "id": "giwGs07HUiDM"
      },
      "source": [
        "xTrn, xTst, yTrn, yTst = train_test_split(x, y, train_size=0.8, random_state=123)"
      ],
      "execution_count": 19,
      "outputs": []
    },
    {
      "cell_type": "markdown",
      "metadata": {
        "id": "YHvI98voR6UA"
      },
      "source": [
        "## Paso 3. con las librerías importadas, realice su OneHot coding aumatico con la ayuda de Pipe, y agrupe las variables categoricas y numericas tal que permita iniciar su pipe"
      ]
    },
    {
      "cell_type": "code",
      "metadata": {
        "id": "OUEkIoGuR6UA"
      },
      "source": [
        "from sklearn.compose import ColumnTransformer\n",
        "from sklearn.pipeline import Pipeline\n",
        "from sklearn.impute import SimpleImputer\n",
        "from sklearn.preprocessing import OneHotEncoder"
      ],
      "execution_count": 20,
      "outputs": []
    },
    {
      "cell_type": "code",
      "metadata": {
        "id": "YwYkoWgeVEau"
      },
      "source": [
        "# Preprocesar datos numericos\n",
        "num_transform = SimpleImputer(strategy='constant')\n",
        "\n",
        "# preprocesar datos categoricos\n",
        "cat_transform = Pipeline(steps=[\n",
        "    ('imputer', SimpleImputer(strategy='most_frequent')),\n",
        "    ('onehot', OneHotEncoder(handle_unknown='ignore'))\n",
        "])\n",
        "\n",
        "num_cols = [\"Age\", \"Fare\"]\n",
        "cat_cols = [\"Pclass\", \"Sex\", \"SibSp\", \"Parch\", \"Embarked\"]\n",
        "\n",
        "# Juntar variables categoricas y numericas\n",
        "preProcess = ColumnTransformer(\n",
        "    transformers=[\n",
        "        ('num', num_transform, num_cols),\n",
        "        ('cat', cat_transform, cat_cols)\n",
        "    ])"
      ],
      "execution_count": 21,
      "outputs": []
    },
    {
      "cell_type": "markdown",
      "metadata": {
        "id": "Fbo-o0-pR6UA"
      },
      "source": [
        "## Paso 4. Defina su Random Forest y almacenelo en una variable que usted defina"
      ]
    },
    {
      "cell_type": "code",
      "metadata": {
        "id": "Co2JCcNXR6UB"
      },
      "source": [
        "from sklearn.ensemble import RandomForestRegressor\n",
        "\n",
        "model = RandomForestRegressor(n_estimators=100, random_state=123)"
      ],
      "execution_count": 26,
      "outputs": []
    },
    {
      "cell_type": "markdown",
      "metadata": {
        "id": "ZQiwrRr0R6UB"
      },
      "source": [
        "## Paso 5. Corra su pipe, enbone los datos y por último, evalue en modelo accediendo al arror absoluto medio con  mean_absolute_error"
      ]
    },
    {
      "cell_type": "code",
      "metadata": {
        "id": "eXXjuaivR6UB",
        "outputId": "4c0fa17c-535c-4147-e753-b050961e119f",
        "colab": {
          "base_uri": "https://localhost:8080/"
        }
      },
      "source": [
        "from sklearn.metrics import mean_absolute_error\n",
        "\n",
        "# Conjuntar los datos preprocesados y hacer el fit\n",
        "my_pipeline = Pipeline(steps=[('preprocessor', preProcess),\n",
        "                              ('model', model)\n",
        "                             ])\n",
        "\n",
        "# Enbonar el training\n",
        "my_pipeline.fit(xTrn, yTrn)\n",
        "\n",
        "# Adjuntar el training data y terminar el fit\n",
        "preds = my_pipeline.predict(xTst)\n",
        "\n",
        "# Siguiente paso: evaluación del modelo\n",
        "score = mean_absolute_error(yTst, preds)\n",
        "print('MAE:', score)"
      ],
      "execution_count": 27,
      "outputs": [
        {
          "output_type": "stream",
          "text": [
            "MAE: 0.23413448616870405\n"
          ],
          "name": "stdout"
        }
      ]
    }
  ]
}