{
  "nbformat": 4,
  "nbformat_minor": 0,
  "metadata": {
    "kernelspec": {
      "display_name": "Python 3",
      "language": "python",
      "name": "python3"
    },
    "language_info": {
      "codemirror_mode": {
        "name": "ipython",
        "version": 3
      },
      "file_extension": ".py",
      "mimetype": "text/x-python",
      "name": "python",
      "nbconvert_exporter": "python",
      "pygments_lexer": "ipython3",
      "version": "3.7.4"
    },
    "colab": {
      "name": "Reto 01.ipynb",
      "provenance": []
    }
  },
  "cells": [
    {
      "cell_type": "markdown",
      "metadata": {
        "id": "__0J89KxINgC"
      },
      "source": [
        "# Reto 01\n",
        "# Por Jaffet León Chávez\n",
        "\n",
        "A continuación haremos un árbol de decisión de la misma forma que lo hicimos con el juego de Adivina Quién, pero en este caso juagremos a encontrar al ladrón. Lee el caso:\n",
        "\n",
        "Eres un detective y debes encontrar al culpable de hcer robado del museo del Louvre una importante obra artística valuada en varios millones de euros. El ladrón, que entró en la noche a las instalaciones del múseo, fue visto salir con el motín por un testigo que estaba pasando la calle al momento de la huida del delincuente. El testigo le dijo a la policía que el ladrón presentaba las siguientes señas particulares:\n",
        "\n",
        "- Tiene un tatuaje en la muñeca\n",
        "- No tenía perforaciones visibles\n",
        "- Su cabello era negro\n",
        "- Usaba botas\n",
        "- Medía más de 1.80, aproximadamente\n",
        "- Era de tez blanca\n",
        "\n",
        "En la base de datos de la estación de Policia se encontraron los expedientes de 7 sospechosos. Tu deber es hacer las preguntas correctas para hayar al culpable entre los probables malhechores.\n",
        "\n",
        "Los sospechosos, y sus respectivas características son:\n",
        "- Manuel: No tatuaje | Sin perforaciones | No cabello negro | No botas | Si mide más de 1.80 | Si tez blanca\n",
        "- Pedro: Si tatuaje | Sin perforaciones | Si cabello negro | Si botas | Si mide más de 1.80 | Si tez blanca\n",
        "- Akira: Si tatuaje | Sin perforaciones | Si cabello negro | No botas | Si mide más de 1.80 | Si tez blanca\n",
        "- Mauricio: Si tatuaje | Sin perforaciones | No cabello negro | No botas | Si mide más de 1.80 | Si tez blanca\n",
        "- Heriberto: Si tatuaje | Con perforaciones | No cabello negro | No botas | No mide más de 1.80 | No tez blanca\n",
        "- Yony: Si tatuaje | Sin perforaciones | No cabello negro | No botas | Si mide más de 1.80 | No tez blanca\n",
        "- Juan: Si tatuaje | Sin perforaciones | No cabello negro | No botas | No mide más de 1.80 | No tez blanca"
      ]
    },
    {
      "cell_type": "markdown",
      "metadata": {
        "id": "Lb1UPgxTINgL"
      },
      "source": [
        "### Paso 0: Cargue Numpy"
      ]
    },
    {
      "cell_type": "code",
      "metadata": {
        "id": "9cmOha7dINgL"
      },
      "source": [
        "import numpy as np"
      ],
      "execution_count": 1,
      "outputs": []
    },
    {
      "cell_type": "markdown",
      "metadata": {
        "id": "DlUB0ai4INgM"
      },
      "source": [
        "### Paso 01\n",
        "A continuación debe definir una variable 'sospechosos' para el output con forma de lista, con los 0mbres de los sospechosos."
      ]
    },
    {
      "cell_type": "code",
      "metadata": {
        "id": "qdueGyG-INgM"
      },
      "source": [
        "sospechosos = [\"Manuel\", \"Pedro\", \"Akira\", \"Mauricio\", \"Heriberto\", \"Yony\", \"Juan\"]"
      ],
      "execution_count": 11,
      "outputs": []
    },
    {
      "cell_type": "markdown",
      "metadata": {
        "id": "Nx-UNZ_RINgN"
      },
      "source": [
        "### Paso 02\n",
        "A continuación debes generar un array llamado 'binaria' de numpy con una binarización (1 para si cuenta con la característica, 0 para 0 cuenta con ella), donde cada fila corresponde a un sospechoso"
      ]
    },
    {
      "cell_type": "code",
      "metadata": {
        "id": "Ca-AeXb9INgN"
      },
      "source": [
        "binaria = np.array([\n",
        "    [0, 0, 0, 0, 1, 1],\n",
        "    [1, 0, 1, 1, 1, 1],\n",
        "    [1, 0, 1, 0, 1, 1],\n",
        "    [1, 0, 0, 0, 1, 1],\n",
        "    [1, 1, 0, 0, 0, 0],\n",
        "    [1, 0, 0, 0, 1, 0],\n",
        "    [1, 0, 0, 0, 0, 0],],\n",
        "    dtype=np.int8)"
      ],
      "execution_count": 12,
      "outputs": []
    },
    {
      "cell_type": "markdown",
      "metadata": {
        "id": "PDPGP_yzINgN"
      },
      "source": [
        "### Paso 03:\n",
        "Verifique que todos los acusados son sospechosos mediante una variable que se llame 'SospechososTodos' igual a operación básica que multiplique un boolean con cada observación de y (0mbres)"
      ]
    },
    {
      "cell_type": "code",
      "metadata": {
        "id": "ydadWBxRINgO"
      },
      "source": [
        "SospechososTodos = [True] * len(sospechosos)"
      ],
      "execution_count": 42,
      "outputs": []
    },
    {
      "cell_type": "markdown",
      "metadata": {
        "id": "U-fMPlXCINgO"
      },
      "source": [
        "### Paso 04:\n",
        "Con un loop básico, despliegue en pantalla que sospechosos hay"
      ]
    },
    {
      "cell_type": "code",
      "metadata": {
        "id": "aF9Vib8iINgO",
        "outputId": "5cfd46f4-5958-4a56-ffc6-08d227ff8f01",
        "colab": {
          "base_uri": "https://localhost:8080/"
        }
      },
      "source": [
        "def PosiblesSospechosos(x, y):\n",
        "  print(\"Sospechosos:\")\n",
        "  for i in range(len(y)):\n",
        "    if x[i]:\n",
        "      print(y[i])\n",
        "\n",
        "PosiblesSospechosos(SospechososTodos, sospechosos)"
      ],
      "execution_count": 43,
      "outputs": [
        {
          "output_type": "stream",
          "text": [
            "Sospechosos:\n",
            "Manuel\n",
            "Pedro\n",
            "Akira\n",
            "Mauricio\n",
            "Heriberto\n",
            "Yony\n",
            "Juan\n"
          ],
          "name": "stdout"
        }
      ]
    },
    {
      "cell_type": "markdown",
      "metadata": {
        "id": "Z0Ib0ad5INgP"
      },
      "source": [
        "### Paso 05:\n",
        "Empiece el interrogatorio con la primera pregunta: Tienen tatuajes en la muñeca? Hagalo definiendo una variable llamada 'pregunta1' que contenga np.where. Como pista: use la binarización deifnida en el paso 02, e inicie con una variable predefinida como TieneTatuajesEnLaMuñeca = 1"
      ]
    },
    {
      "cell_type": "code",
      "metadata": {
        "id": "NjHqd5bqINgQ",
        "outputId": "c7bf84d3-0a9c-4abc-a956-207552b4bf35",
        "colab": {
          "base_uri": "https://localhost:8080/"
        }
      },
      "source": [
        "SospechososTodos = [True] * len(sospechosos)\n",
        "\n",
        "# Tiene un tatuaje en la muñeca, No tenía perforaciones visibles, Su cabello era negro, Usaba botas, Medía más de 1.80 (aprox.), Era de tez blanca\n",
        "qs = [\"tatuaje\", \"perforaciones\", \"cabello negro\", \"botas\", \"medía más de 1.80\", \"tez blanca\"]\n",
        "questions = [1, 0, 1, 1, 1, 1]\n",
        "for i, q in enumerate(questions):\n",
        "  print(f\"Aplicando pregunta: {'Sí' if q else 'No'} {qs[i]}...\")\n",
        "  res = np.where(binaria[:, i], q, not q)\n",
        "  SospechososTodos *= res\n",
        "  if np.sum(SospechososTodos) <= 1:\n",
        "    sosp = None\n",
        "    for s in SospechososTodos:\n",
        "      if s:\n",
        "        sosp = sospechosos[s]\n",
        "        break\n",
        "    print(f\"Encontramos al sospechoso... ¡{sosp.upper()}!\" if sosp else \"Parece que se nos escapó :(\")\n",
        "    break\n",
        "  else:\n",
        "    PosiblesSospechosos(SospechososTodos, sospechosos)"
      ],
      "execution_count": 49,
      "outputs": [
        {
          "output_type": "stream",
          "text": [
            "Aplicando pregunta: Sí tatuaje...\n",
            "Sospechosos:\n",
            "Pedro\n",
            "Akira\n",
            "Mauricio\n",
            "Heriberto\n",
            "Yony\n",
            "Juan\n",
            "Aplicando pregunta: No perforaciones...\n",
            "Sospechosos:\n",
            "Pedro\n",
            "Akira\n",
            "Mauricio\n",
            "Yony\n",
            "Juan\n",
            "Aplicando pregunta: Sí cabello negro...\n",
            "Sospechosos:\n",
            "Pedro\n",
            "Akira\n",
            "Aplicando pregunta: Sí botas...\n",
            "Encontramos al sospechoso... ¡PEDRO!\n"
          ],
          "name": "stdout"
        }
      ]
    },
    {
      "cell_type": "markdown",
      "metadata": {
        "id": "GJvmY4q9INgQ"
      },
      "source": [
        "### Paso 06:\n",
        "Repita el paso 04 para ver que malhechores quedan:"
      ]
    },
    {
      "cell_type": "code",
      "metadata": {
        "id": "XWovuxt2INgR"
      },
      "source": [
        ""
      ],
      "execution_count": null,
      "outputs": []
    },
    {
      "cell_type": "markdown",
      "metadata": {
        "id": "2pwFIfxwINgR"
      },
      "source": [
        "### Paso 07:\n",
        "Continue preguntando a los inculpados: Tienen perforaciones visibles? Hagalo definiendo una variable llamada 'pregunta2' que contenga np.where. Como pista: use la binarización deifnida en el paso 02, e inicie con una variable predefinida como TienePerfos = 1... OJO, ESTA PARTE TIENE DETALLE PERO SOLO CONSTA DE INVERTIR EL ORDEN DE LOS BOOLEANS DE np.where"
      ]
    },
    {
      "cell_type": "code",
      "metadata": {
        "id": "c_dQuUcCINgR"
      },
      "source": [
        ""
      ],
      "execution_count": null,
      "outputs": []
    },
    {
      "cell_type": "markdown",
      "metadata": {
        "id": "RGj9tP7PINgR"
      },
      "source": [
        "### Paso 08:\n",
        "Repita el paso 04 y vea que malhechores quedan"
      ]
    },
    {
      "cell_type": "code",
      "metadata": {
        "id": "YM-7KD6iINgS"
      },
      "source": [
        ""
      ],
      "execution_count": null,
      "outputs": []
    },
    {
      "cell_type": "markdown",
      "metadata": {
        "id": "qZIpgda0INgS"
      },
      "source": [
        "### Paso 09:\n",
        "Haga la siguiente pregunta: ¿Su cabello era negro? Hagalo definiendo una variable llamada 'pregunta3' que contenga np.where. Como pista: use la binarización deifnida en el paso 02, e inicie con una variable predefinida como TieneCabelloNegro = 1"
      ]
    },
    {
      "cell_type": "code",
      "metadata": {
        "id": "QAEEwGZ3INgS"
      },
      "source": [
        ""
      ],
      "execution_count": null,
      "outputs": []
    },
    {
      "cell_type": "markdown",
      "metadata": {
        "id": "YR4bz_nhINgT"
      },
      "source": [
        "### Paso 09:\n",
        "Repita el paso 04 y vea que malhechores quedan"
      ]
    },
    {
      "cell_type": "code",
      "metadata": {
        "id": "ZWVDj762INgT"
      },
      "source": [
        ""
      ],
      "execution_count": null,
      "outputs": []
    },
    {
      "cell_type": "markdown",
      "metadata": {
        "id": "bTjDZLE9INgT"
      },
      "source": [
        "### Paso 10:\n",
        "Solo debe restarle 02 sospechosos. Haga la última pregunta y encuentre al último culpable: ¿Usaba boras?  Hagalo definiendo una variable llamada 'pregunta4' que contenga np.where. Como pista: use la binarización deifnida en el paso 02, e inicie con una variable predefinida como UsaBotas = 1"
      ]
    },
    {
      "cell_type": "code",
      "metadata": {
        "id": "WUP6YUHyINgT"
      },
      "source": [
        ""
      ],
      "execution_count": null,
      "outputs": []
    },
    {
      "cell_type": "markdown",
      "metadata": {
        "id": "zZPLXh2XINgU"
      },
      "source": [
        "### Paso 11:\n",
        "Repita el paso 04 y vea quien es el verdadero culpable!!!!"
      ]
    },
    {
      "cell_type": "code",
      "metadata": {
        "id": "CG22sBqKINgU"
      },
      "source": [
        ""
      ],
      "execution_count": null,
      "outputs": []
    }
  ]
}