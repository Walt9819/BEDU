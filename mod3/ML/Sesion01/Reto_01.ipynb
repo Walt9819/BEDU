{
  "nbformat": 4,
  "nbformat_minor": 0,
  "metadata": {
    "kernelspec": {
      "display_name": "Python 3",
      "language": "python",
      "name": "python3"
    },
    "language_info": {
      "codemirror_mode": {
        "name": "ipython",
        "version": 3
      },
      "file_extension": ".py",
      "mimetype": "text/x-python",
      "name": "python",
      "nbconvert_exporter": "python",
      "pygments_lexer": "ipython3",
      "version": "3.9.4"
    },
    "colab": {
      "name": "Reto 01.ipynb",
      "provenance": []
    }
  },
  "cells": [
    {
      "cell_type": "markdown",
      "metadata": {
        "id": "Iz-F_-loVQ7u"
      },
      "source": [
        "# Reto 01\n",
        "_**Dr. Antonio Arista Jalife**_\n",
        "\n",
        "En este reto hemos de particionar datos en tres grupos. ¡Utiliza tu dataset si así lo consideras!\n",
        "Para este reto utilizaré un dataset de blobs, pero tú usa el dataset que consideres útil. "
      ]
    },
    {
      "cell_type": "code",
      "metadata": {
        "collapsed": true,
        "id": "tzBE74npVQ7w",
        "outputId": "7e77be22-5e22-4482-ea75-ec9b113de11b",
        "colab": {
          "base_uri": "https://localhost:8080/"
        }
      },
      "source": [
        "import numpy as np\n",
        "from matplotlib import pyplot as plt\n",
        "from sklearn.datasets.samples_generator import make_blobs\n",
        "from sklearn.model_selection import train_test_split"
      ],
      "execution_count": 1,
      "outputs": [
        {
          "output_type": "stream",
          "text": [
            "/usr/local/lib/python3.7/dist-packages/sklearn/utils/deprecation.py:144: FutureWarning: The sklearn.datasets.samples_generator module is  deprecated in version 0.22 and will be removed in version 0.24. The corresponding classes / functions should instead be imported from sklearn.datasets. Anything that cannot be imported from sklearn.datasets is now part of the private API.\n",
            "  warnings.warn(message, FutureWarning)\n"
          ],
          "name": "stderr"
        }
      ]
    },
    {
      "cell_type": "code",
      "metadata": {
        "id": "4JNhRLkGVQ7x",
        "outputId": "72d2a79e-00e7-4a77-877a-5e0810524c88",
        "colab": {
          "base_uri": "https://localhost:8080/",
          "height": 265
        }
      },
      "source": [
        "x, y = make_blobs(n_samples=1000, centers=2, n_features=2, random_state=1)\n",
        "plt.scatter(x[:,0], x[:,1], c=y)\n",
        "plt.show()"
      ],
      "execution_count": 9,
      "outputs": [
        {
          "output_type": "display_data",
          "data": {
            "image/png": "[encoded data removed]",
            "text/plain": [
              "<Figure size 432x288 with 1 Axes>"
            ]
          },
          "metadata": {
            "tags": [],
            "needs_background": "light"
          }
        }
      ]
    },
    {
      "cell_type": "code",
      "metadata": {
        "collapsed": true,
        "id": "O1wSOtEeVQ7x"
      },
      "source": [
        "def particionar(entradas, salidas, porcentaje_entrenamiento, porcentaje_validacion, porcentaje_prueba):\n",
        "    temp_size = porcentaje_validacion + porcentaje_prueba\n",
        "    x_train, x_temp, y_train, y_temp = train_test_split(entradas, salidas, test_size =temp_size)\n",
        "    if(porcentaje_validacion > 0):\n",
        "        test_size = porcentaje_prueba/temp_size\n",
        "        x_val, x_test, y_val, y_test = train_test_split(x_temp, y_temp, test_size = test_size)\n",
        "    else:\n",
        "        return [x_train, None, x_temp, y_train, None, y_temp]\n",
        "    return [x_train, x_val, x_test, y_train, y_val, y_test]"
      ],
      "execution_count": 3,
      "outputs": []
    },
    {
      "cell_type": "code",
      "metadata": {
        "id": "PqYPBEjTVQ7y",
        "outputId": "7ab8647b-b634-40d8-9309-34432af285b2",
        "colab": {
          "base_uri": "https://localhost:8080/"
        }
      },
      "source": [
        "#Particiona en 60% entrenamiento, 10% validacion, 30% prueba\n",
        "x_train, x_val, x_test, y_train, y_val, y_test = particionar(x, y, 0.6, 0.1, 0.3)\n",
        "\n",
        "print(x_train.shape)\n",
        "print(x_val.shape)\n",
        "print(x_test.shape)"
      ],
      "execution_count": 10,
      "outputs": [
        {
          "output_type": "stream",
          "text": [
            "(600, 2)\n",
            "(100, 2)\n",
            "(300, 2)\n"
          ],
          "name": "stdout"
        }
      ]
    },
    {
      "cell_type": "code",
      "metadata": {
        "id": "fO5XltgzVQ7y",
        "outputId": "28e75009-3211-40df-f855-42735b0a3c16",
        "colab": {
          "base_uri": "https://localhost:8080/"
        }
      },
      "source": [
        "#Particionando en 70% entrenamiento, 10% validacion, 20% prueba\n",
        "x_train, x_val, x_test, y_train, y_val, y_test = particionar(x, y, 0.7, 0.1, 0.2)\n",
        "\n",
        "print(x_train.shape)\n",
        "print(x_val.shape)\n",
        "print(x_test.shape)"
      ],
      "execution_count": 11,
      "outputs": [
        {
          "output_type": "stream",
          "text": [
            "(699, 2)\n",
            "(100, 2)\n",
            "(201, 2)\n"
          ],
          "name": "stdout"
        }
      ]
    }
  ]
}