{
  "nbformat": 4,
  "nbformat_minor": 0,
  "metadata": {
    "kernelspec": {
      "display_name": "Python 3",
      "language": "python",
      "name": "python3"
    },
    "language_info": {
      "codemirror_mode": {
        "name": "ipython",
        "version": 3
      },
      "file_extension": ".py",
      "mimetype": "text/x-python",
      "name": "python",
      "nbconvert_exporter": "python",
      "pygments_lexer": "ipython3",
      "version": "3.9.4"
    },
    "colab": {
      "name": "Reto 04.ipynb",
      "provenance": []
    }
  },
  "cells": [
    {
      "cell_type": "markdown",
      "metadata": {
        "id": "vMCSiDFws2k2"
      },
      "source": [
        "# Reto 04\n",
        "***Dr. Antonio Arista Jalife***\n",
        "\n",
        "En este reto vamos a calcular accuracy, sensibilidad y especificidad, para ello, condensaré el ejemplo 4 en una sola celda, y a partir de ahí generaré el reto :) "
      ]
    },
    {
      "cell_type": "code",
      "metadata": {
        "id": "3S58qFjKs2k3",
        "outputId": "18e92e20-88a4-4931-cf36-2d5f23421935",
        "colab": {
          "base_uri": "https://localhost:8080/"
        }
      },
      "source": [
        "import numpy as np\n",
        "from sklearn.metrics import confusion_matrix\n",
        "\n",
        "y_esperados = np.array([1,1,1,1,0,0,0,0])\n",
        "y_predichos = np.array([1,0,1,0,1,0,0,0])\n",
        "resultado = confusion_matrix(y_esperados, y_predichos)\n",
        "print(resultado)\n",
        "(TN, FP, FN, TP) = resultado.ravel()\n",
        "print(\"True positives: \"+str(TP))\n",
        "print(\"True negatives: \"+str(TN))\n",
        "print(\"False positives: \"+str(FP))\n",
        "print(\"False negative: \"+str(FN))"
      ],
      "execution_count": 1,
      "outputs": [
        {
          "output_type": "stream",
          "text": [
            "[[3 1]\n",
            " [2 2]]\n",
            "True positives: 2\n",
            "True negatives: 3\n",
            "False positives: 1\n",
            "False negative: 2\n"
          ],
          "name": "stdout"
        }
      ]
    },
    {
      "cell_type": "code",
      "metadata": {
        "collapsed": true,
        "id": "Vvi3412us2k4"
      },
      "source": [
        "def calcularAccuracy(TP, TN, FP, FN):\n",
        "    acc = (TP + TN) / (TP + TN + FP + FN)\n",
        "    return acc"
      ],
      "execution_count": 2,
      "outputs": []
    },
    {
      "cell_type": "code",
      "metadata": {
        "collapsed": true,
        "id": "Hx3n5xC0s2k5"
      },
      "source": [
        "def calcularSensibilidad(TP, TN, FP, FN):\n",
        "    sensibilidad = TP / (TP + FN)\n",
        "    return sensibilidad"
      ],
      "execution_count": 3,
      "outputs": []
    },
    {
      "cell_type": "code",
      "metadata": {
        "collapsed": true,
        "id": "KPhayaPTs2k5"
      },
      "source": [
        "def calcularEspecificidad(TP, TN, FP, FN):\n",
        "    especificidad = TN / (TN + FP)\n",
        "    return especificidad"
      ],
      "execution_count": 4,
      "outputs": []
    },
    {
      "cell_type": "code",
      "metadata": {
        "id": "15k4GkdMs2k5",
        "outputId": "66935c29-301c-4195-ed8d-ecd8f8c69746",
        "colab": {
          "base_uri": "https://localhost:8080/"
        }
      },
      "source": [
        "acc = calcularAccuracy(TP, TN, FP, FN)\n",
        "sen = calcularSensibilidad(TP, TN, FP, FN)\n",
        "spec = calcularEspecificidad(TP, TN, FP, FN)\n",
        "print(\"Precision:\"+str(acc * 100)+\"%\")\n",
        "print(\"Sensibilidad:\"+str(sen * 100)+\"%\")\n",
        "print(\"Especificidad:\"+str(spec* 100)+\"%\")"
      ],
      "execution_count": 5,
      "outputs": [
        {
          "output_type": "stream",
          "text": [
            "Precision:62.5%\n",
            "Sensibilidad:50.0%\n",
            "Especificidad:75.0%\n"
          ],
          "name": "stdout"
        }
      ]
    }
  ]
}