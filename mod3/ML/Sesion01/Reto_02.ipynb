{
  "nbformat": 4,
  "nbformat_minor": 0,
  "metadata": {
    "kernelspec": {
      "display_name": "Python 3",
      "language": "python",
      "name": "python3"
    },
    "language_info": {
      "codemirror_mode": {
        "name": "ipython",
        "version": 3
      },
      "file_extension": ".py",
      "mimetype": "text/x-python",
      "name": "python",
      "nbconvert_exporter": "python",
      "pygments_lexer": "ipython3",
      "version": "3.9.4"
    },
    "colab": {
      "name": "Reto 02.ipynb",
      "provenance": []
    }
  },
  "cells": [
    {
      "cell_type": "markdown",
      "metadata": {
        "id": "mNKB9VKxgt34"
      },
      "source": [
        "# Reto 02\n",
        "***Dr. Antonio Arista***\n",
        "\n",
        "En este reto haremos K-fold de datos!\n",
        "si tienes un dataset para tu proyecto final, aprovecha para usarlo. En mi caso utilizaremos 1000 blobs. \n",
        "\n",
        "*Nota: Si vas a hacer K-fold y usarlo en la vida real, no uses un random_seed.*"
      ]
    },
    {
      "cell_type": "code",
      "metadata": {
        "collapsed": true,
        "id": "Jv0owq8Wgt35",
        "outputId": "8d08f0ea-5a66-49c7-b74b-ffea8487241b",
        "colab": {
          "base_uri": "https://localhost:8080/"
        }
      },
      "source": [
        "import numpy as np\n",
        "from sklearn.datasets.samples_generator import make_blobs\n",
        "from sklearn.model_selection import KFold"
      ],
      "execution_count": 1,
      "outputs": [
        {
          "output_type": "stream",
          "text": [
            "/usr/local/lib/python3.7/dist-packages/sklearn/utils/deprecation.py:144: FutureWarning: The sklearn.datasets.samples_generator module is  deprecated in version 0.22 and will be removed in version 0.24. The corresponding classes / functions should instead be imported from sklearn.datasets. Anything that cannot be imported from sklearn.datasets is now part of the private API.\n",
            "  warnings.warn(message, FutureWarning)\n"
          ],
          "name": "stderr"
        }
      ]
    },
    {
      "cell_type": "code",
      "metadata": {
        "id": "sQvzKpk-gt35",
        "outputId": "b9318269-15b1-41dd-d1bc-e9d00c51dca8",
        "colab": {
          "base_uri": "https://localhost:8080/"
        }
      },
      "source": [
        "x, y = make_blobs(n_samples=1000, centers=2, n_features=2)\n",
        "\n",
        "#Agrega aquí la separación adecuada: \n",
        "K = 4 # change when desired\n",
        "random_seed = 48\n",
        "aleatorio = True\n",
        "\n",
        "kfold = KFold(K, aleatorio, random_seed)\n",
        "ciclo = 1\n",
        "for indices_train, indices_test in kfold.split(x):\n",
        "    print(\"Ciclo: \"+str(ciclo))\n",
        "    \n",
        "    print(\"Usare \"+str(x[indices_train].shape)+\" datos para entrenar (entrada)\")\n",
        "    print(\"Usare \"+str(y[indices_train].shape)+\" datos para entrenar (salida)\")\n",
        "    \n",
        "    print(\"Usare \"+str(x[indices_test].shape)+\" datos para probar (entrada)\")\n",
        "    print(\"Usare \"+str(y[indices_test].shape)+\" datos para probar (salida)\")    \n",
        "    ciclo+=1"
      ],
      "execution_count": 2,
      "outputs": [
        {
          "output_type": "stream",
          "text": [
            "Ciclo: 1\n",
            "Usare (750, 2) datos para entrenar (entrada)\n",
            "Usare (750,) datos para entrenar (salida)\n",
            "Usare (250, 2) datos para probar (entrada)\n",
            "Usare (250,) datos para probar (salida)\n",
            "Ciclo: 2\n",
            "Usare (750, 2) datos para entrenar (entrada)\n",
            "Usare (750,) datos para entrenar (salida)\n",
            "Usare (250, 2) datos para probar (entrada)\n",
            "Usare (250,) datos para probar (salida)\n",
            "Ciclo: 3\n",
            "Usare (750, 2) datos para entrenar (entrada)\n",
            "Usare (750,) datos para entrenar (salida)\n",
            "Usare (250, 2) datos para probar (entrada)\n",
            "Usare (250,) datos para probar (salida)\n",
            "Ciclo: 4\n",
            "Usare (750, 2) datos para entrenar (entrada)\n",
            "Usare (750,) datos para entrenar (salida)\n",
            "Usare (250, 2) datos para probar (entrada)\n",
            "Usare (250,) datos para probar (salida)\n"
          ],
          "name": "stdout"
        }
      ]
    }
  ]
}