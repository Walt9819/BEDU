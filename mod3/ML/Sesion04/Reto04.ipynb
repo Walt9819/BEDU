{
  "nbformat": 4,
  "nbformat_minor": 0,
  "metadata": {
    "kernelspec": {
      "display_name": "Python 3",
      "language": "python",
      "name": "python3"
    },
    "language_info": {
      "codemirror_mode": {
        "name": "ipython",
        "version": 3
      },
      "file_extension": ".py",
      "mimetype": "text/x-python",
      "name": "python",
      "nbconvert_exporter": "python",
      "pygments_lexer": "ipython3",
      "version": "3.7.4"
    },
    "colab": {
      "name": "Reto 02.ipynb",
      "provenance": []
    }
  },
  "cells": [
    {
      "cell_type": "markdown",
      "metadata": {
        "id": "BMkzTRVIxL2A"
      },
      "source": [
        "# Reto 04\n",
        "\n",
        "A continuación usted va a crear un modelo de regresión lineal múltiple donde el Salario (en dólares) de unos trabajadoresestadísticos financieros n depende de su edad y las horas extra que trabajan para su empresa.\n",
        "\n",
        "Para esto, será necesario que cargue las siguientes librerías"
      ]
    },
    {
      "cell_type": "code",
      "metadata": {
        "id": "kx-hwgngxL2K"
      },
      "source": [
        "import pandas as pd\n",
        "import numpy as np\n",
        "from sklearn.linear_model import LinearRegression"
      ],
      "execution_count": 2,
      "outputs": []
    },
    {
      "cell_type": "markdown",
      "metadata": {
        "id": "X_nUmO7mxi22"
      },
      "source": [
        "## 2. cargue el csv proporcionado para la clase del día de hoy y explore brevemente los datos"
      ]
    },
    {
      "cell_type": "code",
      "metadata": {
        "id": "NpeaKXhzxiDo",
        "outputId": "5246a3cd-dd45-4866-c398-5ef82e839f4c",
        "colab": {
          "base_uri": "https://localhost:8080/",
          "height": 204
        }
      },
      "source": [
        "df = pd.read_csv(\"https://raw.githubusercontent.com/jaffotsa/sml/main/Sesi%C3%B3n%2004.%20Regresiones/Reto02/multiple-linear-regression-dataset.csv\")\n",
        "df.head()"
      ],
      "execution_count": 3,
      "outputs": [
        {
          "output_type": "execute_result",
          "data": {
            "text/html": [
              "<div>\n",
              "<style scoped>\n",
              "    .dataframe tbody tr th:only-of-type {\n",
              "        vertical-align: middle;\n",
              "    }\n",
              "\n",
              "    .dataframe tbody tr th {\n",
              "        vertical-align: top;\n",
              "    }\n",
              "\n",
              "    .dataframe thead th {\n",
              "        text-align: right;\n",
              "    }\n",
              "</style>\n",
              "<table border=\"1\" class=\"dataframe\">\n",
              "  <thead>\n",
              "    <tr style=\"text-align: right;\">\n",
              "      <th></th>\n",
              "      <th>horas_extra</th>\n",
              "      <th>Salario</th>\n",
              "      <th>edad</th>\n",
              "    </tr>\n",
              "  </thead>\n",
              "  <tbody>\n",
              "    <tr>\n",
              "      <th>0</th>\n",
              "      <td>0.5</td>\n",
              "      <td>2500</td>\n",
              "      <td>22</td>\n",
              "    </tr>\n",
              "    <tr>\n",
              "      <th>1</th>\n",
              "      <td>0.0</td>\n",
              "      <td>2250</td>\n",
              "      <td>21</td>\n",
              "    </tr>\n",
              "    <tr>\n",
              "      <th>2</th>\n",
              "      <td>1.0</td>\n",
              "      <td>2750</td>\n",
              "      <td>23</td>\n",
              "    </tr>\n",
              "    <tr>\n",
              "      <th>3</th>\n",
              "      <td>5.0</td>\n",
              "      <td>8000</td>\n",
              "      <td>25</td>\n",
              "    </tr>\n",
              "    <tr>\n",
              "      <th>4</th>\n",
              "      <td>8.0</td>\n",
              "      <td>9000</td>\n",
              "      <td>28</td>\n",
              "    </tr>\n",
              "  </tbody>\n",
              "</table>\n",
              "</div>"
            ],
            "text/plain": [
              "   horas_extra  Salario  edad\n",
              "0          0.5     2500    22\n",
              "1          0.0     2250    21\n",
              "2          1.0     2750    23\n",
              "3          5.0     8000    25\n",
              "4          8.0     9000    28"
            ]
          },
          "metadata": {
            "tags": []
          },
          "execution_count": 3
        }
      ]
    },
    {
      "cell_type": "markdown",
      "metadata": {
        "id": "lEhMlyqGxnI6"
      },
      "source": [
        "## 3. Para este ejercicio use todos los datos disponibles como training dataset. Definirá como y a la variable con Salario, y además, tendra una segunda variable igual a x como un array (no por separado) con las dos variables independientes. \n",
        "\n",
        "PISTA: haga reshape(-1,1 a Salario, su variable y), y use un .iloc de pandas para generar un índice para la variable x"
      ]
    },
    {
      "cell_type": "code",
      "metadata": {
        "id": "PSd_dGPXxrte"
      },
      "source": [
        "y = np.array(df.Salario).reshape(-1, 1)\n",
        "x = np.array(df.loc[:, [\"horas_extra\", \"edad\"]]).reshape(-1, 2)"
      ],
      "execution_count": 8,
      "outputs": []
    },
    {
      "cell_type": "markdown",
      "metadata": {
        "id": "ALr_ePR0xsby"
      },
      "source": [
        "## 4. Use regresiones para desarrollar su modelo de regresión múltiple, y haga fit en el las dos variables que creo en el paso anterior"
      ]
    },
    {
      "cell_type": "code",
      "metadata": {
        "id": "9yCd76Qdxtg-"
      },
      "source": [
        "linear = LinearRegression().fit(x, y)"
      ],
      "execution_count": 9,
      "outputs": []
    },
    {
      "cell_type": "markdown",
      "metadata": {
        "id": "1tDgFqe7xuCH"
      },
      "source": [
        "## 5. Genere una predicción de Salario cuando:\n",
        "- Primero: una persona tiene 10 horas extras de trabajo y tiene 35 años\n",
        "- Segundo: una persona tiene 5 horas de trabajo y cuenta con 20 años"
      ]
    },
    {
      "cell_type": "code",
      "metadata": {
        "id": "MwEhYbmRxxSP",
        "outputId": "92c43445-92b0-4cde-ab86-756f2ccc9195",
        "colab": {
          "base_uri": "https://localhost:8080/"
        }
      },
      "source": [
        "cases = [{\"time\": 10, \"age\": 35}, {\"time\": 5, \"age\": 20}]\n",
        "res = []\n",
        "\n",
        "for case in cases:\n",
        "  time = case[\"time\"]; age = case[\"age\"]\n",
        "  salary = linear.predict(np.array([time, age]).reshape(-1, 2))\n",
        "  res.append(salary)\n",
        "  print(f\"Horas de trabajo: {time}, edad: {age}, salario predicho: ${salary[0, 0]:.2f}\")"
      ],
      "execution_count": 24,
      "outputs": [
        {
          "output_type": "stream",
          "text": [
            "Horas de trabajo: 10, edad: 35, salario predicho: $11046.36\n",
            "Horas de trabajo: 5, edad: 20, salario predicho: $9669.69\n"
          ],
          "name": "stdout"
        }
      ]
    },
    {
      "cell_type": "markdown",
      "metadata": {
        "id": "6HfJRUkrx2kI"
      },
      "source": [
        "## 7. BONUS: Calcule la $R^2$ para este modelo de regresión múltiple"
      ]
    },
    {
      "cell_type": "code",
      "metadata": {
        "id": "ISNRpoIwx3bg",
        "outputId": "68ad31b5-f204-44f0-a8a1-da76ff5bb273",
        "colab": {
          "base_uri": "https://localhost:8080/"
        }
      },
      "source": [
        "# R squared\n",
        "r_sq = linear.score(x, y)\n",
        "print(f\"R^2: {r_sq}\")"
      ],
      "execution_count": 27,
      "outputs": [
        {
          "output_type": "stream",
          "text": [
            "R^2: 0.9818393838730447\n"
          ],
          "name": "stdout"
        }
      ]
    }
  ]
}