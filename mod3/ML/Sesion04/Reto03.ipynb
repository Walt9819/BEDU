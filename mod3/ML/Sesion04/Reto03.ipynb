{
  "nbformat": 4,
  "nbformat_minor": 0,
  "metadata": {
    "kernelspec": {
      "display_name": "Python 3",
      "language": "python",
      "name": "python3"
    },
    "language_info": {
      "codemirror_mode": {
        "name": "ipython",
        "version": 3
      },
      "file_extension": ".py",
      "mimetype": "text/x-python",
      "name": "python",
      "nbconvert_exporter": "python",
      "pygments_lexer": "ipython3",
      "version": "3.6.2"
    },
    "colab": {
      "name": "Ejemplo02.ipynb",
      "provenance": []
    }
  },
  "cells": [
    {
      "cell_type": "markdown",
      "metadata": {
        "id": "-PWauybKhsq3"
      },
      "source": [
        "# Data\n",
        "\n",
        "**Productividad marginal**: Cómo varía la productividad al aumentar una unidad de trabajo (por ejemplo cuántas casa más si agrego un nuevo albañil)"
      ]
    },
    {
      "cell_type": "code",
      "metadata": {
        "collapsed": true,
        "id": "JUExcZ4ahsq9"
      },
      "source": [
        "import pandas as pd\n",
        "import numpy as np\n",
        "import matplotlib.pyplot as plt\n",
        "from sklearn.preprocessing import PolynomialFeatures\n",
        "from sklearn.linear_model import LinearRegression"
      ],
      "execution_count": 12,
      "outputs": []
    },
    {
      "cell_type": "code",
      "metadata": {
        "collapsed": true,
        "id": "a1sQnDpqhsq-",
        "outputId": "83cfa982-0662-451e-902a-c6936c0bd1f7",
        "colab": {
          "base_uri": "https://localhost:8080/",
          "height": 204
        }
      },
      "source": [
        "df = pd.read_csv(\"https://raw.githubusercontent.com/jaffotsa/sml/main/Sesi%C3%B3n%2004.%20Regresiones/Ejercicio03/polynomial-regression.csv\")\n",
        "df.head(5)"
      ],
      "execution_count": 3,
      "outputs": [
        {
          "output_type": "execute_result",
          "data": {
            "text/html": [
              "<div>\n",
              "<style scoped>\n",
              "    .dataframe tbody tr th:only-of-type {\n",
              "        vertical-align: middle;\n",
              "    }\n",
              "\n",
              "    .dataframe tbody tr th {\n",
              "        vertical-align: top;\n",
              "    }\n",
              "\n",
              "    .dataframe thead th {\n",
              "        text-align: right;\n",
              "    }\n",
              "</style>\n",
              "<table border=\"1\" class=\"dataframe\">\n",
              "  <thead>\n",
              "    <tr style=\"text-align: right;\">\n",
              "      <th></th>\n",
              "      <th>numero_de_trabajadores</th>\n",
              "      <th>productividad_marginal</th>\n",
              "    </tr>\n",
              "  </thead>\n",
              "  <tbody>\n",
              "    <tr>\n",
              "      <th>0</th>\n",
              "      <td>60</td>\n",
              "      <td>180</td>\n",
              "    </tr>\n",
              "    <tr>\n",
              "      <th>1</th>\n",
              "      <td>70</td>\n",
              "      <td>180</td>\n",
              "    </tr>\n",
              "    <tr>\n",
              "      <th>2</th>\n",
              "      <td>80</td>\n",
              "      <td>200</td>\n",
              "    </tr>\n",
              "    <tr>\n",
              "      <th>3</th>\n",
              "      <td>100</td>\n",
              "      <td>200</td>\n",
              "    </tr>\n",
              "    <tr>\n",
              "      <th>4</th>\n",
              "      <td>120</td>\n",
              "      <td>200</td>\n",
              "    </tr>\n",
              "  </tbody>\n",
              "</table>\n",
              "</div>"
            ],
            "text/plain": [
              "   numero_de_trabajadores  productividad_marginal\n",
              "0                      60                     180\n",
              "1                      70                     180\n",
              "2                      80                     200\n",
              "3                     100                     200\n",
              "4                     120                     200"
            ]
          },
          "metadata": {
            "tags": []
          },
          "execution_count": 3
        }
      ]
    },
    {
      "cell_type": "code",
      "metadata": {
        "id": "gbL0tz9eiLNJ",
        "outputId": "c7419234-ddc9-4a9e-bac2-d2af7715e319",
        "colab": {
          "base_uri": "https://localhost:8080/",
          "height": 282
        }
      },
      "source": [
        "x = np.array(df.numero_de_trabajadores).reshape(-1, 1)\n",
        "y = np.array(df.productividad_marginal).reshape(-1, 1)\n",
        "plt.scatter(x, y)"
      ],
      "execution_count": 14,
      "outputs": [
        {
          "output_type": "execute_result",
          "data": {
            "text/plain": [
              "<matplotlib.collections.PathCollection at 0x7fdb21319d50>"
            ]
          },
          "metadata": {
            "tags": []
          },
          "execution_count": 14
        },
        {
          "output_type": "display_data",
          "data": {
            "image/png": "[encoded data removed]",
            "text/plain": [
              "<Figure size 432x288 with 1 Axes>"
            ]
          },
          "metadata": {
            "tags": [],
            "needs_background": "light"
          }
        }
      ]
    },
    {
      "cell_type": "markdown",
      "metadata": {
        "id": "GzyzxlsjjsnP"
      },
      "source": [
        "## Regresión polinomial\n",
        "\n",
        "$Y = b_0 + b_1 x^n + \\epsilon, n \\in \\mathbb N$ y $\\epsilon$ es ruido blanco."
      ]
    },
    {
      "cell_type": "code",
      "metadata": {
        "id": "qHfGXTcnjuav"
      },
      "source": [
        "square_regression = PolynomialFeatures(degree=2) # create square model\n",
        "x_polynomial = square_regression.fit_transform(x, y) # fit with data"
      ],
      "execution_count": 15,
      "outputs": []
    },
    {
      "cell_type": "code",
      "metadata": {
        "id": "9YWc9EUmlxaP"
      },
      "source": [
        ""
      ],
      "execution_count": null,
      "outputs": []
    },
    {
      "cell_type": "markdown",
      "metadata": {
        "id": "O3N7MMQSmhV0"
      },
      "source": [
        "# Reto 03"
      ]
    },
    {
      "cell_type": "code",
      "metadata": {
        "id": "rb12XcIFnLI8"
      },
      "source": [
        "import pandas as pd\n",
        "import numpy as np\n",
        "import seaborn as sns\n",
        "import matplotlib.pyplot as plt"
      ],
      "execution_count": 17,
      "outputs": []
    },
    {
      "cell_type": "markdown",
      "metadata": {
        "id": "acHJ-DZ3mldM"
      },
      "source": [
        "## 1. Importe el dataset. Para este ejercicio no deberá partir entre dataset de entrenamiento\n",
        "# y prueba"
      ]
    },
    {
      "cell_type": "code",
      "metadata": {
        "id": "Ju0YibnymjTZ",
        "outputId": "154cfedb-bb6b-4cd2-a4f3-a925983ff4a3",
        "colab": {
          "base_uri": "https://localhost:8080/",
          "height": 204
        }
      },
      "source": [
        "df = pd.read_csv(\"https://raw.githubusercontent.com/jaffotsa/sml/main/Sesi%C3%B3n%2004.%20Regresiones/Reto03/Position_Salaries.csv\")\n",
        "df.head()"
      ],
      "execution_count": 18,
      "outputs": [
        {
          "output_type": "execute_result",
          "data": {
            "text/html": [
              "<div>\n",
              "<style scoped>\n",
              "    .dataframe tbody tr th:only-of-type {\n",
              "        vertical-align: middle;\n",
              "    }\n",
              "\n",
              "    .dataframe tbody tr th {\n",
              "        vertical-align: top;\n",
              "    }\n",
              "\n",
              "    .dataframe thead th {\n",
              "        text-align: right;\n",
              "    }\n",
              "</style>\n",
              "<table border=\"1\" class=\"dataframe\">\n",
              "  <thead>\n",
              "    <tr style=\"text-align: right;\">\n",
              "      <th></th>\n",
              "      <th>Position</th>\n",
              "      <th>Level</th>\n",
              "      <th>Salary</th>\n",
              "    </tr>\n",
              "  </thead>\n",
              "  <tbody>\n",
              "    <tr>\n",
              "      <th>0</th>\n",
              "      <td>Business Analyst</td>\n",
              "      <td>1</td>\n",
              "      <td>45000</td>\n",
              "    </tr>\n",
              "    <tr>\n",
              "      <th>1</th>\n",
              "      <td>Junior Consultant</td>\n",
              "      <td>2</td>\n",
              "      <td>50000</td>\n",
              "    </tr>\n",
              "    <tr>\n",
              "      <th>2</th>\n",
              "      <td>Senior Consultant</td>\n",
              "      <td>3</td>\n",
              "      <td>60000</td>\n",
              "    </tr>\n",
              "    <tr>\n",
              "      <th>3</th>\n",
              "      <td>Manager</td>\n",
              "      <td>4</td>\n",
              "      <td>80000</td>\n",
              "    </tr>\n",
              "    <tr>\n",
              "      <th>4</th>\n",
              "      <td>Country Manager</td>\n",
              "      <td>5</td>\n",
              "      <td>110000</td>\n",
              "    </tr>\n",
              "  </tbody>\n",
              "</table>\n",
              "</div>"
            ],
            "text/plain": [
              "            Position  Level  Salary\n",
              "0   Business Analyst      1   45000\n",
              "1  Junior Consultant      2   50000\n",
              "2  Senior Consultant      3   60000\n",
              "3            Manager      4   80000\n",
              "4    Country Manager      5  110000"
            ]
          },
          "metadata": {
            "tags": []
          },
          "execution_count": 18
        }
      ]
    },
    {
      "cell_type": "code",
      "metadata": {
        "id": "RxPoQpwCnf7G"
      },
      "source": [
        "x = np.array(df[\"Level\"]).reshape(-1, 1)\n",
        "y = np.array(df[\"Salary\"]).reshape(-1, 1)"
      ],
      "execution_count": 19,
      "outputs": []
    },
    {
      "cell_type": "code",
      "metadata": {
        "id": "udZZDnr7npw9",
        "outputId": "31ef5d37-2c96-46ed-c89c-870c680ff6df",
        "colab": {
          "base_uri": "https://localhost:8080/",
          "height": 290
        }
      },
      "source": [
        "plt.plot(x, y);\n",
        "plt.xlabel(\"Level\"); plt.ylabel(\"Salary\");"
      ],
      "execution_count": 22,
      "outputs": [
        {
          "output_type": "display_data",
          "data": {
            "image/png": "[encoded data removed]",
            "text/plain": [
              "<Figure size 432x288 with 1 Axes>"
            ]
          },
          "metadata": {
            "tags": [],
            "needs_background": "light"
          }
        }
      ]
    },
    {
      "cell_type": "markdown",
      "metadata": {
        "id": "Z25GgTEWmqGz"
      },
      "source": [
        "## 2. Haga una regresión lineal con los datos x e y ajustados.\n",
        "\n",
        "\n",
        "### 2.5 Visualice su regresión lineal"
      ]
    },
    {
      "cell_type": "code",
      "metadata": {
        "id": "oUGns3h2mscO"
      },
      "source": [
        "from sklearn.linear_model import LinearRegression\n",
        "\n",
        "linear = LinearRegression()\n",
        "linear = linear.fit(x, y)"
      ],
      "execution_count": 23,
      "outputs": []
    },
    {
      "cell_type": "code",
      "metadata": {
        "id": "KhVs7vYloIH9",
        "outputId": "a5a969ec-5fbc-4db1-e13f-b9da6a7706af",
        "colab": {
          "base_uri": "https://localhost:8080/",
          "height": 293
        }
      },
      "source": [
        "plt.scatter(x, y, label=\"Data\")\n",
        "plt.plot(x, linear.predict(x), label=\"Prediction\", color=\"orange\")"
      ],
      "execution_count": 29,
      "outputs": [
        {
          "output_type": "execute_result",
          "data": {
            "text/plain": [
              "[<matplotlib.lines.Line2D at 0x7fdb204f26d0>]"
            ]
          },
          "metadata": {
            "tags": []
          },
          "execution_count": 29
        },
        {
          "output_type": "display_data",
          "data": {
            "image/png": "[encoded data removed]",
            "text/plain": [
              "<Figure size 432x288 with 1 Axes>"
            ]
          },
          "metadata": {
            "tags": [],
            "needs_background": "light"
          }
        }
      ]
    },
    {
      "cell_type": "markdown",
      "metadata": {
        "id": "XOw8IEdYmtDi"
      },
      "source": [
        "## 3. Desarrolle su modelo de regresión polinomial (nota: use from sklearn.preprocessing import PolynomialFeatures\n",
        "\n",
        "Después use PolynomialFeatures con el argumento de degree experimentando distintos grados, para ello puede ir graficando su regreisón estimada, hasta llegar a la que haga mejor ajuste visualmente. Tambien use su_regresion.fit_transform('su variable x'))"
      ]
    },
    {
      "cell_type": "code",
      "metadata": {
        "id": "wgESoXBQm17d",
        "outputId": "1d8c6145-bcb6-459b-808d-c538fc1a739c",
        "colab": {
          "base_uri": "https://localhost:8080/",
          "height": 499
        }
      },
      "source": [
        "from sklearn.preprocessing import PolynomialFeatures\n",
        "\n",
        "fig, axs = plt.subplots(2, 3, figsize=(12, 8))\n",
        "axs = axs.ravel()\n",
        "\n",
        "for i in range(6):\n",
        "  reg = PolynomialFeatures(degree=i+1).fit(x, y)\n",
        "  axs[i].scatter(x, y)\n",
        "  axs[i].plot(x, np.sum(reg.fit_transform(x), axis=1), color='orange')\n",
        "  axs[i].set_title(f\"Degree: {i+1}\")"
      ],
      "execution_count": 61,
      "outputs": [
        {
          "output_type": "display_data",
          "data": {
            "image/png": "[encoded data removed]",
            "text/plain": [
              "<Figure size 864x576 with 6 Axes>"
            ]
          },
          "metadata": {
            "tags": [],
            "needs_background": "light"
          }
        }
      ]
    },
    {
      "cell_type": "markdown",
      "metadata": {
        "id": "qGN69w12m2gN"
      },
      "source": [
        "## 4. Visualice su regresión no lineal"
      ]
    },
    {
      "cell_type": "code",
      "metadata": {
        "id": "Tl_NtnFRm37w"
      },
      "source": [
        ""
      ],
      "execution_count": null,
      "outputs": []
    },
    {
      "cell_type": "markdown",
      "metadata": {
        "id": "Fg5WDyOWm4Wx"
      },
      "source": [
        "## 5. Genere una predicción con la regresion lineal para la posición laboral 12 con lin_reg.predict, y ahora genere una con la no lineal.\n",
        "\n",
        "(CONSEJO SALVA VIDAS:  se hace con la misma base de la regreison lineal pero agregue .suRegresionNoLineal.fit_transform)"
      ]
    },
    {
      "cell_type": "code",
      "metadata": {
        "id": "KuqU5SdCm5Q3",
        "outputId": "6201f0aa-53f1-45fd-a899-e4bef64ef058",
        "colab": {
          "base_uri": "https://localhost:8080/"
        }
      },
      "source": [
        "x_pred = np.array([12]).reshape(-1, 1)\n",
        "lin_pred = linear.predict(x_pred)\n",
        "non_lin = PolynomialFeatures(degree=6).fit(x, y).fit_transform(x_pred)\n",
        "\n",
        "print(f\"Linear: {lin_pred}, 6 degree polinomial {np.sum(non_lin, axis=1)}\")"
      ],
      "execution_count": 62,
      "outputs": [
        {
          "output_type": "stream",
          "text": [
            "Linear: [[775212.12121212]], 6 degree polinomial [3257437.]\n"
          ],
          "name": "stdout"
        }
      ]
    },
    {
      "cell_type": "markdown",
      "metadata": {
        "id": "zLIYEqKrm52d"
      },
      "source": [
        "# 6. BONUS: Visualice su regresión no lineal con una suavización de la recta"
      ]
    },
    {
      "cell_type": "code",
      "metadata": {
        "id": "i1TvZ_0Cm6KR"
      },
      "source": [
        ""
      ],
      "execution_count": null,
      "outputs": []
    }
  ]
}